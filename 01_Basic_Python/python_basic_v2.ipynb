{
 "cells": [
  {
   "cell_type": "code",
   "execution_count": null,
   "id": "fefec1d5-b8e7-4eb8-8080-a426f408d524",
   "metadata": {},
   "outputs": [],
   "source": []
  },
  {
   "cell_type": "markdown",
   "id": "e7c9d4fc-4f7b-47da-b013-aa1d0cfa595a",
   "metadata": {},
   "source": [
    "<div>\n",
    "    <h1>Introduction to Python</h1>\n",
    "</div>\n",
    "<p>This notebook covers the basics of Python: variables, data types, loops, and functions.</p>\n",
    "<p>\n",
    "    Python has several built-in data types:\n",
    "    <ul>\n",
    "        <li><strong>Integers</strong>: Whole numbers (e.g., 1, 20, 100)</li>\n",
    "        <li><strong>Floats</strong>: Decimal numbers (e.g., 1.5, 3.09)</li>\n",
    "        <li><strong>Strings</strong>: Text data (e.g., \"Hello, World!\")</li>\n",
    "        <li><strong>Lists</strong>: Ordered collections of values (e.g., [\"Tehran\", \"Shiraz\", \"Yazd\"])</li>\n",
    "        <li><strong>Dictionaries</strong>: Key-value pairs (e.g., {\"Iran\": 90, \"Turkey\": 60, \"Germany\": 80})</li>\n",
    "        <li><strong>Tuples</strong>: Immutable ordered collections (e.g., (3, 5, 6, 8))</li>\n",
    "    </ul>\n",
    "</p>\n"
   ]
  },
  {
   "cell_type": "markdown",
   "id": "f4a63865-b90f-4d79-ac16-2c4ab8022399",
   "metadata": {},
   "source": [
    "<p>In Python, we work with different <strong>data types</strong> (such as integers, strings, lists, and dictionaries).  \n",
    "Each data type comes with its own <strong>functions</strong>, <strong>methods</strong>, and <strong>properties</strong>.  \n",
    "\n",
    "- **Functions** are general tools we can use on many objects (e.g., `len()` gives the length of a list or a string).  \n",
    "- **Methods** are actions that belong to a specific data type (e.g., `\"hello\".upper()` is a method for strings).  \n",
    "- **Properties/Attributes** are characteristics of an object (for example, the shape of a NumPy array or the dtype of a Pandas Series).  \n",
    "\n",
    "This means that every dataset or object in Python can have its own specific behaviors depending on its type.\n",
    "</p>"
   ]
  },
  {
   "cell_type": "markdown",
   "id": "633a6b4b-fd0b-4f4a-8626-ff25d4ad2894",
   "metadata": {},
   "source": [
    "<div>\n",
    "    <h2>1. operations in python</h2>\n",
    "</div>"
   ]
  },
  {
   "cell_type": "markdown",
   "id": "0378558c-3bf6-4d37-a917-76b73358426b",
   "metadata": {},
   "source": [
    "<div>\n",
    "    <h3>1.1 Math operations</h3>\n",
    "</div>"
   ]
  },
  {
   "cell_type": "code",
   "execution_count": 6,
   "id": "5fe21a12-7aa5-4b09-8cff-4acd91f84801",
   "metadata": {
    "scrolled": true
   },
   "outputs": [
    {
     "name": "stdout",
     "output_type": "stream",
     "text": [
      "13\n",
      "7\n",
      "30\n",
      "3.3333333333333335\n",
      "3\n",
      "1\n",
      "1000\n"
     ]
    }
   ],
   "source": [
    "a = 10\n",
    "b = 3\n",
    "\n",
    "print(a + b)  # Addition → 13\n",
    "print(a - b)  # Subtraction → 7\n",
    "print(a * b)  # Multiplication → 30\n",
    "print(a / b)  # Division → 3.3333...\n",
    "print(a // b) # Floor division → 3\n",
    "print(a % b)  # Modulus → 1\n",
    "print(a ** b) # Exponentiation (10^3) → 1000\n"
   ]
  },
  {
   "cell_type": "markdown",
   "id": "ba97a856-14e9-4497-b65c-c1722b46e544",
   "metadata": {},
   "source": [
    "<div>\n",
    "    <h3>1.2 Rational operations</h3>\n",
    "</div>"
   ]
  },
  {
   "cell_type": "code",
   "execution_count": 9,
   "id": "8babc92c-3acb-4356-a4e5-a7fd3ad59c87",
   "metadata": {},
   "outputs": [
    {
     "name": "stdout",
     "output_type": "stream",
     "text": [
      "True\n"
     ]
    }
   ],
   "source": [
    "a = 13\n",
    "b = 33\n",
    "print(a<b)"
   ]
  },
  {
   "cell_type": "code",
   "execution_count": 11,
   "id": "d9a4d53a-4c59-4dc7-9204-a5d105b0a352",
   "metadata": {},
   "outputs": [
    {
     "name": "stdout",
     "output_type": "stream",
     "text": [
      "False\n"
     ]
    }
   ],
   "source": [
    "print(a>b)"
   ]
  },
  {
   "cell_type": "code",
   "execution_count": 13,
   "id": "b277b506-3d53-4d29-826b-626ff7ef53a0",
   "metadata": {},
   "outputs": [
    {
     "name": "stdout",
     "output_type": "stream",
     "text": [
      "False\n"
     ]
    }
   ],
   "source": [
    "print(a == b)"
   ]
  },
  {
   "cell_type": "code",
   "execution_count": 15,
   "id": "5add94fc-9380-40cb-802b-fc1e88379174",
   "metadata": {},
   "outputs": [
    {
     "name": "stdout",
     "output_type": "stream",
     "text": [
      "True\n"
     ]
    }
   ],
   "source": [
    "print(a != b)"
   ]
  },
  {
   "cell_type": "code",
   "execution_count": 17,
   "id": "febc58ca-397c-47f2-b804-cf9459f2ac13",
   "metadata": {},
   "outputs": [
    {
     "name": "stdout",
     "output_type": "stream",
     "text": [
      "True\n"
     ]
    }
   ],
   "source": [
    "print(a<=b)"
   ]
  },
  {
   "cell_type": "code",
   "execution_count": 19,
   "id": "147ff299-54d8-4845-bb36-b675b114c1ca",
   "metadata": {},
   "outputs": [
    {
     "name": "stdout",
     "output_type": "stream",
     "text": [
      "False\n"
     ]
    }
   ],
   "source": [
    "print(a>=b)"
   ]
  },
  {
   "cell_type": "markdown",
   "id": "a31f3625-44f7-4619-9997-6d2bedd7fb7a",
   "metadata": {},
   "source": [
    "<div>\n",
    "    <h3>1.3 Logical operations</h3>\n",
    "</div>"
   ]
  },
  {
   "cell_type": "code",
   "execution_count": 22,
   "id": "52ba61c1-bad6-4cb4-b71e-35211b0c1e0b",
   "metadata": {},
   "outputs": [],
   "source": [
    "a = True\n",
    "b = False"
   ]
  },
  {
   "cell_type": "code",
   "execution_count": 24,
   "id": "ab78c48b-55ba-40dd-9b19-d16902afd0e1",
   "metadata": {},
   "outputs": [
    {
     "name": "stdout",
     "output_type": "stream",
     "text": [
      "False\n"
     ]
    }
   ],
   "source": [
    "print(a and b)"
   ]
  },
  {
   "cell_type": "code",
   "execution_count": 26,
   "id": "b4c75b01-c04d-42c2-97ee-ebc7008f96bc",
   "metadata": {},
   "outputs": [
    {
     "name": "stdout",
     "output_type": "stream",
     "text": [
      "True\n"
     ]
    }
   ],
   "source": [
    "print(a or b)"
   ]
  },
  {
   "cell_type": "code",
   "execution_count": 28,
   "id": "5fc7d8b2-65e9-4ea3-8130-28c58cd55bc2",
   "metadata": {},
   "outputs": [
    {
     "name": "stdout",
     "output_type": "stream",
     "text": [
      "False\n"
     ]
    }
   ],
   "source": [
    "print(not a)"
   ]
  },
  {
   "cell_type": "code",
   "execution_count": 30,
   "id": "6a646a0a-6e0a-4bf0-9ed0-157ca9d1cc4a",
   "metadata": {},
   "outputs": [
    {
     "data": {
      "text/plain": [
       "2"
      ]
     },
     "execution_count": 30,
     "metadata": {},
     "output_type": "execute_result"
    }
   ],
   "source": [
    "True + True"
   ]
  },
  {
   "cell_type": "code",
   "execution_count": 32,
   "id": "6a8753e4-54c3-4290-8f07-84c8c06918f5",
   "metadata": {},
   "outputs": [
    {
     "data": {
      "text/plain": [
       "1"
      ]
     },
     "execution_count": 32,
     "metadata": {},
     "output_type": "execute_result"
    }
   ],
   "source": [
    "True + False"
   ]
  },
  {
   "cell_type": "markdown",
   "id": "ed3abe38-cb3a-42bb-b830-4d9d84b73056",
   "metadata": {},
   "source": [
    "<div>\n",
    "    <h3>1.4 Assignment operations</h3>\n",
    "</div>"
   ]
  },
  {
   "cell_type": "code",
   "execution_count": 35,
   "id": "d4038027-c5ff-415e-b109-4e870fb175fe",
   "metadata": {},
   "outputs": [
    {
     "data": {
      "text/plain": [
       "-5"
      ]
     },
     "execution_count": 35,
     "metadata": {},
     "output_type": "execute_result"
    }
   ],
   "source": [
    "a = 10\n",
    "b = 5\n",
    "b -= a\n",
    "b"
   ]
  },
  {
   "cell_type": "code",
   "execution_count": 37,
   "id": "d10a1c6c-510c-48f2-919d-65448e103f9f",
   "metadata": {},
   "outputs": [
    {
     "data": {
      "text/plain": [
       "15"
      ]
     },
     "execution_count": 37,
     "metadata": {},
     "output_type": "execute_result"
    }
   ],
   "source": [
    "c = 10\n",
    "d = 5\n",
    "d+=c\n",
    "d"
   ]
  },
  {
   "cell_type": "code",
   "execution_count": 39,
   "id": "d5b61428-6306-460b-8c7e-90cab595333a",
   "metadata": {},
   "outputs": [
    {
     "data": {
      "text/plain": [
       "150"
      ]
     },
     "execution_count": 39,
     "metadata": {},
     "output_type": "execute_result"
    }
   ],
   "source": [
    "d *=c\n",
    "d"
   ]
  },
  {
   "cell_type": "markdown",
   "id": "46f30b77-8dba-4350-89b2-b17647c20809",
   "metadata": {},
   "source": [
    "<div>\n",
    "    <h2>2. Python Data Types</h2>\n",
    "</div>"
   ]
  },
  {
   "cell_type": "markdown",
   "id": "cd178b37-7c06-44d3-9000-7a4f57a2dbb4",
   "metadata": {},
   "source": [
    "<div>\n",
    "    <h3>2.1 String</h3>\n",
    "</div>"
   ]
  },
  {
   "cell_type": "code",
   "execution_count": 43,
   "id": "1979e298-ec11-443d-9832-23261ac74a14",
   "metadata": {},
   "outputs": [
    {
     "data": {
      "text/plain": [
       "6"
      ]
     },
     "execution_count": 43,
     "metadata": {},
     "output_type": "execute_result"
    }
   ],
   "source": [
    "#String Functions\n",
    "x = 'python' #returns the length of the string\n",
    "len(x)"
   ]
  },
  {
   "cell_type": "code",
   "execution_count": 45,
   "id": "0450d725-726f-4a16-85d0-5054ad46454b",
   "metadata": {},
   "outputs": [],
   "source": [
    "x = 100  #converts an object to string\n",
    "x = str(x)"
   ]
  },
  {
   "cell_type": "code",
   "execution_count": 47,
   "id": "5ab0e0a9-7645-407a-b580-261ccde0f745",
   "metadata": {},
   "outputs": [
    {
     "data": {
      "text/plain": [
       "str"
      ]
     },
     "execution_count": 47,
     "metadata": {},
     "output_type": "execute_result"
    }
   ],
   "source": [
    "type(x)"
   ]
  },
  {
   "cell_type": "code",
   "execution_count": 49,
   "id": "bc12547c-3207-4cbe-9040-2523fd209703",
   "metadata": {},
   "outputs": [],
   "source": [
    "#String Methods"
   ]
  },
  {
   "cell_type": "markdown",
   "id": "fe455b9b-dd7e-4a13-92cd-fc238df5a799",
   "metadata": {},
   "source": [
    "| Method | Description | Example | Output |\n",
    "|--------|-------------|---------|--------|\n",
    "| `upper()` | Converts the string to uppercase. | `\"hello\".upper()` | `\"HELLO\"` |\n",
    "| `lower()` | Converts the string to lowercase. | `\"HELLO\".lower()` | `\"hello\"` |\n",
    "| `title()` | Capitalizes the first letter of each word. | `\"hello world\".title()` | `\"Hello World\"` |\n",
    "| `capitalize()` | Capitalizes the first letter of the string. | `\"python\".capitalize()` | `\"Python\"` |\n",
    "| `strip()` | Removes leading and trailing whitespace. | `\"  hello  \".strip()` | `\"hello\"` |\n",
    "| `lstrip()` | Removes leading whitespace. | `\"  hello  \".lstrip()` | `\"hello  \"` |\n",
    "| `rstrip()` | Removes trailing whitespace. | `\"  hello  \".rstrip()` | `\"  hello\"` |\n",
    "| `replace(old, new)` | Replaces occurrences of `old` with `new`. | `\"hello world\".replace(\"world\", \"Python\")` | `\"hello Python\"` |\n",
    "| `split(separator)` | Splits the string into a list. | `\"apple,banana,grape\".split(\",\")` | `['apple', 'banana', 'grape']` |\n",
    "| `join(iterable)` | Joins elements of an iterable into a string. | `\"-\".join([\"a\", \"b\", \"c\"])` | `\"a-b-c\"` |\n",
    "| `find(substring)` | Returns the index of the first occurrence of `substring`. | `\"hello\".find(\"l\")` | `2` |\n",
    "| `index(substring)` | Same as `find()`, but raises an error if not found. | `\"hello\".index(\"l\")` | `2` |\n",
    "| `count(substring)` | Counts occurrences of `substring`. | `\"banana\".count(\"a\")` | `3` |\n",
    "| `startswith(prefix)` | Checks if the string starts with `prefix`. | `\"hello\".startswith(\"he\")` | `True` |\n",
    "| `endswith(suffix)` | Checks if the string ends with `suffix`. | `\"hello\".endswith(\"o\")` | `True` |\n",
    "| `isdigit()` | Checks if the string consists only of digits. | `\"123\".isdigit()` | `True` |\n",
    "| `isalpha()` | Checks if the string consists only of letters. | `\"hello\".isalpha()` | `True` |\n",
    "| `isalnum()` | Checks if the string consists only of letters and digits. | `\"hello123\".isalnum()` | `True` |\n",
    "| `isspace()` | Checks if the string consists only of whitespace. | `\"   \".isspace()` | `True` |\n",
    "| `swapcase()` | Swaps uppercase and lowercase letters. | `\"Hello\".swapcase()` | `\"hELLO\"` |\n",
    "| `zfill(width)` | Pads the string with zeros until it reaches `width` length. | `\"42\".zfill(5)` | `\"00042\"` |\n"
   ]
  },
  {
   "cell_type": "code",
   "execution_count": 58,
   "id": "4248f745-d50c-419d-a681-0bd17150b243",
   "metadata": {},
   "outputs": [
    {
     "data": {
      "text/plain": [
       "'HELLO, WORLD!'"
      ]
     },
     "execution_count": 58,
     "metadata": {},
     "output_type": "execute_result"
    }
   ],
   "source": [
    "string = 'Hello, World!'\n",
    "string.upper()"
   ]
  },
  {
   "cell_type": "code",
   "execution_count": 60,
   "id": "6d7bdec0-91f9-42c5-b482-8601867df825",
   "metadata": {},
   "outputs": [
    {
     "data": {
      "text/plain": [
       "'hello, world!'"
      ]
     },
     "execution_count": 60,
     "metadata": {},
     "output_type": "execute_result"
    }
   ],
   "source": [
    "string.lower()"
   ]
  },
  {
   "cell_type": "code",
   "execution_count": 62,
   "id": "bf3530c5-e9aa-453b-a037-7e8dd4204087",
   "metadata": {},
   "outputs": [
    {
     "data": {
      "text/plain": [
       "'Hello, World!'"
      ]
     },
     "execution_count": 62,
     "metadata": {},
     "output_type": "execute_result"
    }
   ],
   "source": [
    "string.title()"
   ]
  },
  {
   "cell_type": "code",
   "execution_count": 64,
   "id": "ee4af2b6-4cdb-453e-8203-a810478cab90",
   "metadata": {},
   "outputs": [
    {
     "data": {
      "text/plain": [
       "'Hello, world!'"
      ]
     },
     "execution_count": 64,
     "metadata": {},
     "output_type": "execute_result"
    }
   ],
   "source": [
    "string.capitalize()"
   ]
  },
  {
   "cell_type": "code",
   "execution_count": 66,
   "id": "bb8162e3-3baa-4caa-99d1-db77ff05488c",
   "metadata": {},
   "outputs": [
    {
     "data": {
      "text/plain": [
       "'Hello, World!'"
      ]
     },
     "execution_count": 66,
     "metadata": {},
     "output_type": "execute_result"
    }
   ],
   "source": [
    "string2 = ' Hello! world     '\n",
    "string.strip('')"
   ]
  },
  {
   "cell_type": "code",
   "execution_count": 68,
   "id": "46cb31b5-3a32-4704-a04f-77630219f14f",
   "metadata": {},
   "outputs": [
    {
     "data": {
      "text/plain": [
       "'Hello! world     '"
      ]
     },
     "execution_count": 68,
     "metadata": {},
     "output_type": "execute_result"
    }
   ],
   "source": [
    "string2.lstrip()"
   ]
  },
  {
   "cell_type": "code",
   "execution_count": 70,
   "id": "abafa1d3-984e-49f0-9b10-6e822c22168d",
   "metadata": {},
   "outputs": [
    {
     "data": {
      "text/plain": [
       "'hi, World!'"
      ]
     },
     "execution_count": 70,
     "metadata": {},
     "output_type": "execute_result"
    }
   ],
   "source": [
    "string.replace('Hello','hi')"
   ]
  },
  {
   "cell_type": "code",
   "execution_count": 72,
   "id": "30a7f5db-42f1-48c4-928e-b59e3383bda5",
   "metadata": {},
   "outputs": [
    {
     "data": {
      "text/plain": [
       "['Hello', ' World!']"
      ]
     },
     "execution_count": 72,
     "metadata": {},
     "output_type": "execute_result"
    }
   ],
   "source": [
    "string.split(',')"
   ]
  },
  {
   "cell_type": "code",
   "execution_count": 74,
   "id": "16847fdd-0d48-4e8a-8eda-406c7ad43134",
   "metadata": {},
   "outputs": [
    {
     "data": {
      "text/plain": [
       "0"
      ]
     },
     "execution_count": 74,
     "metadata": {},
     "output_type": "execute_result"
    }
   ],
   "source": [
    "string.index('H')"
   ]
  },
  {
   "cell_type": "code",
   "execution_count": 76,
   "id": "571d890d-6f6c-4980-948c-ebeb33a3a485",
   "metadata": {},
   "outputs": [
    {
     "data": {
      "text/plain": [
       "3"
      ]
     },
     "execution_count": 76,
     "metadata": {},
     "output_type": "execute_result"
    }
   ],
   "source": [
    "string.count('l')"
   ]
  },
  {
   "cell_type": "markdown",
   "id": "242ba20f-e646-46f3-b0b8-512c2b4ddbcb",
   "metadata": {},
   "source": [
    "<div>\n",
    "     <h3> 2.2 Lists </h3>\n",
    "</div>"
   ]
  },
  {
   "cell_type": "code",
   "execution_count": 79,
   "id": "e29c3be6-e2d7-418d-9cf6-16c8a674d128",
   "metadata": {},
   "outputs": [
    {
     "data": {
      "text/plain": [
       "5"
      ]
     },
     "execution_count": 79,
     "metadata": {},
     "output_type": "execute_result"
    }
   ],
   "source": [
    "list1 = ['apple','banana','Orange', 'Strawberry', 'Mango']\n",
    "len(list1)"
   ]
  },
  {
   "cell_type": "code",
   "execution_count": 81,
   "id": "4d62bb9f-6bea-4a1e-a89a-e5d9263ee319",
   "metadata": {},
   "outputs": [
    {
     "data": {
      "text/plain": [
       "[0, 1, 2, 3, 4, 5, 6, 7, 8, 9]"
      ]
     },
     "execution_count": 81,
     "metadata": {},
     "output_type": "execute_result"
    }
   ],
   "source": [
    "list2 = [1,4,2,8,3,5,9, 6,7,0]\n",
    "sorted(list2)"
   ]
  },
  {
   "cell_type": "code",
   "execution_count": 83,
   "id": "4010e12f-1388-4424-877f-d8f86a1082a5",
   "metadata": {},
   "outputs": [
    {
     "data": {
      "text/plain": [
       "9"
      ]
     },
     "execution_count": 83,
     "metadata": {},
     "output_type": "execute_result"
    }
   ],
   "source": [
    "max(list2)"
   ]
  },
  {
   "cell_type": "markdown",
   "id": "ca96b39a-7712-43eb-af23-265e01bebb22",
   "metadata": {},
   "source": [
    "| Method                  | Description                                                    | Example               |\n",
    "|-------------------------|----------------------------------------------------------------|-----------------------|\n",
    "| `append(x)`             | Adds item `x` to the end of the list.                         | `lst.append(5)`       |\n",
    "| `extend(iterable)`      | Extends the list by appending elements from an iterable.       | `lst.extend([6, 7])`  |\n",
    "| `insert(i, x)`          | Inserts item `x` at position `i`.                             | `lst.insert(1, 5)`    |\n",
    "| `remove(x)`             | Removes the first occurrence of item `x`.                     | `lst.remove(5)`       |\n",
    "| `pop([i])`              | Removes and returns the item at position `i`.                 | `lst.pop(2)`          |\n",
    "| `clear()`               | Removes all items from the list.                              | `lst.clear()`         |\n",
    "| `index(x[, start, end])`| Returns the index of the first occurrence of item `x`.        | `lst.index(3)`        |\n",
    "| `count(x)`              | Returns the number of occurrences of item `x`.                | `lst.count(3)`        |\n",
    "| `sort(key, reverse)`    | Sorts the list in ascending order.                            | `lst.sort(reverse=True)`|\n",
    "| `reverse()`             | Reverses the elements of the list in place.                   | `lst.reverse()`       |\n",
    "| `copy()`                | Returns a shallow copy of the list.                           | `lst_copy = lst.copy()`|\n",
    "| `join()`                | Joins the elements of a list of strings into one string.      | `\", \".join(lst)`      |"
   ]
  },
  {
   "cell_type": "code",
   "execution_count": 86,
   "id": "4b7a932b-4228-4331-9c35-27d54f72ecb3",
   "metadata": {},
   "outputs": [
    {
     "data": {
      "text/plain": [
       "[1, 2, 3, 4]"
      ]
     },
     "execution_count": 86,
     "metadata": {},
     "output_type": "execute_result"
    }
   ],
   "source": [
    "# Creating a list\n",
    "lst = [1, 2, 3, 4]\n",
    "lst"
   ]
  },
  {
   "cell_type": "code",
   "execution_count": 88,
   "id": "098eebdd-98da-48cc-841b-bf182beca4fd",
   "metadata": {},
   "outputs": [
    {
     "data": {
      "text/plain": [
       "[1, 2, 3, 4, 5]"
      ]
     },
     "execution_count": 88,
     "metadata": {},
     "output_type": "execute_result"
    }
   ],
   "source": [
    "# append() - Adds an element to the end\n",
    "lst.append(5)\n",
    "lst"
   ]
  },
  {
   "cell_type": "code",
   "execution_count": 90,
   "id": "ca66812d-db9a-4d77-b2fc-d76ecde7041f",
   "metadata": {},
   "outputs": [
    {
     "data": {
      "text/plain": [
       "[1, 2, 3, 4, 5, 6, 7]"
      ]
     },
     "execution_count": 90,
     "metadata": {},
     "output_type": "execute_result"
    }
   ],
   "source": [
    "# extend() - Adds multiple elements\n",
    "lst.extend([6, 7])  \n",
    "lst"
   ]
  },
  {
   "cell_type": "code",
   "execution_count": 92,
   "id": "982094d6-218c-499b-a988-aaaea8163c8a",
   "metadata": {},
   "outputs": [
    {
     "data": {
      "text/plain": [
       "[1, 2, 10, 3, 4, 5, 6, 7]"
      ]
     },
     "execution_count": 92,
     "metadata": {},
     "output_type": "execute_result"
    }
   ],
   "source": [
    "# insert() - Inserts an element at a specific index\n",
    "lst.insert(2, 10) \n",
    "lst"
   ]
  },
  {
   "cell_type": "code",
   "execution_count": 94,
   "id": "da28897d-b70c-4dbc-bec4-ce9486f44b41",
   "metadata": {},
   "outputs": [],
   "source": [
    "# remove() - Removes the first occurrence of an element\n",
    "lst.remove(10)"
   ]
  },
  {
   "cell_type": "code",
   "execution_count": 96,
   "id": "ae6b9af2-9eed-4ddb-abc6-c4aa6b1fe58f",
   "metadata": {},
   "outputs": [
    {
     "data": {
      "text/plain": [
       "2"
      ]
     },
     "execution_count": 96,
     "metadata": {},
     "output_type": "execute_result"
    }
   ],
   "source": [
    "# pop() - Removes and returns an element (default is last element)\n",
    "removed_item = lst.pop(1) \n",
    "removed_item"
   ]
  },
  {
   "cell_type": "code",
   "execution_count": 98,
   "id": "65d666aa-2b8b-41d8-9834-370c5bcfc99e",
   "metadata": {},
   "outputs": [],
   "source": [
    "lst.clear() "
   ]
  },
  {
   "cell_type": "code",
   "execution_count": 100,
   "id": "7323bb65-3a43-4952-a402-56017006cdb0",
   "metadata": {},
   "outputs": [
    {
     "data": {
      "text/plain": [
       "[]"
      ]
     },
     "execution_count": 100,
     "metadata": {},
     "output_type": "execute_result"
    }
   ],
   "source": [
    "lst"
   ]
  },
  {
   "cell_type": "code",
   "execution_count": 102,
   "id": "069b1438-af50-491f-a3ac-eee42d0c3637",
   "metadata": {},
   "outputs": [
    {
     "data": {
      "text/plain": [
       "2"
      ]
     },
     "execution_count": 102,
     "metadata": {},
     "output_type": "execute_result"
    }
   ],
   "source": [
    "lst = [1, 2, 3, 4]\n",
    "index_of_3 = lst.index(3)\n",
    "index_of_3"
   ]
  },
  {
   "cell_type": "code",
   "execution_count": 104,
   "id": "aea8f392-cc08-436d-a240-0a1cfb1ad4eb",
   "metadata": {},
   "outputs": [
    {
     "data": {
      "text/plain": [
       "1"
      ]
     },
     "execution_count": 104,
     "metadata": {},
     "output_type": "execute_result"
    }
   ],
   "source": [
    "# count() - Counts occurrences of an element\n",
    "lst.count(3)"
   ]
  },
  {
   "cell_type": "code",
   "execution_count": 106,
   "id": "628d48b4-e5c8-4f60-a910-107d08764ffa",
   "metadata": {},
   "outputs": [],
   "source": [
    "# sort() - Sorts the list in ascending order\n",
    "lst = [4, 1, 3, 2]\n",
    "lst.sort() "
   ]
  },
  {
   "cell_type": "code",
   "execution_count": 108,
   "id": "a2e0628c-9c71-40e2-9327-e3fbb608adfb",
   "metadata": {},
   "outputs": [
    {
     "data": {
      "text/plain": [
       "[1, 2, 3, 4]"
      ]
     },
     "execution_count": 108,
     "metadata": {},
     "output_type": "execute_result"
    }
   ],
   "source": [
    "lst"
   ]
  },
  {
   "cell_type": "code",
   "execution_count": 110,
   "id": "bb543f48-5787-4d7d-a8cb-6862adc2f5a7",
   "metadata": {},
   "outputs": [
    {
     "data": {
      "text/plain": [
       "[4, 3, 2, 1]"
      ]
     },
     "execution_count": 110,
     "metadata": {},
     "output_type": "execute_result"
    }
   ],
   "source": [
    "# reverse() - Reverses the order of the list\n",
    "lst.reverse()\n",
    "lst"
   ]
  },
  {
   "cell_type": "code",
   "execution_count": 112,
   "id": "6bb38c84-18b6-4aae-b3d8-3033159c6549",
   "metadata": {},
   "outputs": [],
   "source": [
    "# copy() - Creates a copy of the list\n",
    "lst_copy = lst.copy() "
   ]
  },
  {
   "cell_type": "code",
   "execution_count": 114,
   "id": "030968fa-8d33-4e82-8627-facf1ceb39aa",
   "metadata": {},
   "outputs": [
    {
     "data": {
      "text/plain": [
       "'Python is fun'"
      ]
     },
     "execution_count": 114,
     "metadata": {},
     "output_type": "execute_result"
    }
   ],
   "source": [
    "words = [\"Python\", \"is\", \"fun\"]\n",
    "sentence = \" \".join(words)\n",
    "sentence"
   ]
  },
  {
   "cell_type": "code",
   "execution_count": 116,
   "id": "f2c2914e-60b0-469f-8003-e937f409a646",
   "metadata": {},
   "outputs": [
    {
     "data": {
      "text/plain": [
       "['Python', 'is', 'fun']"
      ]
     },
     "execution_count": 116,
     "metadata": {},
     "output_type": "execute_result"
    }
   ],
   "source": [
    "words"
   ]
  },
  {
   "cell_type": "code",
   "execution_count": 118,
   "id": "4356c82b-c17b-4f09-a92f-e04e785bb61e",
   "metadata": {},
   "outputs": [],
   "source": [
    "#Selecting in Lists\n",
    "list = [1, 2, 3, 4, 5, 6, 7, 8, 9, 19, 11, 12, 14, 19, 20]"
   ]
  },
  {
   "cell_type": "code",
   "execution_count": 120,
   "id": "c52d563d-edce-4bf3-8cc7-cc5e234a7f40",
   "metadata": {},
   "outputs": [
    {
     "data": {
      "text/plain": [
       "2"
      ]
     },
     "execution_count": 120,
     "metadata": {},
     "output_type": "execute_result"
    }
   ],
   "source": [
    "list[1]"
   ]
  },
  {
   "cell_type": "code",
   "execution_count": 122,
   "id": "49a7eb89-79b7-4a7a-a36d-a4dd9d1b8a4e",
   "metadata": {},
   "outputs": [
    {
     "data": {
      "text/plain": [
       "[1, 2, 3, 4, 5]"
      ]
     },
     "execution_count": 122,
     "metadata": {},
     "output_type": "execute_result"
    }
   ],
   "source": [
    "list[:5]"
   ]
  },
  {
   "cell_type": "code",
   "execution_count": 124,
   "id": "94985f3f-ea3f-4ac2-96b8-7d4f39b994f5",
   "metadata": {},
   "outputs": [
    {
     "data": {
      "text/plain": [
       "int"
      ]
     },
     "execution_count": 124,
     "metadata": {},
     "output_type": "execute_result"
    }
   ],
   "source": [
    "zz = list[-1]\n",
    "type(zz)"
   ]
  },
  {
   "cell_type": "code",
   "execution_count": 126,
   "id": "ab0d5613-ed80-4e05-aea0-9ac123cd0c6e",
   "metadata": {},
   "outputs": [
    {
     "data": {
      "text/plain": [
       "[2, 4]"
      ]
     },
     "execution_count": 126,
     "metadata": {},
     "output_type": "execute_result"
    }
   ],
   "source": [
    "#list[start:stop:step]\n",
    "list[1:5:2]"
   ]
  },
  {
   "cell_type": "code",
   "execution_count": 128,
   "id": "2caa14d4-9045-49d4-9bbd-846248c4e47c",
   "metadata": {},
   "outputs": [
    {
     "data": {
      "text/plain": [
       "list"
      ]
     },
     "execution_count": 128,
     "metadata": {},
     "output_type": "execute_result"
    }
   ],
   "source": [
    "list2 =[[1, 2, 3],\n",
    "       [4, 5, 6],\n",
    "       [7, 8, 9]]\n",
    "jj = list2[0]\n",
    "type(jj)"
   ]
  },
  {
   "cell_type": "code",
   "execution_count": 130,
   "id": "6f80593d-9ea7-4c2a-ac78-31373a3dcddf",
   "metadata": {},
   "outputs": [
    {
     "data": {
      "text/plain": [
       "2"
      ]
     },
     "execution_count": 130,
     "metadata": {},
     "output_type": "execute_result"
    }
   ],
   "source": [
    "list2[0][1]"
   ]
  },
  {
   "cell_type": "code",
   "execution_count": 132,
   "id": "6865ef9c-3804-4b69-ae8e-bc73e1cc9065",
   "metadata": {},
   "outputs": [
    {
     "data": {
      "text/plain": [
       "[1, 2, 3]"
      ]
     },
     "execution_count": 132,
     "metadata": {},
     "output_type": "execute_result"
    }
   ],
   "source": [
    "min(list2)"
   ]
  },
  {
   "cell_type": "code",
   "execution_count": 134,
   "id": "1a3ee3d2-a227-4070-b97a-591c297a5251",
   "metadata": {},
   "outputs": [
    {
     "data": {
      "text/plain": [
       "140"
      ]
     },
     "execution_count": 134,
     "metadata": {},
     "output_type": "execute_result"
    }
   ],
   "source": [
    "sum(list)"
   ]
  },
  {
   "cell_type": "code",
   "execution_count": 136,
   "id": "3d8b8ce8-7dfe-4cc8-ac02-89734eb1d28b",
   "metadata": {},
   "outputs": [
    {
     "data": {
      "text/plain": [
       "3"
      ]
     },
     "execution_count": 136,
     "metadata": {},
     "output_type": "execute_result"
    }
   ],
   "source": [
    "len(list2)"
   ]
  },
  {
   "cell_type": "code",
   "execution_count": 138,
   "id": "593d94c7-7df6-48fd-919f-5e2e54b71cdd",
   "metadata": {},
   "outputs": [
    {
     "data": {
      "text/plain": [
       "True"
      ]
     },
     "execution_count": 138,
     "metadata": {},
     "output_type": "execute_result"
    }
   ],
   "source": [
    "2 in list"
   ]
  },
  {
   "cell_type": "code",
   "execution_count": 140,
   "id": "5481f033-ce97-462f-9585-816b6ca9ee66",
   "metadata": {},
   "outputs": [
    {
     "data": {
      "text/plain": [
       "[0, 1, 4, 9, 16, 25]"
      ]
     },
     "execution_count": 140,
     "metadata": {},
     "output_type": "execute_result"
    }
   ],
   "source": [
    "list3 = [x**2 for x in range(6)]\n",
    "list3"
   ]
  },
  {
   "cell_type": "code",
   "execution_count": 142,
   "id": "420d4595-b84d-4c1b-ac6d-3028ac878b06",
   "metadata": {},
   "outputs": [],
   "source": [
    "numbers = [10, 20, 30, 40, 50]"
   ]
  },
  {
   "cell_type": "code",
   "execution_count": 144,
   "id": "81209f2f-5302-4c55-970c-8ee264bc7589",
   "metadata": {},
   "outputs": [
    {
     "data": {
      "text/plain": [
       "50"
      ]
     },
     "execution_count": 144,
     "metadata": {},
     "output_type": "execute_result"
    }
   ],
   "source": [
    "max(numbers)"
   ]
  },
  {
   "cell_type": "code",
   "execution_count": 146,
   "id": "41ebecc9-e357-4ef7-b21a-d02313216d0f",
   "metadata": {},
   "outputs": [
    {
     "data": {
      "text/plain": [
       "150"
      ]
     },
     "execution_count": 146,
     "metadata": {},
     "output_type": "execute_result"
    }
   ],
   "source": [
    "sum(numbers)"
   ]
  },
  {
   "cell_type": "code",
   "execution_count": 148,
   "id": "ff91895d-af6d-46dd-8e50-762575d5c47a",
   "metadata": {},
   "outputs": [
    {
     "data": {
      "text/plain": [
       "2"
      ]
     },
     "execution_count": 148,
     "metadata": {},
     "output_type": "execute_result"
    }
   ],
   "source": [
    "list4 = [1,2,3,4,5,6,7]\n",
    "list4[1]"
   ]
  },
  {
   "cell_type": "code",
   "execution_count": 150,
   "id": "2eea580f-1aea-4b04-a7c0-3995daeef080",
   "metadata": {},
   "outputs": [
    {
     "data": {
      "text/plain": [
       "[1, 100, 3, 4, 5, 6, 7]"
      ]
     },
     "execution_count": 150,
     "metadata": {},
     "output_type": "execute_result"
    }
   ],
   "source": [
    "list4[1] = 100\n",
    "list4"
   ]
  },
  {
   "cell_type": "code",
   "execution_count": 152,
   "id": "8179025b-946c-4714-a553-b75e12b4a64a",
   "metadata": {},
   "outputs": [
    {
     "data": {
      "text/plain": [
       "[101, 102, 3, 4, 5, 6, 7]"
      ]
     },
     "execution_count": 152,
     "metadata": {},
     "output_type": "execute_result"
    }
   ],
   "source": [
    "list4[0:2] = [101,102]\n",
    "list4"
   ]
  },
  {
   "cell_type": "code",
   "execution_count": 154,
   "id": "cb6c434e-df46-4bbe-a311-e3f994f56da3",
   "metadata": {},
   "outputs": [
    {
     "data": {
      "text/plain": [
       "[101, 102, 3, 4, 5, 6, 7, 8, 9, 10]"
      ]
     },
     "execution_count": 154,
     "metadata": {},
     "output_type": "execute_result"
    }
   ],
   "source": [
    "list5 = [8,9,10]\n",
    "list4 + list5"
   ]
  },
  {
   "cell_type": "code",
   "execution_count": 156,
   "id": "4f0e5dc2-bad0-43c0-9e5b-970539d74152",
   "metadata": {},
   "outputs": [],
   "source": [
    "del list4[1]"
   ]
  },
  {
   "cell_type": "code",
   "execution_count": 158,
   "id": "6a24106b-78d7-4050-a9ef-b37c46197f72",
   "metadata": {},
   "outputs": [
    {
     "data": {
      "text/plain": [
       "[101, 3, 4, 5, 6, 7]"
      ]
     },
     "execution_count": 158,
     "metadata": {},
     "output_type": "execute_result"
    }
   ],
   "source": [
    "list4"
   ]
  },
  {
   "cell_type": "code",
   "execution_count": 160,
   "id": "3a1dbaf0-5baf-421b-af18-dc00c86b7e45",
   "metadata": {},
   "outputs": [
    {
     "data": {
      "text/plain": [
       "[101, 3, 4, 5, 6, 7]"
      ]
     },
     "execution_count": 160,
     "metadata": {},
     "output_type": "execute_result"
    }
   ],
   "source": [
    "list4"
   ]
  },
  {
   "cell_type": "code",
   "execution_count": 162,
   "id": "e78be35b-c86a-43b9-98b5-64c58cbeef39",
   "metadata": {},
   "outputs": [
    {
     "data": {
      "text/plain": [
       "[2, 3, 4, 5, 6, 7]"
      ]
     },
     "execution_count": 162,
     "metadata": {},
     "output_type": "execute_result"
    }
   ],
   "source": [
    "list4[0] = 2\n",
    "list4"
   ]
  },
  {
   "cell_type": "markdown",
   "id": "76116893-4fb7-4cbe-899c-14ca59fba5d2",
   "metadata": {},
   "source": [
    "<div>\n",
    "    <h4>\"The problem with lists is that we cannot directly perform mathematical operations on them. To handle numerical computations efficiently, we can use arrays instead. We'll work on that later.\"\n",
    "    </h4>\n",
    "</div>"
   ]
  },
  {
   "cell_type": "code",
   "execution_count": 165,
   "id": "8a9aef63-0abf-4a42-8579-c536ace92d0e",
   "metadata": {},
   "outputs": [
    {
     "data": {
      "text/plain": [
       "[10, 20, 30, 40, 50, 10, 20, 30, 40, 50]"
      ]
     },
     "execution_count": 165,
     "metadata": {},
     "output_type": "execute_result"
    }
   ],
   "source": [
    "numbers *2"
   ]
  },
  {
   "cell_type": "markdown",
   "id": "374641cf-f81d-4ea1-88c9-f19fcfda6ae3",
   "metadata": {},
   "source": [
    "<div>\n",
    "    <h3>\n",
    "        2.3 Dictionary\n",
    "    </h3>\n",
    "</div>"
   ]
  },
  {
   "cell_type": "code",
   "execution_count": 168,
   "id": "eeed38d0-5087-49f5-a8fc-49329d4f21a8",
   "metadata": {},
   "outputs": [],
   "source": [
    "data = {\"name\": \"Alice\", \"age\": 25, 'weight': 53, 'height': 167}"
   ]
  },
  {
   "cell_type": "code",
   "execution_count": 170,
   "id": "95a0fa27-8a99-441d-a4f1-afcde7ae3eae",
   "metadata": {},
   "outputs": [
    {
     "data": {
      "text/plain": [
       "dict_keys(['name', 'age', 'weight', 'height'])"
      ]
     },
     "execution_count": 170,
     "metadata": {},
     "output_type": "execute_result"
    }
   ],
   "source": [
    "data.keys()        # Returns dict_keys(['name', 'age'])"
   ]
  },
  {
   "cell_type": "code",
   "execution_count": 172,
   "id": "0fe9bd24-2881-494a-ab58-1fa58d8c7d81",
   "metadata": {},
   "outputs": [
    {
     "data": {
      "text/plain": [
       "dict_values(['Alice', 25, 53, 167])"
      ]
     },
     "execution_count": 172,
     "metadata": {},
     "output_type": "execute_result"
    }
   ],
   "source": [
    "data.values()      # Returns dict_values(['Alice', 25])"
   ]
  },
  {
   "cell_type": "code",
   "execution_count": 174,
   "id": "60bd3277-696c-4442-bd67-b93aa9cf3fff",
   "metadata": {},
   "outputs": [
    {
     "data": {
      "text/plain": [
       "dict_items([('name', 'Alice'), ('age', 25), ('weight', 53), ('height', 167)])"
      ]
     },
     "execution_count": 174,
     "metadata": {},
     "output_type": "execute_result"
    }
   ],
   "source": [
    "data.items()       # Returns dict_items([('name', 'Alice'), ('age', 25)])"
   ]
  },
  {
   "cell_type": "code",
   "execution_count": 176,
   "id": "c8eb85e5-17e3-4c65-91ec-4c5233158139",
   "metadata": {},
   "outputs": [
    {
     "data": {
      "text/plain": [
       "'Alice'"
      ]
     },
     "execution_count": 176,
     "metadata": {},
     "output_type": "execute_result"
    }
   ],
   "source": [
    "data.get(\"name\")   # Get value of key → \"Alice\""
   ]
  },
  {
   "cell_type": "code",
   "execution_count": 178,
   "id": "d7281ce4-0bd1-4aa4-9282-8475a95215bf",
   "metadata": {},
   "outputs": [],
   "source": [
    "data.update({\"city\": \"Berlin\"})  # Adds new key-value pair"
   ]
  },
  {
   "cell_type": "code",
   "execution_count": 180,
   "id": "f9982044-09de-4f7a-9431-5bf90804e03f",
   "metadata": {},
   "outputs": [
    {
     "data": {
      "text/plain": [
       "{'name': 'Alice', 'age': 25, 'weight': 53, 'height': 167, 'city': 'Berlin'}"
      ]
     },
     "execution_count": 180,
     "metadata": {},
     "output_type": "execute_result"
    }
   ],
   "source": [
    "data"
   ]
  },
  {
   "cell_type": "code",
   "execution_count": 182,
   "id": "5ec08209-468c-4e47-8aff-447208ca2354",
   "metadata": {},
   "outputs": [
    {
     "data": {
      "text/plain": [
       "25"
      ]
     },
     "execution_count": 182,
     "metadata": {},
     "output_type": "execute_result"
    }
   ],
   "source": [
    "data.pop(\"age\")    # Removes key \"age\""
   ]
  },
  {
   "cell_type": "code",
   "execution_count": 184,
   "id": "eff8ba86-67a0-49ed-ab96-05c1ee3ae620",
   "metadata": {},
   "outputs": [
    {
     "data": {
      "text/plain": [
       "{'name': 'Alice', 'weight': 53, 'height': 167, 'city': 'Berlin'}"
      ]
     },
     "execution_count": 184,
     "metadata": {},
     "output_type": "execute_result"
    }
   ],
   "source": [
    "data"
   ]
  },
  {
   "cell_type": "markdown",
   "id": "ad251e39-de2c-4539-917c-0702c2ed4444",
   "metadata": {},
   "source": [
    "<div>\n",
    "    <h2>\n",
    "        3. Import libraries\n",
    "    </h2>\n",
    "</div>"
   ]
  },
  {
   "cell_type": "markdown",
   "id": "364a0f95-d262-46e4-aee4-259403f9d2cf",
   "metadata": {},
   "source": [
    "<div>\n",
    "    <h2> 3.1 Numpy </h2>\n",
    "</div>"
   ]
  },
  {
   "cell_type": "markdown",
   "id": "e5d3ee96-e1e1-4862-aac1-8ae59d16b2db",
   "metadata": {},
   "source": [
    "<div>\n",
    "    <h4>\n",
    "        The NumPy (numpy) library is used in Python for efficient numerical computing. It provides powerful tools for working with arrays, matrices, and mathematical operations.\n",
    "    </h4>\n",
    "</div>"
   ]
  },
  {
   "cell_type": "code",
   "execution_count": 189,
   "id": "5c1e7463-323c-4dfc-a293-260f5616a701",
   "metadata": {},
   "outputs": [],
   "source": [
    "import numpy as np"
   ]
  },
  {
   "cell_type": "code",
   "execution_count": 191,
   "id": "964ba33e-8aac-4d9c-ac41-1c5e987f3c4f",
   "metadata": {},
   "outputs": [
    {
     "data": {
      "text/plain": [
       "array([1, 2, 3, 4, 5, 5, 6])"
      ]
     },
     "execution_count": 191,
     "metadata": {},
     "output_type": "execute_result"
    }
   ],
   "source": [
    "np.array([1,2,3,4,5,5,6])"
   ]
  },
  {
   "cell_type": "code",
   "execution_count": 193,
   "id": "65280009-fb8b-4954-a76e-af9cf986df50",
   "metadata": {},
   "outputs": [],
   "source": [
    "weight = np.array([67, 72, 89, 90])"
   ]
  },
  {
   "cell_type": "code",
   "execution_count": 195,
   "id": "04a6268e-aa93-4523-8fae-d03bc03e1ab9",
   "metadata": {},
   "outputs": [
    {
     "data": {
      "text/plain": [
       "array([134, 144, 178, 180])"
      ]
     },
     "execution_count": 195,
     "metadata": {},
     "output_type": "execute_result"
    }
   ],
   "source": [
    "weight *2"
   ]
  },
  {
   "cell_type": "code",
   "execution_count": 197,
   "id": "d9a5644d-5ea3-4d3e-bb59-6f718a0a5ab7",
   "metadata": {},
   "outputs": [
    {
     "data": {
      "text/plain": [
       "array([[3, 5, 6, 7],\n",
       "       [6, 7, 8, 9],\n",
       "       [7, 8, 9, 1]])"
      ]
     },
     "execution_count": 197,
     "metadata": {},
     "output_type": "execute_result"
    }
   ],
   "source": [
    "y = np.array ([[3,5,6,7],\n",
    "               [6,7,8,9],\n",
    "               [7,8,9,1]])\n",
    "y"
   ]
  },
  {
   "cell_type": "code",
   "execution_count": 199,
   "id": "91531a75-1e6f-4996-a55b-4444fe0cdf17",
   "metadata": {},
   "outputs": [
    {
     "data": {
      "text/plain": [
       "array([6, 7, 8, 9])"
      ]
     },
     "execution_count": 199,
     "metadata": {},
     "output_type": "execute_result"
    }
   ],
   "source": [
    "y[1]"
   ]
  },
  {
   "cell_type": "code",
   "execution_count": 201,
   "id": "082abd16-eb69-449f-a894-a9776d72cdd9",
   "metadata": {},
   "outputs": [
    {
     "data": {
      "text/plain": [
       "7"
      ]
     },
     "execution_count": 201,
     "metadata": {},
     "output_type": "execute_result"
    }
   ],
   "source": [
    "y[2][0]"
   ]
  },
  {
   "cell_type": "code",
   "execution_count": 203,
   "id": "fcb4a030-b054-4672-a8b8-d0f116d9086a",
   "metadata": {},
   "outputs": [
    {
     "data": {
      "text/plain": [
       "array([[6, 7],\n",
       "       [8, 9]])"
      ]
     },
     "execution_count": 203,
     "metadata": {},
     "output_type": "execute_result"
    }
   ],
   "source": [
    "y[0:2,2:]\n",
    "# y[rows, columns]"
   ]
  },
  {
   "cell_type": "code",
   "execution_count": 205,
   "id": "7b6f015b-1d0e-4535-a781-1f6900c1a68a",
   "metadata": {},
   "outputs": [
    {
     "data": {
      "text/plain": [
       "array([[False, False, False,  True],\n",
       "       [False,  True,  True,  True],\n",
       "       [ True,  True,  True, False]])"
      ]
     },
     "execution_count": 205,
     "metadata": {},
     "output_type": "execute_result"
    }
   ],
   "source": [
    "y > 6"
   ]
  },
  {
   "cell_type": "code",
   "execution_count": 207,
   "id": "ff20b7da-d4ae-4969-b086-f508a1eafaff",
   "metadata": {},
   "outputs": [
    {
     "data": {
      "text/plain": [
       "0.6964691855978616"
      ]
     },
     "execution_count": 207,
     "metadata": {},
     "output_type": "execute_result"
    }
   ],
   "source": [
    "np.random.seed(123)\n",
    "np.random.rand()"
   ]
  },
  {
   "cell_type": "code",
   "execution_count": 209,
   "id": "3015ed88-82a6-48e7-aa5d-d4f9f7448a67",
   "metadata": {},
   "outputs": [
    {
     "data": {
      "text/plain": [
       "numpy.ndarray"
      ]
     },
     "execution_count": 209,
     "metadata": {},
     "output_type": "execute_result"
    }
   ],
   "source": [
    "type(y)"
   ]
  },
  {
   "cell_type": "code",
   "execution_count": 211,
   "id": "a187c236-65f2-49b1-a7d9-a6d85b91df4c",
   "metadata": {},
   "outputs": [
    {
     "data": {
      "text/plain": [
       "array([[1, 2, 3],\n",
       "       [4, 5, 6]])"
      ]
     },
     "execution_count": 211,
     "metadata": {},
     "output_type": "execute_result"
    }
   ],
   "source": [
    "arr = np.array([[1, 2, 3],[4, 5, 6]])\n",
    "arr"
   ]
  },
  {
   "cell_type": "code",
   "execution_count": 213,
   "id": "f43d2785-f66e-43da-b227-d718330d2ad6",
   "metadata": {},
   "outputs": [
    {
     "data": {
      "text/plain": [
       "(2, 3)"
      ]
     },
     "execution_count": 213,
     "metadata": {},
     "output_type": "execute_result"
    }
   ],
   "source": [
    "# Basic Properties of NumPy Arrays\n",
    "arr.shape"
   ]
  },
  {
   "cell_type": "code",
   "execution_count": 215,
   "id": "75de4a3e-10ec-4bea-a0a5-b9582b0b824f",
   "metadata": {},
   "outputs": [
    {
     "data": {
      "text/plain": [
       "2"
      ]
     },
     "execution_count": 215,
     "metadata": {},
     "output_type": "execute_result"
    }
   ],
   "source": [
    "arr.ndim"
   ]
  },
  {
   "cell_type": "code",
   "execution_count": 217,
   "id": "6939da65-ded2-4fc7-9c95-41b2af742327",
   "metadata": {},
   "outputs": [
    {
     "data": {
      "text/plain": [
       "6"
      ]
     },
     "execution_count": 217,
     "metadata": {},
     "output_type": "execute_result"
    }
   ],
   "source": [
    "arr.size"
   ]
  },
  {
   "cell_type": "code",
   "execution_count": 219,
   "id": "51d1aa8d-c3bf-487d-a75d-140b62bbe1b6",
   "metadata": {},
   "outputs": [
    {
     "data": {
      "text/plain": [
       "dtype('int64')"
      ]
     },
     "execution_count": 219,
     "metadata": {},
     "output_type": "execute_result"
    }
   ],
   "source": [
    "arr.dtype"
   ]
  },
  {
   "cell_type": "code",
   "execution_count": 221,
   "id": "c6fb0406-08ad-4874-afd5-639ba0765ab6",
   "metadata": {},
   "outputs": [
    {
     "data": {
      "text/plain": [
       "8"
      ]
     },
     "execution_count": 221,
     "metadata": {},
     "output_type": "execute_result"
    }
   ],
   "source": [
    "arr.itemsize"
   ]
  },
  {
   "cell_type": "code",
   "execution_count": 223,
   "id": "36f997cb-40fb-429d-9ec9-fae9ee0867a3",
   "metadata": {},
   "outputs": [
    {
     "data": {
      "text/plain": [
       "array([[1, 4],\n",
       "       [2, 5],\n",
       "       [3, 6]])"
      ]
     },
     "execution_count": 223,
     "metadata": {},
     "output_type": "execute_result"
    }
   ],
   "source": [
    "arr.T"
   ]
  },
  {
   "cell_type": "code",
   "execution_count": 225,
   "id": "971260e0-54bb-4c60-b850-1fdab04492be",
   "metadata": {},
   "outputs": [
    {
     "data": {
      "text/plain": [
       "48"
      ]
     },
     "execution_count": 225,
     "metadata": {},
     "output_type": "execute_result"
    }
   ],
   "source": [
    "arr.nbytes"
   ]
  },
  {
   "cell_type": "markdown",
   "id": "b1490539-c59b-4d57-82fd-1bf1b7318360",
   "metadata": {},
   "source": [
    "<div>\n",
    "    <h2> Basic Properties of NumPy Arrays Methods \n",
    "    </h2>\n",
    "</div>"
   ]
  },
  {
   "cell_type": "code",
   "execution_count": 228,
   "id": "f8237af4-6eb2-4e91-aaba-b1b49859c100",
   "metadata": {},
   "outputs": [
    {
     "data": {
      "text/plain": [
       "array([[1, 2, 3, 4],\n",
       "       [5, 6, 7, 8]])"
      ]
     },
     "execution_count": 228,
     "metadata": {},
     "output_type": "execute_result"
    }
   ],
   "source": [
    "#Array Manipulation Methods\n",
    "arr2 = np.array([[1, 2, 3, 4],[5, 6, 7, 8]])\n",
    "arr2"
   ]
  },
  {
   "cell_type": "code",
   "execution_count": 230,
   "id": "eba19d78-9ab8-4ee0-8996-24c61d71dc88",
   "metadata": {},
   "outputs": [
    {
     "data": {
      "text/plain": [
       "array([[1, 2],\n",
       "       [3, 4],\n",
       "       [5, 6],\n",
       "       [7, 8]])"
      ]
     },
     "execution_count": 230,
     "metadata": {},
     "output_type": "execute_result"
    }
   ],
   "source": [
    "arr2.reshape(4,2)"
   ]
  },
  {
   "cell_type": "code",
   "execution_count": 232,
   "id": "15727c64-31be-4cf5-8a71-c456d1f87068",
   "metadata": {},
   "outputs": [
    {
     "data": {
      "text/plain": [
       "array([1, 2, 3, 4, 5, 6, 7, 8])"
      ]
     },
     "execution_count": 232,
     "metadata": {},
     "output_type": "execute_result"
    }
   ],
   "source": [
    "arr2.flatten()"
   ]
  },
  {
   "cell_type": "code",
   "execution_count": 234,
   "id": "af45aa56-2dc3-4ae1-9154-c35e59e40ddf",
   "metadata": {},
   "outputs": [
    {
     "data": {
      "text/plain": [
       "array([[1, 2, 3, 4],\n",
       "       [5, 6, 7, 8]])"
      ]
     },
     "execution_count": 234,
     "metadata": {},
     "output_type": "execute_result"
    }
   ],
   "source": [
    "arr2.copy()"
   ]
  },
  {
   "cell_type": "code",
   "execution_count": 236,
   "id": "571b30b9-3e41-4f73-b02a-a78597e8251e",
   "metadata": {},
   "outputs": [
    {
     "data": {
      "text/plain": [
       "array([ 1,  3,  6,  9, 12, 15])"
      ]
     },
     "execution_count": 236,
     "metadata": {},
     "output_type": "execute_result"
    }
   ],
   "source": [
    "# Mathematical & Statistical Methods\n",
    "arr3 = np.array([1, 3, 6, 9, 12, 15])\n",
    "arr3"
   ]
  },
  {
   "cell_type": "code",
   "execution_count": 238,
   "id": "6da75f3d-8e52-490e-81ce-0218a3ab16e0",
   "metadata": {},
   "outputs": [
    {
     "data": {
      "text/plain": [
       "46"
      ]
     },
     "execution_count": 238,
     "metadata": {},
     "output_type": "execute_result"
    }
   ],
   "source": [
    "arr3.sum()"
   ]
  },
  {
   "cell_type": "code",
   "execution_count": 240,
   "id": "16688536-8578-47e2-9e2e-f801bc4bd7d8",
   "metadata": {},
   "outputs": [
    {
     "data": {
      "text/plain": [
       "1"
      ]
     },
     "execution_count": 240,
     "metadata": {},
     "output_type": "execute_result"
    }
   ],
   "source": [
    "arr3.min()"
   ]
  },
  {
   "cell_type": "code",
   "execution_count": 242,
   "id": "9b7d9e37-b047-4944-aae4-f686a4f61cfb",
   "metadata": {},
   "outputs": [
    {
     "data": {
      "text/plain": [
       "15"
      ]
     },
     "execution_count": 242,
     "metadata": {},
     "output_type": "execute_result"
    }
   ],
   "source": [
    "arr3.max()"
   ]
  },
  {
   "cell_type": "code",
   "execution_count": 244,
   "id": "89f5b70f-94b4-49f1-8d94-ecb4c6015a59",
   "metadata": {},
   "outputs": [
    {
     "data": {
      "text/plain": [
       "7.666666666666667"
      ]
     },
     "execution_count": 244,
     "metadata": {},
     "output_type": "execute_result"
    }
   ],
   "source": [
    "arr3.mean()"
   ]
  },
  {
   "cell_type": "code",
   "execution_count": 246,
   "id": "712e2d83-a534-4e74-9cbd-753f9889af82",
   "metadata": {},
   "outputs": [
    {
     "data": {
      "text/plain": [
       "4.887626099538393"
      ]
     },
     "execution_count": 246,
     "metadata": {},
     "output_type": "execute_result"
    }
   ],
   "source": [
    "arr3.std()"
   ]
  },
  {
   "cell_type": "code",
   "execution_count": 248,
   "id": "9abc84b5-7eb1-4815-82ac-ec0079d4862b",
   "metadata": {},
   "outputs": [
    {
     "data": {
      "text/plain": [
       "23.888888888888886"
      ]
     },
     "execution_count": 248,
     "metadata": {},
     "output_type": "execute_result"
    }
   ],
   "source": [
    "arr3.var()"
   ]
  },
  {
   "cell_type": "code",
   "execution_count": 250,
   "id": "cf3b1fbd-fe2b-45ee-9b7d-34478c20dffc",
   "metadata": {},
   "outputs": [
    {
     "data": {
      "text/plain": [
       "29160"
      ]
     },
     "execution_count": 250,
     "metadata": {},
     "output_type": "execute_result"
    }
   ],
   "source": [
    "arr3.prod()"
   ]
  },
  {
   "cell_type": "code",
   "execution_count": 252,
   "id": "5812d5d7-95b5-4698-a8fa-5298d6a9ecc4",
   "metadata": {},
   "outputs": [
    {
     "data": {
      "text/plain": [
       "array([ 1,  4, 10, 19, 31, 46])"
      ]
     },
     "execution_count": 252,
     "metadata": {},
     "output_type": "execute_result"
    }
   ],
   "source": [
    "arr3.cumsum()"
   ]
  },
  {
   "cell_type": "code",
   "execution_count": 254,
   "id": "b4ee0995-2e8e-4634-836a-457325bc9814",
   "metadata": {},
   "outputs": [
    {
     "data": {
      "text/plain": [
       "array([  1,   2,   6,  24, 120, 720])"
      ]
     },
     "execution_count": 254,
     "metadata": {},
     "output_type": "execute_result"
    }
   ],
   "source": [
    "arr.cumprod()"
   ]
  },
  {
   "cell_type": "code",
   "execution_count": 256,
   "id": "70ad3f90-de4d-44bb-9ae9-9a3675eb15e9",
   "metadata": {},
   "outputs": [
    {
     "data": {
      "text/plain": [
       "array([ 4,  1,  5,  7,  9,  0, 12,  3, 40])"
      ]
     },
     "execution_count": 256,
     "metadata": {},
     "output_type": "execute_result"
    }
   ],
   "source": [
    "# Sorting & Searching Methods\n",
    "arr4 = np.array([4,1,5,7,9,0,12,3,40])\n",
    "arr4"
   ]
  },
  {
   "cell_type": "code",
   "execution_count": 258,
   "id": "9a1a8064-d350-4f73-92e3-4861ce53eafc",
   "metadata": {},
   "outputs": [
    {
     "data": {
      "text/plain": [
       "array([ 0,  1,  3,  4,  5,  7,  9, 12, 40])"
      ]
     },
     "execution_count": 258,
     "metadata": {},
     "output_type": "execute_result"
    }
   ],
   "source": [
    "np.sort(arr4)   # This change will apply on arr4"
   ]
  },
  {
   "cell_type": "code",
   "execution_count": 260,
   "id": "a36e5ec1-2a30-404c-ac7e-40e00f3f8e72",
   "metadata": {},
   "outputs": [
    {
     "data": {
      "text/plain": [
       "array([[7, 8, 5],\n",
       "       [4, 9, 3]])"
      ]
     },
     "execution_count": 260,
     "metadata": {},
     "output_type": "execute_result"
    }
   ],
   "source": [
    "arr5 = np.array([[7,8,5],\n",
    "                 [4,9,3]])\n",
    "arr5"
   ]
  },
  {
   "cell_type": "code",
   "execution_count": 262,
   "id": "7a00871c-3abc-494b-b839-7b68e99cf310",
   "metadata": {},
   "outputs": [
    {
     "data": {
      "text/plain": [
       "array([[5, 7, 8],\n",
       "       [3, 4, 9]])"
      ]
     },
     "execution_count": 262,
     "metadata": {},
     "output_type": "execute_result"
    }
   ],
   "source": [
    "arr5.sort() #sorted by row - default\n",
    "arr5"
   ]
  },
  {
   "cell_type": "code",
   "execution_count": 264,
   "id": "ea713f18-80c4-46a4-b733-77937fea6eb9",
   "metadata": {},
   "outputs": [
    {
     "data": {
      "text/plain": [
       "array([[3, 4, 8],\n",
       "       [5, 7, 9]])"
      ]
     },
     "execution_count": 264,
     "metadata": {},
     "output_type": "execute_result"
    }
   ],
   "source": [
    "arr5.sort(axis=0)\n",
    "arr5"
   ]
  },
  {
   "cell_type": "code",
   "execution_count": 266,
   "id": "ba2b4952-77c8-4734-a6b7-201ae08d8331",
   "metadata": {},
   "outputs": [
    {
     "data": {
      "text/plain": [
       "array([5, 1, 7, 0, 2, 3, 4, 6, 8])"
      ]
     },
     "execution_count": 266,
     "metadata": {},
     "output_type": "execute_result"
    }
   ],
   "source": [
    "np.argsort(arr4)"
   ]
  },
  {
   "cell_type": "code",
   "execution_count": 268,
   "id": "6aa870fc-d8d3-4bea-9d6d-ab345fa48cc9",
   "metadata": {},
   "outputs": [
    {
     "data": {
      "text/plain": [
       "(array([4, 6, 8]),)"
      ]
     },
     "execution_count": 268,
     "metadata": {},
     "output_type": "execute_result"
    }
   ],
   "source": [
    "np.where(arr4 > 8)"
   ]
  },
  {
   "cell_type": "markdown",
   "id": "067dc44c-b2b7-4046-bf8d-f95a5e883b79",
   "metadata": {},
   "source": [
    "<div>\n",
    "    <h2> Basic Properties of NumPy Methods \n",
    "    </h2>\n",
    "</div>"
   ]
  },
  {
   "cell_type": "code",
   "execution_count": 271,
   "id": "8733cc30-a4c5-4453-a69d-61c3b4f40171",
   "metadata": {},
   "outputs": [
    {
     "data": {
      "text/plain": [
       "array([1, 2, 3])"
      ]
     },
     "execution_count": 271,
     "metadata": {},
     "output_type": "execute_result"
    }
   ],
   "source": [
    "arr1 =np.array([1,2,3])\n",
    "arr1"
   ]
  },
  {
   "cell_type": "code",
   "execution_count": 273,
   "id": "7515da61-4146-491e-abd6-d96afc317a9f",
   "metadata": {},
   "outputs": [
    {
     "data": {
      "text/plain": [
       "array([[0., 0., 0.],\n",
       "       [0., 0., 0.]])"
      ]
     },
     "execution_count": 273,
     "metadata": {},
     "output_type": "execute_result"
    }
   ],
   "source": [
    "np.zeros((2,3)) #create an array of zeros  "
   ]
  },
  {
   "cell_type": "code",
   "execution_count": 275,
   "id": "a4a26704-8989-405c-b45e-69e6d500f7b5",
   "metadata": {},
   "outputs": [
    {
     "data": {
      "text/plain": [
       "array([[1., 1.],\n",
       "       [1., 1.],\n",
       "       [1., 1.]])"
      ]
     },
     "execution_count": 275,
     "metadata": {},
     "output_type": "execute_result"
    }
   ],
   "source": [
    "np.ones((3,2))"
   ]
  },
  {
   "cell_type": "code",
   "execution_count": 277,
   "id": "fb5e4433-6472-4a10-84e4-8aca916822b9",
   "metadata": {},
   "outputs": [
    {
     "data": {
      "text/plain": [
       "6"
      ]
     },
     "execution_count": 277,
     "metadata": {},
     "output_type": "execute_result"
    }
   ],
   "source": [
    "np.sum(arr1)"
   ]
  },
  {
   "cell_type": "code",
   "execution_count": 279,
   "id": "a8c7f3aa-782d-43bc-8963-ed06c767d507",
   "metadata": {},
   "outputs": [
    {
     "data": {
      "text/plain": [
       "2.0"
      ]
     },
     "execution_count": 279,
     "metadata": {},
     "output_type": "execute_result"
    }
   ],
   "source": [
    "np.mean(arr1)"
   ]
  },
  {
   "cell_type": "code",
   "execution_count": 281,
   "id": "3776db8c-0829-452c-9f49-1eb82c7cf739",
   "metadata": {},
   "outputs": [
    {
     "data": {
      "text/plain": [
       "array([104, 101, 105, 107, 109, 100, 112, 103, 140])"
      ]
     },
     "execution_count": 281,
     "metadata": {},
     "output_type": "execute_result"
    }
   ],
   "source": [
    "np.add(arr4,100)   # not permanent"
   ]
  },
  {
   "cell_type": "code",
   "execution_count": 283,
   "id": "b69547a4-4921-4ed0-8f8e-3f131c04e422",
   "metadata": {},
   "outputs": [
    {
     "data": {
      "text/plain": [
       "array([ 3,  0,  4,  6,  8, -1, 11,  2, 39])"
      ]
     },
     "execution_count": 283,
     "metadata": {},
     "output_type": "execute_result"
    }
   ],
   "source": [
    "np.subtract(arr4,1)"
   ]
  },
  {
   "cell_type": "code",
   "execution_count": 285,
   "id": "0a20f036-f863-4699-a48c-bc91d0f8f119",
   "metadata": {},
   "outputs": [
    {
     "data": {
      "text/plain": [
       "array([ 8,  2, 10, 14, 18,  0, 24,  6, 80])"
      ]
     },
     "execution_count": 285,
     "metadata": {},
     "output_type": "execute_result"
    }
   ],
   "source": [
    "np.multiply(arr4, 2)"
   ]
  },
  {
   "cell_type": "code",
   "execution_count": 287,
   "id": "26da8e71-e4dc-4642-b4e8-709af2658cdc",
   "metadata": {},
   "outputs": [
    {
     "data": {
      "text/plain": [
       "array([ 2. ,  0.5,  2.5,  3.5,  4.5,  0. ,  6. ,  1.5, 20. ])"
      ]
     },
     "execution_count": 287,
     "metadata": {},
     "output_type": "execute_result"
    }
   ],
   "source": [
    "np.divide(arr4, 2)"
   ]
  },
  {
   "cell_type": "code",
   "execution_count": 289,
   "id": "84215e4a-54b6-470e-92f9-0fc0761918c0",
   "metadata": {},
   "outputs": [
    {
     "data": {
      "text/plain": [
       "array([  16,    1,   25,   49,   81,    0,  144,    9, 1600])"
      ]
     },
     "execution_count": 289,
     "metadata": {},
     "output_type": "execute_result"
    }
   ],
   "source": [
    "np.power(arr4, 2)"
   ]
  },
  {
   "cell_type": "code",
   "execution_count": 291,
   "id": "87ddc844-3cc2-4556-99a8-a5c3a8d55eb6",
   "metadata": {},
   "outputs": [
    {
     "name": "stdout",
     "output_type": "stream",
     "text": [
      "[3 3 7 2 4]\n",
      "[0.49111893 0.78002776 0.41092437]\n",
      "[-1.07746533  0.23848917  1.67960037 -1.30580313 -1.13889525]\n"
     ]
    }
   ],
   "source": [
    "print(np.random.randint(1, 10, 5)) # 5 random integers from 1 to 9\n",
    "print(np.random.rand(3))           # 3 random floats (0 to 1)\n",
    "print(np.random.normal(0, 1, 5))   # 5 random numbers from normal distribution"
   ]
  },
  {
   "cell_type": "code",
   "execution_count": 293,
   "id": "25eb661f-7682-4bff-98a1-006db8563f53",
   "metadata": {},
   "outputs": [
    {
     "data": {
      "text/plain": [
       "array([[19, 22],\n",
       "       [43, 50]])"
      ]
     },
     "execution_count": 293,
     "metadata": {},
     "output_type": "execute_result"
    }
   ],
   "source": [
    "A = np.array([[1,2],[3,4]])\n",
    "B = np.array([[5,6],[7,8]])\n",
    "np.dot(A,B)"
   ]
  },
  {
   "cell_type": "code",
   "execution_count": 295,
   "id": "f00b9b79-da4a-4c28-b900-2143ea19e7f4",
   "metadata": {},
   "outputs": [
    {
     "data": {
      "text/plain": [
       "array([[ 5, 12],\n",
       "       [21, 32]])"
      ]
     },
     "execution_count": 295,
     "metadata": {},
     "output_type": "execute_result"
    }
   ],
   "source": [
    "np.multiply(A,B)"
   ]
  },
  {
   "cell_type": "code",
   "execution_count": 297,
   "id": "03c32097-d55b-47e2-8a8d-ab43e30175f0",
   "metadata": {},
   "outputs": [],
   "source": [
    "x = np.array([1, 2, 3])\n",
    "z = np.array([4, 5, 6])"
   ]
  },
  {
   "cell_type": "code",
   "execution_count": 299,
   "id": "67184833-715d-4419-80a6-c7542f191995",
   "metadata": {},
   "outputs": [
    {
     "data": {
      "text/plain": [
       "array([[1, 2, 3],\n",
       "       [4, 5, 6]])"
      ]
     },
     "execution_count": 299,
     "metadata": {},
     "output_type": "execute_result"
    }
   ],
   "source": [
    "np.vstack([x,z])"
   ]
  },
  {
   "cell_type": "code",
   "execution_count": 301,
   "id": "ac27e597-187f-45c0-b85b-58d76afa8711",
   "metadata": {},
   "outputs": [
    {
     "data": {
      "text/plain": [
       "array([1, 2, 3, 4, 5, 6])"
      ]
     },
     "execution_count": 301,
     "metadata": {},
     "output_type": "execute_result"
    }
   ],
   "source": [
    "np.hstack([x,z])"
   ]
  },
  {
   "cell_type": "code",
   "execution_count": 303,
   "id": "1100db01-e7de-4042-8df8-0cfc5a5f3c71",
   "metadata": {},
   "outputs": [],
   "source": [
    "arr5 = np.array([[1, 2, 3, 4],\n",
    "                 [5, 6, 7, 8],\n",
    "                 [5, 9, 0, 3]])"
   ]
  },
  {
   "cell_type": "code",
   "execution_count": 305,
   "id": "5811c088-3f9c-44d9-8f6c-dd9048155d70",
   "metadata": {},
   "outputs": [
    {
     "data": {
      "text/plain": [
       "array([5, 6, 7, 8])"
      ]
     },
     "execution_count": 305,
     "metadata": {},
     "output_type": "execute_result"
    }
   ],
   "source": [
    "arr5[1]"
   ]
  },
  {
   "cell_type": "code",
   "execution_count": 307,
   "id": "eb407ec1-abb6-46d7-b8ec-81ad26b4a437",
   "metadata": {},
   "outputs": [
    {
     "data": {
      "text/plain": [
       "2"
      ]
     },
     "execution_count": 307,
     "metadata": {},
     "output_type": "execute_result"
    }
   ],
   "source": [
    "arr5[0][1]"
   ]
  },
  {
   "cell_type": "code",
   "execution_count": 309,
   "id": "0f1caafe-c941-4511-be21-3e97e70db112",
   "metadata": {},
   "outputs": [
    {
     "data": {
      "text/plain": [
       "array([[1, 2, 3, 4],\n",
       "       [5, 6, 7, 8]])"
      ]
     },
     "execution_count": 309,
     "metadata": {},
     "output_type": "execute_result"
    }
   ],
   "source": [
    "arr5[:2]"
   ]
  },
  {
   "cell_type": "code",
   "execution_count": 311,
   "id": "fd2ce068-02b0-4141-8ae2-c527251e21b9",
   "metadata": {},
   "outputs": [
    {
     "data": {
      "text/plain": [
       "array([[3, 4],\n",
       "       [7, 8],\n",
       "       [0, 3]])"
      ]
     },
     "execution_count": 311,
     "metadata": {},
     "output_type": "execute_result"
    }
   ],
   "source": [
    "arr5[:,2:]"
   ]
  },
  {
   "cell_type": "code",
   "execution_count": 313,
   "id": "ec061c38-e881-47a3-bdad-4a55723c4cf3",
   "metadata": {},
   "outputs": [
    {
     "data": {
      "text/plain": [
       "array([[False, False, False, False],\n",
       "       [ True,  True,  True,  True],\n",
       "       [ True,  True, False, False]])"
      ]
     },
     "execution_count": 313,
     "metadata": {},
     "output_type": "execute_result"
    }
   ],
   "source": [
    "arr5 > 4"
   ]
  },
  {
   "cell_type": "code",
   "execution_count": 315,
   "id": "05a3577a-e731-4ee8-9c71-f83fb02b576b",
   "metadata": {},
   "outputs": [
    {
     "data": {
      "text/plain": [
       "array([5, 6, 7, 8, 5, 9])"
      ]
     },
     "execution_count": 315,
     "metadata": {},
     "output_type": "execute_result"
    }
   ],
   "source": [
    "arr5[arr5 > 4]"
   ]
  },
  {
   "cell_type": "markdown",
   "id": "08c925e1-1e6d-4de9-ac59-357392f9b108",
   "metadata": {},
   "source": [
    "<div>\n",
    "    <h2> 3.2 Pandas</h2>\n",
    "</div>"
   ]
  },
  {
   "cell_type": "markdown",
   "id": "5d8ded56-9f90-4c8e-bc83-ab4a7ab9e345",
   "metadata": {},
   "source": [
    "<div>\n",
    "    <h4>\n",
    "        Pandas is a Python library used for data manipulation, analysis, and cleaning. It provides fast and flexible tools to work with structured data, such as tables (DataFrames) and series (1D data). </h4>\n",
    "</div>\n",
    "\n",
    "<p>\n",
    "    Key Reasons to Use Pandas:\n",
    "    <ul>\n",
    "        <li> Handles large datasets efficiently</li>\n",
    "        <li> Supports data cleaning and preprocessing</li>\n",
    "        <li> Works well with NumPy, Matplotlib, and SQL</li>\n",
    "        <li> Provides built-in statistical and mathematical functions</li>\n",
    "        <li> Can read and write multiple file formats (CSV, Excel, SQL, JSON, etc.)</li>\n",
    "    </ul>\n",
    "</p>\n"
   ]
  },
  {
   "cell_type": "code",
   "execution_count": 319,
   "id": "f0297507-79aa-4845-a385-9e6aa7b3ce1e",
   "metadata": {},
   "outputs": [],
   "source": [
    "import pandas as pd"
   ]
  },
  {
   "cell_type": "markdown",
   "id": "b079e239-d9de-4dda-80c4-47f583d5b11d",
   "metadata": {},
   "source": [
    "<div>\n",
    "    <h2>\n",
    "        DataFrame\n",
    "    </h2>\n",
    "</div>"
   ]
  },
  {
   "cell_type": "code",
   "execution_count": 322,
   "id": "6ab3fc26-a214-456d-b325-1460fb83e400",
   "metadata": {},
   "outputs": [
    {
     "name": "stdout",
     "output_type": "stream",
     "text": [
      "{'name': ['alice', 'anna', 'jack', 'july'], 'lastname': ['kepit', 'kia', 'muler', 'summet'], 'age': [24, 28, 25, 31], 'job': ['student', 'engineer', 'doctor', 'teacher']}\n"
     ]
    }
   ],
   "source": [
    "# Create a DataFrame from a Dictionary\n",
    "data = {\n",
    "    \"name\" : [\"alice\", \"anna\", \"jack\", \"july\"],\n",
    "    \"lastname\" : [\"kepit\", \"kia\", \"muler\" , \"summet\"],\n",
    "    \"age\" : [24, 28, 25, 31],\n",
    "    \"job\" : [\"student\", \"engineer\", \"doctor\", \"teacher\"]\n",
    "}\n",
    "print(data)"
   ]
  },
  {
   "cell_type": "code",
   "execution_count": 324,
   "id": "95530adf-57df-44fd-93b6-211284fd90b7",
   "metadata": {},
   "outputs": [
    {
     "data": {
      "text/html": [
       "<div>\n",
       "<style scoped>\n",
       "    .dataframe tbody tr th:only-of-type {\n",
       "        vertical-align: middle;\n",
       "    }\n",
       "\n",
       "    .dataframe tbody tr th {\n",
       "        vertical-align: top;\n",
       "    }\n",
       "\n",
       "    .dataframe thead th {\n",
       "        text-align: right;\n",
       "    }\n",
       "</style>\n",
       "<table border=\"1\" class=\"dataframe\">\n",
       "  <thead>\n",
       "    <tr style=\"text-align: right;\">\n",
       "      <th></th>\n",
       "      <th>name</th>\n",
       "      <th>lastname</th>\n",
       "      <th>age</th>\n",
       "      <th>job</th>\n",
       "    </tr>\n",
       "  </thead>\n",
       "  <tbody>\n",
       "    <tr>\n",
       "      <th>0</th>\n",
       "      <td>alice</td>\n",
       "      <td>kepit</td>\n",
       "      <td>24</td>\n",
       "      <td>student</td>\n",
       "    </tr>\n",
       "    <tr>\n",
       "      <th>1</th>\n",
       "      <td>anna</td>\n",
       "      <td>kia</td>\n",
       "      <td>28</td>\n",
       "      <td>engineer</td>\n",
       "    </tr>\n",
       "    <tr>\n",
       "      <th>2</th>\n",
       "      <td>jack</td>\n",
       "      <td>muler</td>\n",
       "      <td>25</td>\n",
       "      <td>doctor</td>\n",
       "    </tr>\n",
       "    <tr>\n",
       "      <th>3</th>\n",
       "      <td>july</td>\n",
       "      <td>summet</td>\n",
       "      <td>31</td>\n",
       "      <td>teacher</td>\n",
       "    </tr>\n",
       "  </tbody>\n",
       "</table>\n",
       "</div>"
      ],
      "text/plain": [
       "    name lastname  age       job\n",
       "0  alice    kepit   24   student\n",
       "1   anna      kia   28  engineer\n",
       "2   jack    muler   25    doctor\n",
       "3   july   summet   31   teacher"
      ]
     },
     "execution_count": 324,
     "metadata": {},
     "output_type": "execute_result"
    }
   ],
   "source": [
    "df = pd.DataFrame(data)\n",
    "df"
   ]
  },
  {
   "cell_type": "code",
   "execution_count": 326,
   "id": "3b90693b-1044-44c9-9540-1a19aeb06c5d",
   "metadata": {},
   "outputs": [
    {
     "data": {
      "text/plain": [
       "(4, 4)"
      ]
     },
     "execution_count": 326,
     "metadata": {},
     "output_type": "execute_result"
    }
   ],
   "source": [
    "# DataFrame Properties (Attributes)\n",
    "df.shape"
   ]
  },
  {
   "cell_type": "code",
   "execution_count": 328,
   "id": "963f0113-5894-4c0f-9f03-37e9436f7df4",
   "metadata": {},
   "outputs": [
    {
     "data": {
      "text/plain": [
       "16"
      ]
     },
     "execution_count": 328,
     "metadata": {},
     "output_type": "execute_result"
    }
   ],
   "source": [
    "df.size"
   ]
  },
  {
   "cell_type": "code",
   "execution_count": 330,
   "id": "6d8922f1-2cc4-4eac-a722-d47f932602ec",
   "metadata": {},
   "outputs": [
    {
     "data": {
      "text/plain": [
       "name        object\n",
       "lastname    object\n",
       "age          int64\n",
       "job         object\n",
       "dtype: object"
      ]
     },
     "execution_count": 330,
     "metadata": {},
     "output_type": "execute_result"
    }
   ],
   "source": [
    "df.dtypes"
   ]
  },
  {
   "cell_type": "code",
   "execution_count": 332,
   "id": "3916803e-0be9-4a3f-af35-09e17ab9eeeb",
   "metadata": {},
   "outputs": [
    {
     "data": {
      "text/plain": [
       "Index(['name', 'lastname', 'age', 'job'], dtype='object')"
      ]
     },
     "execution_count": 332,
     "metadata": {},
     "output_type": "execute_result"
    }
   ],
   "source": [
    "df.columns"
   ]
  },
  {
   "cell_type": "code",
   "execution_count": 334,
   "id": "585c8756-835e-4a14-bb3d-2af5367388b8",
   "metadata": {},
   "outputs": [
    {
     "data": {
      "text/plain": [
       "RangeIndex(start=0, stop=4, step=1)"
      ]
     },
     "execution_count": 334,
     "metadata": {},
     "output_type": "execute_result"
    }
   ],
   "source": [
    "df.index"
   ]
  },
  {
   "cell_type": "code",
   "execution_count": 336,
   "id": "9c7240aa-6743-4086-a993-5b45a55a9eed",
   "metadata": {},
   "outputs": [
    {
     "data": {
      "text/html": [
       "<div>\n",
       "<style scoped>\n",
       "    .dataframe tbody tr th:only-of-type {\n",
       "        vertical-align: middle;\n",
       "    }\n",
       "\n",
       "    .dataframe tbody tr th {\n",
       "        vertical-align: top;\n",
       "    }\n",
       "\n",
       "    .dataframe thead th {\n",
       "        text-align: right;\n",
       "    }\n",
       "</style>\n",
       "<table border=\"1\" class=\"dataframe\">\n",
       "  <thead>\n",
       "    <tr style=\"text-align: right;\">\n",
       "      <th></th>\n",
       "      <th>name</th>\n",
       "      <th>lastname</th>\n",
       "      <th>age</th>\n",
       "      <th>job</th>\n",
       "    </tr>\n",
       "  </thead>\n",
       "  <tbody>\n",
       "    <tr>\n",
       "      <th>0</th>\n",
       "      <td>alice</td>\n",
       "      <td>kepit</td>\n",
       "      <td>24</td>\n",
       "      <td>student</td>\n",
       "    </tr>\n",
       "    <tr>\n",
       "      <th>1</th>\n",
       "      <td>anna</td>\n",
       "      <td>kia</td>\n",
       "      <td>28</td>\n",
       "      <td>engineer</td>\n",
       "    </tr>\n",
       "    <tr>\n",
       "      <th>2</th>\n",
       "      <td>jack</td>\n",
       "      <td>muler</td>\n",
       "      <td>25</td>\n",
       "      <td>doctor</td>\n",
       "    </tr>\n",
       "    <tr>\n",
       "      <th>3</th>\n",
       "      <td>july</td>\n",
       "      <td>summet</td>\n",
       "      <td>31</td>\n",
       "      <td>teacher</td>\n",
       "    </tr>\n",
       "  </tbody>\n",
       "</table>\n",
       "</div>"
      ],
      "text/plain": [
       "    name lastname  age       job\n",
       "0  alice    kepit   24   student\n",
       "1   anna      kia   28  engineer\n",
       "2   jack    muler   25    doctor\n",
       "3   july   summet   31   teacher"
      ]
     },
     "execution_count": 336,
     "metadata": {},
     "output_type": "execute_result"
    }
   ],
   "source": [
    "df.head()"
   ]
  },
  {
   "cell_type": "code",
   "execution_count": 338,
   "id": "a63be8f8-de8a-47be-8459-90e14d5d71e6",
   "metadata": {},
   "outputs": [
    {
     "name": "stdout",
     "output_type": "stream",
     "text": [
      "<class 'pandas.core.frame.DataFrame'>\n",
      "RangeIndex: 4 entries, 0 to 3\n",
      "Data columns (total 4 columns):\n",
      " #   Column    Non-Null Count  Dtype \n",
      "---  ------    --------------  ----- \n",
      " 0   name      4 non-null      object\n",
      " 1   lastname  4 non-null      object\n",
      " 2   age       4 non-null      int64 \n",
      " 3   job       4 non-null      object\n",
      "dtypes: int64(1), object(3)\n",
      "memory usage: 260.0+ bytes\n"
     ]
    }
   ],
   "source": [
    "df.info()"
   ]
  },
  {
   "cell_type": "code",
   "execution_count": 340,
   "id": "a64e9b91-34af-4889-a01d-f4b13d84b119",
   "metadata": {},
   "outputs": [
    {
     "data": {
      "text/html": [
       "<div>\n",
       "<style scoped>\n",
       "    .dataframe tbody tr th:only-of-type {\n",
       "        vertical-align: middle;\n",
       "    }\n",
       "\n",
       "    .dataframe tbody tr th {\n",
       "        vertical-align: top;\n",
       "    }\n",
       "\n",
       "    .dataframe thead th {\n",
       "        text-align: right;\n",
       "    }\n",
       "</style>\n",
       "<table border=\"1\" class=\"dataframe\">\n",
       "  <thead>\n",
       "    <tr style=\"text-align: right;\">\n",
       "      <th></th>\n",
       "      <th>age</th>\n",
       "    </tr>\n",
       "  </thead>\n",
       "  <tbody>\n",
       "    <tr>\n",
       "      <th>count</th>\n",
       "      <td>4.000000</td>\n",
       "    </tr>\n",
       "    <tr>\n",
       "      <th>mean</th>\n",
       "      <td>27.000000</td>\n",
       "    </tr>\n",
       "    <tr>\n",
       "      <th>std</th>\n",
       "      <td>3.162278</td>\n",
       "    </tr>\n",
       "    <tr>\n",
       "      <th>min</th>\n",
       "      <td>24.000000</td>\n",
       "    </tr>\n",
       "    <tr>\n",
       "      <th>25%</th>\n",
       "      <td>24.750000</td>\n",
       "    </tr>\n",
       "    <tr>\n",
       "      <th>50%</th>\n",
       "      <td>26.500000</td>\n",
       "    </tr>\n",
       "    <tr>\n",
       "      <th>75%</th>\n",
       "      <td>28.750000</td>\n",
       "    </tr>\n",
       "    <tr>\n",
       "      <th>max</th>\n",
       "      <td>31.000000</td>\n",
       "    </tr>\n",
       "  </tbody>\n",
       "</table>\n",
       "</div>"
      ],
      "text/plain": [
       "             age\n",
       "count   4.000000\n",
       "mean   27.000000\n",
       "std     3.162278\n",
       "min    24.000000\n",
       "25%    24.750000\n",
       "50%    26.500000\n",
       "75%    28.750000\n",
       "max    31.000000"
      ]
     },
     "execution_count": 340,
     "metadata": {},
     "output_type": "execute_result"
    }
   ],
   "source": [
    "df.describe()"
   ]
  },
  {
   "cell_type": "markdown",
   "id": "06e77927-5b31-4a93-b31a-6ebee1ad2e70",
   "metadata": {},
   "source": [
    "<h3>Data Selecting and Cutting</h3>"
   ]
  },
  {
   "cell_type": "code",
   "execution_count": 343,
   "id": "e45941a2-a14d-440d-9e9e-41f2a35155a9",
   "metadata": {},
   "outputs": [
    {
     "data": {
      "text/html": [
       "<div>\n",
       "<style scoped>\n",
       "    .dataframe tbody tr th:only-of-type {\n",
       "        vertical-align: middle;\n",
       "    }\n",
       "\n",
       "    .dataframe tbody tr th {\n",
       "        vertical-align: top;\n",
       "    }\n",
       "\n",
       "    .dataframe thead th {\n",
       "        text-align: right;\n",
       "    }\n",
       "</style>\n",
       "<table border=\"1\" class=\"dataframe\">\n",
       "  <thead>\n",
       "    <tr style=\"text-align: right;\">\n",
       "      <th></th>\n",
       "      <th>name</th>\n",
       "      <th>breed</th>\n",
       "      <th>color</th>\n",
       "      <th>height</th>\n",
       "      <th>weight</th>\n",
       "      <th>date of birth</th>\n",
       "    </tr>\n",
       "  </thead>\n",
       "  <tbody>\n",
       "    <tr>\n",
       "      <th>0</th>\n",
       "      <td>bella</td>\n",
       "      <td>Labrador</td>\n",
       "      <td>brown</td>\n",
       "      <td>56</td>\n",
       "      <td>24</td>\n",
       "      <td>2013-07-01</td>\n",
       "    </tr>\n",
       "    <tr>\n",
       "      <th>1</th>\n",
       "      <td>charlie</td>\n",
       "      <td>poodle</td>\n",
       "      <td>black</td>\n",
       "      <td>43</td>\n",
       "      <td>24</td>\n",
       "      <td>2016-09-16</td>\n",
       "    </tr>\n",
       "    <tr>\n",
       "      <th>2</th>\n",
       "      <td>lucy</td>\n",
       "      <td>chow chow</td>\n",
       "      <td>brown</td>\n",
       "      <td>46</td>\n",
       "      <td>24</td>\n",
       "      <td>2014-08-25</td>\n",
       "    </tr>\n",
       "    <tr>\n",
       "      <th>3</th>\n",
       "      <td>cooper</td>\n",
       "      <td>schnauzer</td>\n",
       "      <td>gray</td>\n",
       "      <td>49</td>\n",
       "      <td>17</td>\n",
       "      <td>2011-12-11</td>\n",
       "    </tr>\n",
       "    <tr>\n",
       "      <th>4</th>\n",
       "      <td>max</td>\n",
       "      <td>Labrador</td>\n",
       "      <td>black</td>\n",
       "      <td>59</td>\n",
       "      <td>29</td>\n",
       "      <td>2017-01-20</td>\n",
       "    </tr>\n",
       "    <tr>\n",
       "      <th>5</th>\n",
       "      <td>stella</td>\n",
       "      <td>chihuahua</td>\n",
       "      <td>Tan</td>\n",
       "      <td>18</td>\n",
       "      <td>2</td>\n",
       "      <td>2015-04-20</td>\n",
       "    </tr>\n",
       "    <tr>\n",
       "      <th>6</th>\n",
       "      <td>bernie</td>\n",
       "      <td>bernard</td>\n",
       "      <td>white</td>\n",
       "      <td>77</td>\n",
       "      <td>74</td>\n",
       "      <td>2018-02-27</td>\n",
       "    </tr>\n",
       "  </tbody>\n",
       "</table>\n",
       "</div>"
      ],
      "text/plain": [
       "      name      breed  color  height  weight date of birth\n",
       "0    bella   Labrador  brown      56      24    2013-07-01\n",
       "1  charlie     poodle  black      43      24    2016-09-16\n",
       "2     lucy  chow chow  brown      46      24    2014-08-25\n",
       "3   cooper  schnauzer   gray      49      17    2011-12-11\n",
       "4      max   Labrador  black      59      29    2017-01-20\n",
       "5   stella  chihuahua    Tan      18       2    2015-04-20\n",
       "6   bernie    bernard  white      77      74    2018-02-27"
      ]
     },
     "execution_count": 343,
     "metadata": {},
     "output_type": "execute_result"
    }
   ],
   "source": [
    "df2 = pd.read_csv('Downloads/ipynbs/mini.csv')\n",
    "df2"
   ]
  },
  {
   "cell_type": "code",
   "execution_count": 345,
   "id": "bd774697-b7e7-4aa0-be54-7bee228faa4c",
   "metadata": {},
   "outputs": [
    {
     "data": {
      "text/html": [
       "<div>\n",
       "<style scoped>\n",
       "    .dataframe tbody tr th:only-of-type {\n",
       "        vertical-align: middle;\n",
       "    }\n",
       "\n",
       "    .dataframe tbody tr th {\n",
       "        vertical-align: top;\n",
       "    }\n",
       "\n",
       "    .dataframe thead th {\n",
       "        text-align: right;\n",
       "    }\n",
       "</style>\n",
       "<table border=\"1\" class=\"dataframe\">\n",
       "  <thead>\n",
       "    <tr style=\"text-align: right;\">\n",
       "      <th></th>\n",
       "      <th>name</th>\n",
       "    </tr>\n",
       "  </thead>\n",
       "  <tbody>\n",
       "    <tr>\n",
       "      <th>0</th>\n",
       "      <td>bella</td>\n",
       "    </tr>\n",
       "    <tr>\n",
       "      <th>1</th>\n",
       "      <td>charlie</td>\n",
       "    </tr>\n",
       "    <tr>\n",
       "      <th>2</th>\n",
       "      <td>lucy</td>\n",
       "    </tr>\n",
       "    <tr>\n",
       "      <th>3</th>\n",
       "      <td>cooper</td>\n",
       "    </tr>\n",
       "    <tr>\n",
       "      <th>4</th>\n",
       "      <td>max</td>\n",
       "    </tr>\n",
       "    <tr>\n",
       "      <th>5</th>\n",
       "      <td>stella</td>\n",
       "    </tr>\n",
       "    <tr>\n",
       "      <th>6</th>\n",
       "      <td>bernie</td>\n",
       "    </tr>\n",
       "  </tbody>\n",
       "</table>\n",
       "</div>"
      ],
      "text/plain": [
       "      name\n",
       "0    bella\n",
       "1  charlie\n",
       "2     lucy\n",
       "3   cooper\n",
       "4      max\n",
       "5   stella\n",
       "6   bernie"
      ]
     },
     "execution_count": 345,
     "metadata": {},
     "output_type": "execute_result"
    }
   ],
   "source": [
    "# Access a Single Column\n",
    "df2[[\"name\"]]"
   ]
  },
  {
   "cell_type": "code",
   "execution_count": 347,
   "id": "386d7c4c-773a-452a-96ef-fec708b3cf26",
   "metadata": {},
   "outputs": [
    {
     "data": {
      "text/html": [
       "<div>\n",
       "<style scoped>\n",
       "    .dataframe tbody tr th:only-of-type {\n",
       "        vertical-align: middle;\n",
       "    }\n",
       "\n",
       "    .dataframe tbody tr th {\n",
       "        vertical-align: top;\n",
       "    }\n",
       "\n",
       "    .dataframe thead th {\n",
       "        text-align: right;\n",
       "    }\n",
       "</style>\n",
       "<table border=\"1\" class=\"dataframe\">\n",
       "  <thead>\n",
       "    <tr style=\"text-align: right;\">\n",
       "      <th></th>\n",
       "      <th>name</th>\n",
       "      <th>date of birth</th>\n",
       "    </tr>\n",
       "  </thead>\n",
       "  <tbody>\n",
       "    <tr>\n",
       "      <th>0</th>\n",
       "      <td>bella</td>\n",
       "      <td>2013-07-01</td>\n",
       "    </tr>\n",
       "    <tr>\n",
       "      <th>1</th>\n",
       "      <td>charlie</td>\n",
       "      <td>2016-09-16</td>\n",
       "    </tr>\n",
       "    <tr>\n",
       "      <th>2</th>\n",
       "      <td>lucy</td>\n",
       "      <td>2014-08-25</td>\n",
       "    </tr>\n",
       "    <tr>\n",
       "      <th>3</th>\n",
       "      <td>cooper</td>\n",
       "      <td>2011-12-11</td>\n",
       "    </tr>\n",
       "    <tr>\n",
       "      <th>4</th>\n",
       "      <td>max</td>\n",
       "      <td>2017-01-20</td>\n",
       "    </tr>\n",
       "    <tr>\n",
       "      <th>5</th>\n",
       "      <td>stella</td>\n",
       "      <td>2015-04-20</td>\n",
       "    </tr>\n",
       "    <tr>\n",
       "      <th>6</th>\n",
       "      <td>bernie</td>\n",
       "      <td>2018-02-27</td>\n",
       "    </tr>\n",
       "  </tbody>\n",
       "</table>\n",
       "</div>"
      ],
      "text/plain": [
       "      name date of birth\n",
       "0    bella    2013-07-01\n",
       "1  charlie    2016-09-16\n",
       "2     lucy    2014-08-25\n",
       "3   cooper    2011-12-11\n",
       "4      max    2017-01-20\n",
       "5   stella    2015-04-20\n",
       "6   bernie    2018-02-27"
      ]
     },
     "execution_count": 347,
     "metadata": {},
     "output_type": "execute_result"
    }
   ],
   "source": [
    "# Access a list of Columns\n",
    "\n",
    "df2[[\"name\", \"date of birth\"]]"
   ]
  },
  {
   "cell_type": "code",
   "execution_count": 349,
   "id": "fdaf49e7-4847-418c-ac6e-93ed23f7c00e",
   "metadata": {},
   "outputs": [
    {
     "data": {
      "text/html": [
       "<div>\n",
       "<style scoped>\n",
       "    .dataframe tbody tr th:only-of-type {\n",
       "        vertical-align: middle;\n",
       "    }\n",
       "\n",
       "    .dataframe tbody tr th {\n",
       "        vertical-align: top;\n",
       "    }\n",
       "\n",
       "    .dataframe thead th {\n",
       "        text-align: right;\n",
       "    }\n",
       "</style>\n",
       "<table border=\"1\" class=\"dataframe\">\n",
       "  <thead>\n",
       "    <tr style=\"text-align: right;\">\n",
       "      <th></th>\n",
       "      <th>name</th>\n",
       "      <th>breed</th>\n",
       "      <th>color</th>\n",
       "      <th>height</th>\n",
       "      <th>weight</th>\n",
       "      <th>date of birth</th>\n",
       "    </tr>\n",
       "  </thead>\n",
       "  <tbody>\n",
       "    <tr>\n",
       "      <th>1</th>\n",
       "      <td>charlie</td>\n",
       "      <td>poodle</td>\n",
       "      <td>black</td>\n",
       "      <td>43</td>\n",
       "      <td>24</td>\n",
       "      <td>2016-09-16</td>\n",
       "    </tr>\n",
       "  </tbody>\n",
       "</table>\n",
       "</div>"
      ],
      "text/plain": [
       "      name   breed  color  height  weight date of birth\n",
       "1  charlie  poodle  black      43      24    2016-09-16"
      ]
     },
     "execution_count": 349,
     "metadata": {},
     "output_type": "execute_result"
    }
   ],
   "source": [
    "# loc & iloc --- work on rows\n",
    "df2.loc[[1]]"
   ]
  },
  {
   "cell_type": "code",
   "execution_count": 351,
   "id": "4ba05205-9465-4582-a41c-d7a28f284f33",
   "metadata": {},
   "outputs": [
    {
     "data": {
      "text/html": [
       "<div>\n",
       "<style scoped>\n",
       "    .dataframe tbody tr th:only-of-type {\n",
       "        vertical-align: middle;\n",
       "    }\n",
       "\n",
       "    .dataframe tbody tr th {\n",
       "        vertical-align: top;\n",
       "    }\n",
       "\n",
       "    .dataframe thead th {\n",
       "        text-align: right;\n",
       "    }\n",
       "</style>\n",
       "<table border=\"1\" class=\"dataframe\">\n",
       "  <thead>\n",
       "    <tr style=\"text-align: right;\">\n",
       "      <th></th>\n",
       "      <th>name</th>\n",
       "      <th>breed</th>\n",
       "      <th>color</th>\n",
       "      <th>height</th>\n",
       "      <th>weight</th>\n",
       "      <th>date of birth</th>\n",
       "    </tr>\n",
       "  </thead>\n",
       "  <tbody>\n",
       "    <tr>\n",
       "      <th>1</th>\n",
       "      <td>charlie</td>\n",
       "      <td>poodle</td>\n",
       "      <td>black</td>\n",
       "      <td>43</td>\n",
       "      <td>24</td>\n",
       "      <td>2016-09-16</td>\n",
       "    </tr>\n",
       "  </tbody>\n",
       "</table>\n",
       "</div>"
      ],
      "text/plain": [
       "      name   breed  color  height  weight date of birth\n",
       "1  charlie  poodle  black      43      24    2016-09-16"
      ]
     },
     "execution_count": 351,
     "metadata": {},
     "output_type": "execute_result"
    }
   ],
   "source": [
    "df2.iloc[[1]]"
   ]
  },
  {
   "cell_type": "code",
   "execution_count": 353,
   "id": "d9c1c9d1-358b-4f8f-b0bf-ef5318af7715",
   "metadata": {},
   "outputs": [
    {
     "data": {
      "text/html": [
       "<div>\n",
       "<style scoped>\n",
       "    .dataframe tbody tr th:only-of-type {\n",
       "        vertical-align: middle;\n",
       "    }\n",
       "\n",
       "    .dataframe tbody tr th {\n",
       "        vertical-align: top;\n",
       "    }\n",
       "\n",
       "    .dataframe thead th {\n",
       "        text-align: right;\n",
       "    }\n",
       "</style>\n",
       "<table border=\"1\" class=\"dataframe\">\n",
       "  <thead>\n",
       "    <tr style=\"text-align: right;\">\n",
       "      <th></th>\n",
       "      <th>name</th>\n",
       "      <th>breed</th>\n",
       "      <th>color</th>\n",
       "      <th>height</th>\n",
       "      <th>weight</th>\n",
       "      <th>date of birth</th>\n",
       "      <th>city</th>\n",
       "    </tr>\n",
       "  </thead>\n",
       "  <tbody>\n",
       "    <tr>\n",
       "      <th>0</th>\n",
       "      <td>bella</td>\n",
       "      <td>Labrador</td>\n",
       "      <td>brown</td>\n",
       "      <td>56</td>\n",
       "      <td>24</td>\n",
       "      <td>2013-07-01</td>\n",
       "      <td>teharn</td>\n",
       "    </tr>\n",
       "    <tr>\n",
       "      <th>1</th>\n",
       "      <td>charlie</td>\n",
       "      <td>poodle</td>\n",
       "      <td>black</td>\n",
       "      <td>43</td>\n",
       "      <td>24</td>\n",
       "      <td>2016-09-16</td>\n",
       "      <td>berlin</td>\n",
       "    </tr>\n",
       "    <tr>\n",
       "      <th>2</th>\n",
       "      <td>lucy</td>\n",
       "      <td>chow chow</td>\n",
       "      <td>brown</td>\n",
       "      <td>46</td>\n",
       "      <td>24</td>\n",
       "      <td>2014-08-25</td>\n",
       "      <td>paris</td>\n",
       "    </tr>\n",
       "    <tr>\n",
       "      <th>3</th>\n",
       "      <td>cooper</td>\n",
       "      <td>schnauzer</td>\n",
       "      <td>gray</td>\n",
       "      <td>49</td>\n",
       "      <td>17</td>\n",
       "      <td>2011-12-11</td>\n",
       "      <td>paris</td>\n",
       "    </tr>\n",
       "    <tr>\n",
       "      <th>4</th>\n",
       "      <td>max</td>\n",
       "      <td>Labrador</td>\n",
       "      <td>black</td>\n",
       "      <td>59</td>\n",
       "      <td>29</td>\n",
       "      <td>2017-01-20</td>\n",
       "      <td>berlin</td>\n",
       "    </tr>\n",
       "    <tr>\n",
       "      <th>5</th>\n",
       "      <td>stella</td>\n",
       "      <td>chihuahua</td>\n",
       "      <td>Tan</td>\n",
       "      <td>18</td>\n",
       "      <td>2</td>\n",
       "      <td>2015-04-20</td>\n",
       "      <td>paris</td>\n",
       "    </tr>\n",
       "    <tr>\n",
       "      <th>6</th>\n",
       "      <td>bernie</td>\n",
       "      <td>bernard</td>\n",
       "      <td>white</td>\n",
       "      <td>77</td>\n",
       "      <td>74</td>\n",
       "      <td>2018-02-27</td>\n",
       "      <td>teharn</td>\n",
       "    </tr>\n",
       "  </tbody>\n",
       "</table>\n",
       "</div>"
      ],
      "text/plain": [
       "      name      breed  color  height  weight date of birth    city\n",
       "0    bella   Labrador  brown      56      24    2013-07-01  teharn\n",
       "1  charlie     poodle  black      43      24    2016-09-16  berlin\n",
       "2     lucy  chow chow  brown      46      24    2014-08-25   paris\n",
       "3   cooper  schnauzer   gray      49      17    2011-12-11   paris\n",
       "4      max   Labrador  black      59      29    2017-01-20  berlin\n",
       "5   stella  chihuahua    Tan      18       2    2015-04-20   paris\n",
       "6   bernie    bernard  white      77      74    2018-02-27  teharn"
      ]
     },
     "execution_count": 353,
     "metadata": {},
     "output_type": "execute_result"
    }
   ],
   "source": [
    "# Adding a New Column\n",
    "df2[\"city\"] = [\"teharn\", \"berlin\", \"paris\", \"paris\", \"berlin\", \"paris\", \"teharn\"]\n",
    "df2"
   ]
  },
  {
   "cell_type": "code",
   "execution_count": 355,
   "id": "e3ad5da6-8836-4948-a5be-704cab8474d6",
   "metadata": {},
   "outputs": [],
   "source": [
    "# Adding a New Row\n",
    "df2.loc[len(df2)] = ['cele', 'poodle', 'gray', 54, 32, '2011-06-11', 'tehran']"
   ]
  },
  {
   "cell_type": "code",
   "execution_count": 357,
   "id": "59aae6c7-b283-4e08-b738-f0681c86a5ad",
   "metadata": {},
   "outputs": [
    {
     "data": {
      "text/html": [
       "<div>\n",
       "<style scoped>\n",
       "    .dataframe tbody tr th:only-of-type {\n",
       "        vertical-align: middle;\n",
       "    }\n",
       "\n",
       "    .dataframe tbody tr th {\n",
       "        vertical-align: top;\n",
       "    }\n",
       "\n",
       "    .dataframe thead th {\n",
       "        text-align: right;\n",
       "    }\n",
       "</style>\n",
       "<table border=\"1\" class=\"dataframe\">\n",
       "  <thead>\n",
       "    <tr style=\"text-align: right;\">\n",
       "      <th></th>\n",
       "      <th>name</th>\n",
       "      <th>breed</th>\n",
       "      <th>height</th>\n",
       "      <th>weight</th>\n",
       "      <th>date of birth</th>\n",
       "      <th>city</th>\n",
       "    </tr>\n",
       "  </thead>\n",
       "  <tbody>\n",
       "    <tr>\n",
       "      <th>0</th>\n",
       "      <td>bella</td>\n",
       "      <td>Labrador</td>\n",
       "      <td>56</td>\n",
       "      <td>24</td>\n",
       "      <td>2013-07-01</td>\n",
       "      <td>teharn</td>\n",
       "    </tr>\n",
       "    <tr>\n",
       "      <th>1</th>\n",
       "      <td>charlie</td>\n",
       "      <td>poodle</td>\n",
       "      <td>43</td>\n",
       "      <td>24</td>\n",
       "      <td>2016-09-16</td>\n",
       "      <td>berlin</td>\n",
       "    </tr>\n",
       "    <tr>\n",
       "      <th>2</th>\n",
       "      <td>lucy</td>\n",
       "      <td>chow chow</td>\n",
       "      <td>46</td>\n",
       "      <td>24</td>\n",
       "      <td>2014-08-25</td>\n",
       "      <td>paris</td>\n",
       "    </tr>\n",
       "    <tr>\n",
       "      <th>3</th>\n",
       "      <td>cooper</td>\n",
       "      <td>schnauzer</td>\n",
       "      <td>49</td>\n",
       "      <td>17</td>\n",
       "      <td>2011-12-11</td>\n",
       "      <td>paris</td>\n",
       "    </tr>\n",
       "    <tr>\n",
       "      <th>4</th>\n",
       "      <td>max</td>\n",
       "      <td>Labrador</td>\n",
       "      <td>59</td>\n",
       "      <td>29</td>\n",
       "      <td>2017-01-20</td>\n",
       "      <td>berlin</td>\n",
       "    </tr>\n",
       "    <tr>\n",
       "      <th>5</th>\n",
       "      <td>stella</td>\n",
       "      <td>chihuahua</td>\n",
       "      <td>18</td>\n",
       "      <td>2</td>\n",
       "      <td>2015-04-20</td>\n",
       "      <td>paris</td>\n",
       "    </tr>\n",
       "    <tr>\n",
       "      <th>6</th>\n",
       "      <td>bernie</td>\n",
       "      <td>bernard</td>\n",
       "      <td>77</td>\n",
       "      <td>74</td>\n",
       "      <td>2018-02-27</td>\n",
       "      <td>teharn</td>\n",
       "    </tr>\n",
       "    <tr>\n",
       "      <th>7</th>\n",
       "      <td>cele</td>\n",
       "      <td>poodle</td>\n",
       "      <td>54</td>\n",
       "      <td>32</td>\n",
       "      <td>2011-06-11</td>\n",
       "      <td>tehran</td>\n",
       "    </tr>\n",
       "  </tbody>\n",
       "</table>\n",
       "</div>"
      ],
      "text/plain": [
       "      name      breed  height  weight date of birth    city\n",
       "0    bella   Labrador      56      24    2013-07-01  teharn\n",
       "1  charlie     poodle      43      24    2016-09-16  berlin\n",
       "2     lucy  chow chow      46      24    2014-08-25   paris\n",
       "3   cooper  schnauzer      49      17    2011-12-11   paris\n",
       "4      max   Labrador      59      29    2017-01-20  berlin\n",
       "5   stella  chihuahua      18       2    2015-04-20   paris\n",
       "6   bernie    bernard      77      74    2018-02-27  teharn\n",
       "7     cele     poodle      54      32    2011-06-11  tehran"
      ]
     },
     "execution_count": 357,
     "metadata": {},
     "output_type": "execute_result"
    }
   ],
   "source": [
    "# Dropping a column\n",
    "df2.drop(columns = ['color'])"
   ]
  },
  {
   "cell_type": "code",
   "execution_count": 359,
   "id": "6d0d78e4-a841-4299-8728-6979044b662f",
   "metadata": {},
   "outputs": [
    {
     "data": {
      "text/html": [
       "<div>\n",
       "<style scoped>\n",
       "    .dataframe tbody tr th:only-of-type {\n",
       "        vertical-align: middle;\n",
       "    }\n",
       "\n",
       "    .dataframe tbody tr th {\n",
       "        vertical-align: top;\n",
       "    }\n",
       "\n",
       "    .dataframe thead th {\n",
       "        text-align: right;\n",
       "    }\n",
       "</style>\n",
       "<table border=\"1\" class=\"dataframe\">\n",
       "  <thead>\n",
       "    <tr style=\"text-align: right;\">\n",
       "      <th></th>\n",
       "      <th>name</th>\n",
       "      <th>breed</th>\n",
       "      <th>color</th>\n",
       "      <th>height</th>\n",
       "      <th>weight</th>\n",
       "      <th>date of birth</th>\n",
       "      <th>city</th>\n",
       "    </tr>\n",
       "  </thead>\n",
       "  <tbody>\n",
       "    <tr>\n",
       "      <th>0</th>\n",
       "      <td>bella</td>\n",
       "      <td>Labrador</td>\n",
       "      <td>brown</td>\n",
       "      <td>56</td>\n",
       "      <td>24</td>\n",
       "      <td>2013-07-01</td>\n",
       "      <td>teharn</td>\n",
       "    </tr>\n",
       "    <tr>\n",
       "      <th>2</th>\n",
       "      <td>lucy</td>\n",
       "      <td>chow chow</td>\n",
       "      <td>brown</td>\n",
       "      <td>46</td>\n",
       "      <td>24</td>\n",
       "      <td>2014-08-25</td>\n",
       "      <td>paris</td>\n",
       "    </tr>\n",
       "    <tr>\n",
       "      <th>3</th>\n",
       "      <td>cooper</td>\n",
       "      <td>schnauzer</td>\n",
       "      <td>gray</td>\n",
       "      <td>49</td>\n",
       "      <td>17</td>\n",
       "      <td>2011-12-11</td>\n",
       "      <td>paris</td>\n",
       "    </tr>\n",
       "    <tr>\n",
       "      <th>4</th>\n",
       "      <td>max</td>\n",
       "      <td>Labrador</td>\n",
       "      <td>black</td>\n",
       "      <td>59</td>\n",
       "      <td>29</td>\n",
       "      <td>2017-01-20</td>\n",
       "      <td>berlin</td>\n",
       "    </tr>\n",
       "    <tr>\n",
       "      <th>5</th>\n",
       "      <td>stella</td>\n",
       "      <td>chihuahua</td>\n",
       "      <td>Tan</td>\n",
       "      <td>18</td>\n",
       "      <td>2</td>\n",
       "      <td>2015-04-20</td>\n",
       "      <td>paris</td>\n",
       "    </tr>\n",
       "    <tr>\n",
       "      <th>6</th>\n",
       "      <td>bernie</td>\n",
       "      <td>bernard</td>\n",
       "      <td>white</td>\n",
       "      <td>77</td>\n",
       "      <td>74</td>\n",
       "      <td>2018-02-27</td>\n",
       "      <td>teharn</td>\n",
       "    </tr>\n",
       "    <tr>\n",
       "      <th>7</th>\n",
       "      <td>cele</td>\n",
       "      <td>poodle</td>\n",
       "      <td>gray</td>\n",
       "      <td>54</td>\n",
       "      <td>32</td>\n",
       "      <td>2011-06-11</td>\n",
       "      <td>tehran</td>\n",
       "    </tr>\n",
       "  </tbody>\n",
       "</table>\n",
       "</div>"
      ],
      "text/plain": [
       "     name      breed  color  height  weight date of birth    city\n",
       "0   bella   Labrador  brown      56      24    2013-07-01  teharn\n",
       "2    lucy  chow chow  brown      46      24    2014-08-25   paris\n",
       "3  cooper  schnauzer   gray      49      17    2011-12-11   paris\n",
       "4     max   Labrador  black      59      29    2017-01-20  berlin\n",
       "5  stella  chihuahua    Tan      18       2    2015-04-20   paris\n",
       "6  bernie    bernard  white      77      74    2018-02-27  teharn\n",
       "7    cele     poodle   gray      54      32    2011-06-11  tehran"
      ]
     },
     "execution_count": 359,
     "metadata": {},
     "output_type": "execute_result"
    }
   ],
   "source": [
    "# Dropping a row\n",
    "df2.drop(index = 1)"
   ]
  },
  {
   "cell_type": "code",
   "execution_count": 361,
   "id": "4263009b-cecf-40fa-8b41-b7f7270c3c96",
   "metadata": {},
   "outputs": [
    {
     "data": {
      "text/html": [
       "<div>\n",
       "<style scoped>\n",
       "    .dataframe tbody tr th:only-of-type {\n",
       "        vertical-align: middle;\n",
       "    }\n",
       "\n",
       "    .dataframe tbody tr th {\n",
       "        vertical-align: top;\n",
       "    }\n",
       "\n",
       "    .dataframe thead th {\n",
       "        text-align: right;\n",
       "    }\n",
       "</style>\n",
       "<table border=\"1\" class=\"dataframe\">\n",
       "  <thead>\n",
       "    <tr style=\"text-align: right;\">\n",
       "      <th></th>\n",
       "      <th>name</th>\n",
       "      <th>breed</th>\n",
       "      <th>color</th>\n",
       "      <th>height</th>\n",
       "      <th>weight</th>\n",
       "      <th>date of birth</th>\n",
       "      <th>city</th>\n",
       "      <th>index</th>\n",
       "    </tr>\n",
       "  </thead>\n",
       "  <tbody>\n",
       "    <tr>\n",
       "      <th>0</th>\n",
       "      <td>bella</td>\n",
       "      <td>Labrador</td>\n",
       "      <td>brown</td>\n",
       "      <td>56</td>\n",
       "      <td>24</td>\n",
       "      <td>2013-07-01</td>\n",
       "      <td>teharn</td>\n",
       "      <td>num1</td>\n",
       "    </tr>\n",
       "    <tr>\n",
       "      <th>1</th>\n",
       "      <td>charlie</td>\n",
       "      <td>poodle</td>\n",
       "      <td>black</td>\n",
       "      <td>43</td>\n",
       "      <td>24</td>\n",
       "      <td>2016-09-16</td>\n",
       "      <td>berlin</td>\n",
       "      <td>num2</td>\n",
       "    </tr>\n",
       "    <tr>\n",
       "      <th>2</th>\n",
       "      <td>lucy</td>\n",
       "      <td>chow chow</td>\n",
       "      <td>brown</td>\n",
       "      <td>46</td>\n",
       "      <td>24</td>\n",
       "      <td>2014-08-25</td>\n",
       "      <td>paris</td>\n",
       "      <td>num3</td>\n",
       "    </tr>\n",
       "    <tr>\n",
       "      <th>3</th>\n",
       "      <td>cooper</td>\n",
       "      <td>schnauzer</td>\n",
       "      <td>gray</td>\n",
       "      <td>49</td>\n",
       "      <td>17</td>\n",
       "      <td>2011-12-11</td>\n",
       "      <td>paris</td>\n",
       "      <td>num4</td>\n",
       "    </tr>\n",
       "    <tr>\n",
       "      <th>4</th>\n",
       "      <td>max</td>\n",
       "      <td>Labrador</td>\n",
       "      <td>black</td>\n",
       "      <td>59</td>\n",
       "      <td>29</td>\n",
       "      <td>2017-01-20</td>\n",
       "      <td>berlin</td>\n",
       "      <td>num5</td>\n",
       "    </tr>\n",
       "    <tr>\n",
       "      <th>5</th>\n",
       "      <td>stella</td>\n",
       "      <td>chihuahua</td>\n",
       "      <td>Tan</td>\n",
       "      <td>18</td>\n",
       "      <td>2</td>\n",
       "      <td>2015-04-20</td>\n",
       "      <td>paris</td>\n",
       "      <td>num6</td>\n",
       "    </tr>\n",
       "    <tr>\n",
       "      <th>6</th>\n",
       "      <td>bernie</td>\n",
       "      <td>bernard</td>\n",
       "      <td>white</td>\n",
       "      <td>77</td>\n",
       "      <td>74</td>\n",
       "      <td>2018-02-27</td>\n",
       "      <td>teharn</td>\n",
       "      <td>num7</td>\n",
       "    </tr>\n",
       "    <tr>\n",
       "      <th>7</th>\n",
       "      <td>cele</td>\n",
       "      <td>poodle</td>\n",
       "      <td>gray</td>\n",
       "      <td>54</td>\n",
       "      <td>32</td>\n",
       "      <td>2011-06-11</td>\n",
       "      <td>tehran</td>\n",
       "      <td>num8</td>\n",
       "    </tr>\n",
       "  </tbody>\n",
       "</table>\n",
       "</div>"
      ],
      "text/plain": [
       "      name      breed  color  height  weight date of birth    city index\n",
       "0    bella   Labrador  brown      56      24    2013-07-01  teharn  num1\n",
       "1  charlie     poodle  black      43      24    2016-09-16  berlin  num2\n",
       "2     lucy  chow chow  brown      46      24    2014-08-25   paris  num3\n",
       "3   cooper  schnauzer   gray      49      17    2011-12-11   paris  num4\n",
       "4      max   Labrador  black      59      29    2017-01-20  berlin  num5\n",
       "5   stella  chihuahua    Tan      18       2    2015-04-20   paris  num6\n",
       "6   bernie    bernard  white      77      74    2018-02-27  teharn  num7\n",
       "7     cele     poodle   gray      54      32    2011-06-11  tehran  num8"
      ]
     },
     "execution_count": 361,
     "metadata": {},
     "output_type": "execute_result"
    }
   ],
   "source": [
    "df2['index'] = ['num1','num2','num3','num4','num5', 'num6','num7', 'num8']\n",
    "df2"
   ]
  },
  {
   "cell_type": "code",
   "execution_count": 363,
   "id": "ca62e120-240f-4d03-ac35-4354cd270b7c",
   "metadata": {},
   "outputs": [],
   "source": [
    "df2.set_index('index', inplace=True)"
   ]
  },
  {
   "cell_type": "code",
   "execution_count": 365,
   "id": "6c5264c4-d327-44e8-839e-d1b2ce261f29",
   "metadata": {},
   "outputs": [
    {
     "data": {
      "text/html": [
       "<div>\n",
       "<style scoped>\n",
       "    .dataframe tbody tr th:only-of-type {\n",
       "        vertical-align: middle;\n",
       "    }\n",
       "\n",
       "    .dataframe tbody tr th {\n",
       "        vertical-align: top;\n",
       "    }\n",
       "\n",
       "    .dataframe thead th {\n",
       "        text-align: right;\n",
       "    }\n",
       "</style>\n",
       "<table border=\"1\" class=\"dataframe\">\n",
       "  <thead>\n",
       "    <tr style=\"text-align: right;\">\n",
       "      <th></th>\n",
       "      <th>name</th>\n",
       "      <th>breed</th>\n",
       "      <th>color</th>\n",
       "      <th>height</th>\n",
       "      <th>weight</th>\n",
       "      <th>date of birth</th>\n",
       "      <th>city</th>\n",
       "    </tr>\n",
       "    <tr>\n",
       "      <th>index</th>\n",
       "      <th></th>\n",
       "      <th></th>\n",
       "      <th></th>\n",
       "      <th></th>\n",
       "      <th></th>\n",
       "      <th></th>\n",
       "      <th></th>\n",
       "    </tr>\n",
       "  </thead>\n",
       "  <tbody>\n",
       "    <tr>\n",
       "      <th>num1</th>\n",
       "      <td>bella</td>\n",
       "      <td>Labrador</td>\n",
       "      <td>brown</td>\n",
       "      <td>56</td>\n",
       "      <td>24</td>\n",
       "      <td>2013-07-01</td>\n",
       "      <td>teharn</td>\n",
       "    </tr>\n",
       "    <tr>\n",
       "      <th>num2</th>\n",
       "      <td>charlie</td>\n",
       "      <td>poodle</td>\n",
       "      <td>black</td>\n",
       "      <td>43</td>\n",
       "      <td>24</td>\n",
       "      <td>2016-09-16</td>\n",
       "      <td>berlin</td>\n",
       "    </tr>\n",
       "    <tr>\n",
       "      <th>num3</th>\n",
       "      <td>lucy</td>\n",
       "      <td>chow chow</td>\n",
       "      <td>brown</td>\n",
       "      <td>46</td>\n",
       "      <td>24</td>\n",
       "      <td>2014-08-25</td>\n",
       "      <td>paris</td>\n",
       "    </tr>\n",
       "    <tr>\n",
       "      <th>num4</th>\n",
       "      <td>cooper</td>\n",
       "      <td>schnauzer</td>\n",
       "      <td>gray</td>\n",
       "      <td>49</td>\n",
       "      <td>17</td>\n",
       "      <td>2011-12-11</td>\n",
       "      <td>paris</td>\n",
       "    </tr>\n",
       "    <tr>\n",
       "      <th>num5</th>\n",
       "      <td>max</td>\n",
       "      <td>Labrador</td>\n",
       "      <td>black</td>\n",
       "      <td>59</td>\n",
       "      <td>29</td>\n",
       "      <td>2017-01-20</td>\n",
       "      <td>berlin</td>\n",
       "    </tr>\n",
       "    <tr>\n",
       "      <th>num6</th>\n",
       "      <td>stella</td>\n",
       "      <td>chihuahua</td>\n",
       "      <td>Tan</td>\n",
       "      <td>18</td>\n",
       "      <td>2</td>\n",
       "      <td>2015-04-20</td>\n",
       "      <td>paris</td>\n",
       "    </tr>\n",
       "    <tr>\n",
       "      <th>num7</th>\n",
       "      <td>bernie</td>\n",
       "      <td>bernard</td>\n",
       "      <td>white</td>\n",
       "      <td>77</td>\n",
       "      <td>74</td>\n",
       "      <td>2018-02-27</td>\n",
       "      <td>teharn</td>\n",
       "    </tr>\n",
       "    <tr>\n",
       "      <th>num8</th>\n",
       "      <td>cele</td>\n",
       "      <td>poodle</td>\n",
       "      <td>gray</td>\n",
       "      <td>54</td>\n",
       "      <td>32</td>\n",
       "      <td>2011-06-11</td>\n",
       "      <td>tehran</td>\n",
       "    </tr>\n",
       "  </tbody>\n",
       "</table>\n",
       "</div>"
      ],
      "text/plain": [
       "          name      breed  color  height  weight date of birth    city\n",
       "index                                                                 \n",
       "num1     bella   Labrador  brown      56      24    2013-07-01  teharn\n",
       "num2   charlie     poodle  black      43      24    2016-09-16  berlin\n",
       "num3      lucy  chow chow  brown      46      24    2014-08-25   paris\n",
       "num4    cooper  schnauzer   gray      49      17    2011-12-11   paris\n",
       "num5       max   Labrador  black      59      29    2017-01-20  berlin\n",
       "num6    stella  chihuahua    Tan      18       2    2015-04-20   paris\n",
       "num7    bernie    bernard  white      77      74    2018-02-27  teharn\n",
       "num8      cele     poodle   gray      54      32    2011-06-11  tehran"
      ]
     },
     "execution_count": 365,
     "metadata": {},
     "output_type": "execute_result"
    }
   ],
   "source": [
    "df2"
   ]
  },
  {
   "cell_type": "code",
   "execution_count": 367,
   "id": "822c6f18-7335-4697-9741-d502a2552715",
   "metadata": {},
   "outputs": [],
   "source": [
    "df2.rename(columns = {'city':'cities'}, inplace = True)"
   ]
  },
  {
   "cell_type": "code",
   "execution_count": 369,
   "id": "491bd6ef-ab2e-4cb3-b309-08a1495ff0d0",
   "metadata": {},
   "outputs": [
    {
     "data": {
      "text/html": [
       "<div>\n",
       "<style scoped>\n",
       "    .dataframe tbody tr th:only-of-type {\n",
       "        vertical-align: middle;\n",
       "    }\n",
       "\n",
       "    .dataframe tbody tr th {\n",
       "        vertical-align: top;\n",
       "    }\n",
       "\n",
       "    .dataframe thead th {\n",
       "        text-align: right;\n",
       "    }\n",
       "</style>\n",
       "<table border=\"1\" class=\"dataframe\">\n",
       "  <thead>\n",
       "    <tr style=\"text-align: right;\">\n",
       "      <th></th>\n",
       "      <th>name</th>\n",
       "      <th>breed</th>\n",
       "      <th>color</th>\n",
       "      <th>height</th>\n",
       "      <th>weight</th>\n",
       "      <th>date of birth</th>\n",
       "      <th>cities</th>\n",
       "    </tr>\n",
       "    <tr>\n",
       "      <th>index</th>\n",
       "      <th></th>\n",
       "      <th></th>\n",
       "      <th></th>\n",
       "      <th></th>\n",
       "      <th></th>\n",
       "      <th></th>\n",
       "      <th></th>\n",
       "    </tr>\n",
       "  </thead>\n",
       "  <tbody>\n",
       "    <tr>\n",
       "      <th>num1</th>\n",
       "      <td>bella</td>\n",
       "      <td>Labrador</td>\n",
       "      <td>brown</td>\n",
       "      <td>56</td>\n",
       "      <td>24</td>\n",
       "      <td>2013-07-01</td>\n",
       "      <td>teharn</td>\n",
       "    </tr>\n",
       "    <tr>\n",
       "      <th>num2</th>\n",
       "      <td>charlie</td>\n",
       "      <td>poodle</td>\n",
       "      <td>black</td>\n",
       "      <td>43</td>\n",
       "      <td>24</td>\n",
       "      <td>2016-09-16</td>\n",
       "      <td>berlin</td>\n",
       "    </tr>\n",
       "    <tr>\n",
       "      <th>num3</th>\n",
       "      <td>lucy</td>\n",
       "      <td>chow chow</td>\n",
       "      <td>brown</td>\n",
       "      <td>46</td>\n",
       "      <td>24</td>\n",
       "      <td>2014-08-25</td>\n",
       "      <td>paris</td>\n",
       "    </tr>\n",
       "    <tr>\n",
       "      <th>num4</th>\n",
       "      <td>cooper</td>\n",
       "      <td>schnauzer</td>\n",
       "      <td>gray</td>\n",
       "      <td>49</td>\n",
       "      <td>17</td>\n",
       "      <td>2011-12-11</td>\n",
       "      <td>paris</td>\n",
       "    </tr>\n",
       "    <tr>\n",
       "      <th>num5</th>\n",
       "      <td>max</td>\n",
       "      <td>Labrador</td>\n",
       "      <td>black</td>\n",
       "      <td>59</td>\n",
       "      <td>29</td>\n",
       "      <td>2017-01-20</td>\n",
       "      <td>berlin</td>\n",
       "    </tr>\n",
       "    <tr>\n",
       "      <th>num6</th>\n",
       "      <td>stella</td>\n",
       "      <td>chihuahua</td>\n",
       "      <td>Tan</td>\n",
       "      <td>18</td>\n",
       "      <td>2</td>\n",
       "      <td>2015-04-20</td>\n",
       "      <td>paris</td>\n",
       "    </tr>\n",
       "    <tr>\n",
       "      <th>num7</th>\n",
       "      <td>bernie</td>\n",
       "      <td>bernard</td>\n",
       "      <td>white</td>\n",
       "      <td>77</td>\n",
       "      <td>74</td>\n",
       "      <td>2018-02-27</td>\n",
       "      <td>teharn</td>\n",
       "    </tr>\n",
       "    <tr>\n",
       "      <th>num8</th>\n",
       "      <td>cele</td>\n",
       "      <td>poodle</td>\n",
       "      <td>gray</td>\n",
       "      <td>54</td>\n",
       "      <td>32</td>\n",
       "      <td>2011-06-11</td>\n",
       "      <td>tehran</td>\n",
       "    </tr>\n",
       "  </tbody>\n",
       "</table>\n",
       "</div>"
      ],
      "text/plain": [
       "          name      breed  color  height  weight date of birth  cities\n",
       "index                                                                 \n",
       "num1     bella   Labrador  brown      56      24    2013-07-01  teharn\n",
       "num2   charlie     poodle  black      43      24    2016-09-16  berlin\n",
       "num3      lucy  chow chow  brown      46      24    2014-08-25   paris\n",
       "num4    cooper  schnauzer   gray      49      17    2011-12-11   paris\n",
       "num5       max   Labrador  black      59      29    2017-01-20  berlin\n",
       "num6    stella  chihuahua    Tan      18       2    2015-04-20   paris\n",
       "num7    bernie    bernard  white      77      74    2018-02-27  teharn\n",
       "num8      cele     poodle   gray      54      32    2011-06-11  tehran"
      ]
     },
     "execution_count": 369,
     "metadata": {},
     "output_type": "execute_result"
    }
   ],
   "source": [
    "df2"
   ]
  },
  {
   "cell_type": "code",
   "execution_count": 371,
   "id": "67d3c249-ceef-4624-b40e-4e98d32a02ff",
   "metadata": {},
   "outputs": [],
   "source": [
    "df2.index = [101, 102, 103, 104, 105, 106, 107,108]"
   ]
  },
  {
   "cell_type": "code",
   "execution_count": 373,
   "id": "2059d17f-9a94-4afc-9bfd-1de6db68d275",
   "metadata": {},
   "outputs": [
    {
     "data": {
      "text/html": [
       "<div>\n",
       "<style scoped>\n",
       "    .dataframe tbody tr th:only-of-type {\n",
       "        vertical-align: middle;\n",
       "    }\n",
       "\n",
       "    .dataframe tbody tr th {\n",
       "        vertical-align: top;\n",
       "    }\n",
       "\n",
       "    .dataframe thead th {\n",
       "        text-align: right;\n",
       "    }\n",
       "</style>\n",
       "<table border=\"1\" class=\"dataframe\">\n",
       "  <thead>\n",
       "    <tr style=\"text-align: right;\">\n",
       "      <th></th>\n",
       "      <th>name</th>\n",
       "      <th>breed</th>\n",
       "      <th>color</th>\n",
       "      <th>height</th>\n",
       "      <th>weight</th>\n",
       "      <th>date of birth</th>\n",
       "      <th>cities</th>\n",
       "    </tr>\n",
       "  </thead>\n",
       "  <tbody>\n",
       "    <tr>\n",
       "      <th>101</th>\n",
       "      <td>bella</td>\n",
       "      <td>Labrador</td>\n",
       "      <td>brown</td>\n",
       "      <td>56</td>\n",
       "      <td>24</td>\n",
       "      <td>2013-07-01</td>\n",
       "      <td>teharn</td>\n",
       "    </tr>\n",
       "    <tr>\n",
       "      <th>102</th>\n",
       "      <td>charlie</td>\n",
       "      <td>poodle</td>\n",
       "      <td>black</td>\n",
       "      <td>43</td>\n",
       "      <td>24</td>\n",
       "      <td>2016-09-16</td>\n",
       "      <td>berlin</td>\n",
       "    </tr>\n",
       "    <tr>\n",
       "      <th>103</th>\n",
       "      <td>lucy</td>\n",
       "      <td>chow chow</td>\n",
       "      <td>brown</td>\n",
       "      <td>46</td>\n",
       "      <td>24</td>\n",
       "      <td>2014-08-25</td>\n",
       "      <td>paris</td>\n",
       "    </tr>\n",
       "    <tr>\n",
       "      <th>104</th>\n",
       "      <td>cooper</td>\n",
       "      <td>schnauzer</td>\n",
       "      <td>gray</td>\n",
       "      <td>49</td>\n",
       "      <td>17</td>\n",
       "      <td>2011-12-11</td>\n",
       "      <td>paris</td>\n",
       "    </tr>\n",
       "    <tr>\n",
       "      <th>105</th>\n",
       "      <td>max</td>\n",
       "      <td>Labrador</td>\n",
       "      <td>black</td>\n",
       "      <td>59</td>\n",
       "      <td>29</td>\n",
       "      <td>2017-01-20</td>\n",
       "      <td>berlin</td>\n",
       "    </tr>\n",
       "    <tr>\n",
       "      <th>106</th>\n",
       "      <td>stella</td>\n",
       "      <td>chihuahua</td>\n",
       "      <td>Tan</td>\n",
       "      <td>18</td>\n",
       "      <td>2</td>\n",
       "      <td>2015-04-20</td>\n",
       "      <td>paris</td>\n",
       "    </tr>\n",
       "    <tr>\n",
       "      <th>107</th>\n",
       "      <td>bernie</td>\n",
       "      <td>bernard</td>\n",
       "      <td>white</td>\n",
       "      <td>77</td>\n",
       "      <td>74</td>\n",
       "      <td>2018-02-27</td>\n",
       "      <td>teharn</td>\n",
       "    </tr>\n",
       "    <tr>\n",
       "      <th>108</th>\n",
       "      <td>cele</td>\n",
       "      <td>poodle</td>\n",
       "      <td>gray</td>\n",
       "      <td>54</td>\n",
       "      <td>32</td>\n",
       "      <td>2011-06-11</td>\n",
       "      <td>tehran</td>\n",
       "    </tr>\n",
       "  </tbody>\n",
       "</table>\n",
       "</div>"
      ],
      "text/plain": [
       "        name      breed  color  height  weight date of birth  cities\n",
       "101    bella   Labrador  brown      56      24    2013-07-01  teharn\n",
       "102  charlie     poodle  black      43      24    2016-09-16  berlin\n",
       "103     lucy  chow chow  brown      46      24    2014-08-25   paris\n",
       "104   cooper  schnauzer   gray      49      17    2011-12-11   paris\n",
       "105      max   Labrador  black      59      29    2017-01-20  berlin\n",
       "106   stella  chihuahua    Tan      18       2    2015-04-20   paris\n",
       "107   bernie    bernard  white      77      74    2018-02-27  teharn\n",
       "108     cele     poodle   gray      54      32    2011-06-11  tehran"
      ]
     },
     "execution_count": 373,
     "metadata": {},
     "output_type": "execute_result"
    }
   ],
   "source": [
    "df2"
   ]
  },
  {
   "cell_type": "code",
   "execution_count": 375,
   "id": "f4a580d3-48fd-41c0-814c-e8710fe03aeb",
   "metadata": {},
   "outputs": [
    {
     "data": {
      "text/html": [
       "<div>\n",
       "<style scoped>\n",
       "    .dataframe tbody tr th:only-of-type {\n",
       "        vertical-align: middle;\n",
       "    }\n",
       "\n",
       "    .dataframe tbody tr th {\n",
       "        vertical-align: top;\n",
       "    }\n",
       "\n",
       "    .dataframe thead th {\n",
       "        text-align: right;\n",
       "    }\n",
       "</style>\n",
       "<table border=\"1\" class=\"dataframe\">\n",
       "  <thead>\n",
       "    <tr style=\"text-align: right;\">\n",
       "      <th></th>\n",
       "      <th>name</th>\n",
       "      <th>breed</th>\n",
       "      <th>color</th>\n",
       "      <th>height</th>\n",
       "      <th>weight</th>\n",
       "      <th>date of birth</th>\n",
       "      <th>country</th>\n",
       "      <th>cities</th>\n",
       "    </tr>\n",
       "  </thead>\n",
       "  <tbody>\n",
       "    <tr>\n",
       "      <th>101</th>\n",
       "      <td>bella</td>\n",
       "      <td>Labrador</td>\n",
       "      <td>brown</td>\n",
       "      <td>56</td>\n",
       "      <td>24</td>\n",
       "      <td>2013-07-01</td>\n",
       "      <td>iran</td>\n",
       "      <td>teharn</td>\n",
       "    </tr>\n",
       "    <tr>\n",
       "      <th>102</th>\n",
       "      <td>charlie</td>\n",
       "      <td>poodle</td>\n",
       "      <td>black</td>\n",
       "      <td>43</td>\n",
       "      <td>24</td>\n",
       "      <td>2016-09-16</td>\n",
       "      <td>germany</td>\n",
       "      <td>berlin</td>\n",
       "    </tr>\n",
       "    <tr>\n",
       "      <th>103</th>\n",
       "      <td>lucy</td>\n",
       "      <td>chow chow</td>\n",
       "      <td>brown</td>\n",
       "      <td>46</td>\n",
       "      <td>24</td>\n",
       "      <td>2014-08-25</td>\n",
       "      <td>france</td>\n",
       "      <td>paris</td>\n",
       "    </tr>\n",
       "    <tr>\n",
       "      <th>104</th>\n",
       "      <td>cooper</td>\n",
       "      <td>schnauzer</td>\n",
       "      <td>gray</td>\n",
       "      <td>49</td>\n",
       "      <td>17</td>\n",
       "      <td>2011-12-11</td>\n",
       "      <td>france</td>\n",
       "      <td>paris</td>\n",
       "    </tr>\n",
       "    <tr>\n",
       "      <th>105</th>\n",
       "      <td>max</td>\n",
       "      <td>Labrador</td>\n",
       "      <td>black</td>\n",
       "      <td>59</td>\n",
       "      <td>29</td>\n",
       "      <td>2017-01-20</td>\n",
       "      <td>germany</td>\n",
       "      <td>berlin</td>\n",
       "    </tr>\n",
       "    <tr>\n",
       "      <th>106</th>\n",
       "      <td>stella</td>\n",
       "      <td>chihuahua</td>\n",
       "      <td>Tan</td>\n",
       "      <td>18</td>\n",
       "      <td>2</td>\n",
       "      <td>2015-04-20</td>\n",
       "      <td>france</td>\n",
       "      <td>paris</td>\n",
       "    </tr>\n",
       "    <tr>\n",
       "      <th>107</th>\n",
       "      <td>bernie</td>\n",
       "      <td>bernard</td>\n",
       "      <td>white</td>\n",
       "      <td>77</td>\n",
       "      <td>74</td>\n",
       "      <td>2018-02-27</td>\n",
       "      <td>iran</td>\n",
       "      <td>teharn</td>\n",
       "    </tr>\n",
       "    <tr>\n",
       "      <th>108</th>\n",
       "      <td>cele</td>\n",
       "      <td>poodle</td>\n",
       "      <td>gray</td>\n",
       "      <td>54</td>\n",
       "      <td>32</td>\n",
       "      <td>2011-06-11</td>\n",
       "      <td>iran</td>\n",
       "      <td>tehran</td>\n",
       "    </tr>\n",
       "  </tbody>\n",
       "</table>\n",
       "</div>"
      ],
      "text/plain": [
       "        name      breed  color  height  weight date of birth  country  cities\n",
       "101    bella   Labrador  brown      56      24    2013-07-01     iran  teharn\n",
       "102  charlie     poodle  black      43      24    2016-09-16  germany  berlin\n",
       "103     lucy  chow chow  brown      46      24    2014-08-25   france   paris\n",
       "104   cooper  schnauzer   gray      49      17    2011-12-11   france   paris\n",
       "105      max   Labrador  black      59      29    2017-01-20  germany  berlin\n",
       "106   stella  chihuahua    Tan      18       2    2015-04-20   france   paris\n",
       "107   bernie    bernard  white      77      74    2018-02-27     iran  teharn\n",
       "108     cele     poodle   gray      54      32    2011-06-11     iran  tehran"
      ]
     },
     "execution_count": 375,
     "metadata": {},
     "output_type": "execute_result"
    }
   ],
   "source": [
    "df2.insert(6, \"country\", [\"iran\", \"germany\", \"france\", \"france\", \"germany\", \"france\", \"iran\", \"iran\"])\n",
    "df2"
   ]
  },
  {
   "cell_type": "code",
   "execution_count": 377,
   "id": "e0928275-161a-43a5-8ebf-2440de01f392",
   "metadata": {},
   "outputs": [
    {
     "data": {
      "text/html": [
       "<div>\n",
       "<style scoped>\n",
       "    .dataframe tbody tr th:only-of-type {\n",
       "        vertical-align: middle;\n",
       "    }\n",
       "\n",
       "    .dataframe tbody tr th {\n",
       "        vertical-align: top;\n",
       "    }\n",
       "\n",
       "    .dataframe thead th {\n",
       "        text-align: right;\n",
       "    }\n",
       "</style>\n",
       "<table border=\"1\" class=\"dataframe\">\n",
       "  <thead>\n",
       "    <tr style=\"text-align: right;\">\n",
       "      <th></th>\n",
       "      <th>name</th>\n",
       "      <th>breed</th>\n",
       "    </tr>\n",
       "  </thead>\n",
       "  <tbody>\n",
       "    <tr>\n",
       "      <th>101</th>\n",
       "      <td>bella</td>\n",
       "      <td>Labrador</td>\n",
       "    </tr>\n",
       "    <tr>\n",
       "      <th>102</th>\n",
       "      <td>charlie</td>\n",
       "      <td>poodle</td>\n",
       "    </tr>\n",
       "    <tr>\n",
       "      <th>103</th>\n",
       "      <td>lucy</td>\n",
       "      <td>chow chow</td>\n",
       "    </tr>\n",
       "    <tr>\n",
       "      <th>104</th>\n",
       "      <td>cooper</td>\n",
       "      <td>schnauzer</td>\n",
       "    </tr>\n",
       "    <tr>\n",
       "      <th>105</th>\n",
       "      <td>max</td>\n",
       "      <td>Labrador</td>\n",
       "    </tr>\n",
       "    <tr>\n",
       "      <th>106</th>\n",
       "      <td>stella</td>\n",
       "      <td>chihuahua</td>\n",
       "    </tr>\n",
       "    <tr>\n",
       "      <th>107</th>\n",
       "      <td>bernie</td>\n",
       "      <td>bernard</td>\n",
       "    </tr>\n",
       "    <tr>\n",
       "      <th>108</th>\n",
       "      <td>cele</td>\n",
       "      <td>poodle</td>\n",
       "    </tr>\n",
       "  </tbody>\n",
       "</table>\n",
       "</div>"
      ],
      "text/plain": [
       "        name      breed\n",
       "101    bella   Labrador\n",
       "102  charlie     poodle\n",
       "103     lucy  chow chow\n",
       "104   cooper  schnauzer\n",
       "105      max   Labrador\n",
       "106   stella  chihuahua\n",
       "107   bernie    bernard\n",
       "108     cele     poodle"
      ]
     },
     "execution_count": 377,
     "metadata": {},
     "output_type": "execute_result"
    }
   ],
   "source": [
    "df2[[\"name\", \"breed\"]]"
   ]
  },
  {
   "cell_type": "code",
   "execution_count": 379,
   "id": "d5b59bf2-056a-4e29-8af3-179c713a104d",
   "metadata": {},
   "outputs": [
    {
     "data": {
      "text/html": [
       "<div>\n",
       "<style scoped>\n",
       "    .dataframe tbody tr th:only-of-type {\n",
       "        vertical-align: middle;\n",
       "    }\n",
       "\n",
       "    .dataframe tbody tr th {\n",
       "        vertical-align: top;\n",
       "    }\n",
       "\n",
       "    .dataframe thead th {\n",
       "        text-align: right;\n",
       "    }\n",
       "</style>\n",
       "<table border=\"1\" class=\"dataframe\">\n",
       "  <thead>\n",
       "    <tr style=\"text-align: right;\">\n",
       "      <th></th>\n",
       "      <th>name</th>\n",
       "      <th>breed</th>\n",
       "      <th>color</th>\n",
       "      <th>height</th>\n",
       "      <th>weight</th>\n",
       "      <th>date of birth</th>\n",
       "      <th>country</th>\n",
       "      <th>cities</th>\n",
       "    </tr>\n",
       "  </thead>\n",
       "  <tbody>\n",
       "    <tr>\n",
       "      <th>101</th>\n",
       "      <td>bella</td>\n",
       "      <td>Labrador</td>\n",
       "      <td>brown</td>\n",
       "      <td>56</td>\n",
       "      <td>24</td>\n",
       "      <td>2013-07-01</td>\n",
       "      <td>iran</td>\n",
       "      <td>teharn</td>\n",
       "    </tr>\n",
       "  </tbody>\n",
       "</table>\n",
       "</div>"
      ],
      "text/plain": [
       "      name     breed  color  height  weight date of birth country  cities\n",
       "101  bella  Labrador  brown      56      24    2013-07-01    iran  teharn"
      ]
     },
     "execution_count": 379,
     "metadata": {},
     "output_type": "execute_result"
    }
   ],
   "source": [
    "df2.loc[[101,]]"
   ]
  },
  {
   "cell_type": "code",
   "execution_count": 381,
   "id": "c0a6c8fb-dfe0-4abc-8484-47f37e1f5cde",
   "metadata": {},
   "outputs": [
    {
     "data": {
      "text/html": [
       "<div>\n",
       "<style scoped>\n",
       "    .dataframe tbody tr th:only-of-type {\n",
       "        vertical-align: middle;\n",
       "    }\n",
       "\n",
       "    .dataframe tbody tr th {\n",
       "        vertical-align: top;\n",
       "    }\n",
       "\n",
       "    .dataframe thead th {\n",
       "        text-align: right;\n",
       "    }\n",
       "</style>\n",
       "<table border=\"1\" class=\"dataframe\">\n",
       "  <thead>\n",
       "    <tr style=\"text-align: right;\">\n",
       "      <th></th>\n",
       "      <th>name</th>\n",
       "      <th>breed</th>\n",
       "      <th>color</th>\n",
       "      <th>height</th>\n",
       "      <th>weight</th>\n",
       "      <th>date of birth</th>\n",
       "      <th>country</th>\n",
       "      <th>cities</th>\n",
       "    </tr>\n",
       "  </thead>\n",
       "  <tbody>\n",
       "    <tr>\n",
       "      <th>102</th>\n",
       "      <td>charlie</td>\n",
       "      <td>poodle</td>\n",
       "      <td>black</td>\n",
       "      <td>43</td>\n",
       "      <td>24</td>\n",
       "      <td>2016-09-16</td>\n",
       "      <td>germany</td>\n",
       "      <td>berlin</td>\n",
       "    </tr>\n",
       "  </tbody>\n",
       "</table>\n",
       "</div>"
      ],
      "text/plain": [
       "        name   breed  color  height  weight date of birth  country  cities\n",
       "102  charlie  poodle  black      43      24    2016-09-16  germany  berlin"
      ]
     },
     "execution_count": 381,
     "metadata": {},
     "output_type": "execute_result"
    }
   ],
   "source": [
    "df2.iloc[[1]]"
   ]
  },
  {
   "cell_type": "code",
   "execution_count": 383,
   "id": "c056d938-42d2-40f8-a7ab-158cc9981b3e",
   "metadata": {},
   "outputs": [
    {
     "data": {
      "text/html": [
       "<div>\n",
       "<style scoped>\n",
       "    .dataframe tbody tr th:only-of-type {\n",
       "        vertical-align: middle;\n",
       "    }\n",
       "\n",
       "    .dataframe tbody tr th {\n",
       "        vertical-align: top;\n",
       "    }\n",
       "\n",
       "    .dataframe thead th {\n",
       "        text-align: right;\n",
       "    }\n",
       "</style>\n",
       "<table border=\"1\" class=\"dataframe\">\n",
       "  <thead>\n",
       "    <tr style=\"text-align: right;\">\n",
       "      <th></th>\n",
       "      <th>name</th>\n",
       "      <th>color</th>\n",
       "    </tr>\n",
       "  </thead>\n",
       "  <tbody>\n",
       "    <tr>\n",
       "      <th>101</th>\n",
       "      <td>bella</td>\n",
       "      <td>brown</td>\n",
       "    </tr>\n",
       "    <tr>\n",
       "      <th>102</th>\n",
       "      <td>charlie</td>\n",
       "      <td>black</td>\n",
       "    </tr>\n",
       "    <tr>\n",
       "      <th>103</th>\n",
       "      <td>lucy</td>\n",
       "      <td>brown</td>\n",
       "    </tr>\n",
       "  </tbody>\n",
       "</table>\n",
       "</div>"
      ],
      "text/plain": [
       "        name  color\n",
       "101    bella  brown\n",
       "102  charlie  black\n",
       "103     lucy  brown"
      ]
     },
     "execution_count": 383,
     "metadata": {},
     "output_type": "execute_result"
    }
   ],
   "source": [
    "df2.loc[[101, 102, 103], [\"name\", \"color\"]]"
   ]
  },
  {
   "cell_type": "code",
   "execution_count": 385,
   "id": "8fa0944e-bdc7-4204-96df-668b32cd069a",
   "metadata": {},
   "outputs": [
    {
     "data": {
      "text/html": [
       "<div>\n",
       "<style scoped>\n",
       "    .dataframe tbody tr th:only-of-type {\n",
       "        vertical-align: middle;\n",
       "    }\n",
       "\n",
       "    .dataframe tbody tr th {\n",
       "        vertical-align: top;\n",
       "    }\n",
       "\n",
       "    .dataframe thead th {\n",
       "        text-align: right;\n",
       "    }\n",
       "</style>\n",
       "<table border=\"1\" class=\"dataframe\">\n",
       "  <thead>\n",
       "    <tr style=\"text-align: right;\">\n",
       "      <th></th>\n",
       "      <th>name</th>\n",
       "      <th>breed</th>\n",
       "    </tr>\n",
       "  </thead>\n",
       "  <tbody>\n",
       "    <tr>\n",
       "      <th>101</th>\n",
       "      <td>bella</td>\n",
       "      <td>Labrador</td>\n",
       "    </tr>\n",
       "    <tr>\n",
       "      <th>102</th>\n",
       "      <td>charlie</td>\n",
       "      <td>poodle</td>\n",
       "    </tr>\n",
       "    <tr>\n",
       "      <th>103</th>\n",
       "      <td>lucy</td>\n",
       "      <td>chow chow</td>\n",
       "    </tr>\n",
       "  </tbody>\n",
       "</table>\n",
       "</div>"
      ],
      "text/plain": [
       "        name      breed\n",
       "101    bella   Labrador\n",
       "102  charlie     poodle\n",
       "103     lucy  chow chow"
      ]
     },
     "execution_count": 385,
     "metadata": {},
     "output_type": "execute_result"
    }
   ],
   "source": [
    "df2.iloc[[0,1,2], [0,1]]"
   ]
  },
  {
   "cell_type": "code",
   "execution_count": 387,
   "id": "db680f85-58ab-43ad-864d-48e42c0cd8d7",
   "metadata": {},
   "outputs": [
    {
     "data": {
      "text/html": [
       "<div>\n",
       "<style scoped>\n",
       "    .dataframe tbody tr th:only-of-type {\n",
       "        vertical-align: middle;\n",
       "    }\n",
       "\n",
       "    .dataframe tbody tr th {\n",
       "        vertical-align: top;\n",
       "    }\n",
       "\n",
       "    .dataframe thead th {\n",
       "        text-align: right;\n",
       "    }\n",
       "</style>\n",
       "<table border=\"1\" class=\"dataframe\">\n",
       "  <thead>\n",
       "    <tr style=\"text-align: right;\">\n",
       "      <th></th>\n",
       "      <th>name</th>\n",
       "      <th>breed</th>\n",
       "      <th>color</th>\n",
       "      <th>height</th>\n",
       "      <th>weight</th>\n",
       "      <th>date of birth</th>\n",
       "      <th>country</th>\n",
       "      <th>cities</th>\n",
       "    </tr>\n",
       "  </thead>\n",
       "  <tbody>\n",
       "    <tr>\n",
       "      <th>106</th>\n",
       "      <td>stella</td>\n",
       "      <td>chihuahua</td>\n",
       "      <td>Tan</td>\n",
       "      <td>18</td>\n",
       "      <td>2</td>\n",
       "      <td>2015-04-20</td>\n",
       "      <td>france</td>\n",
       "      <td>paris</td>\n",
       "    </tr>\n",
       "    <tr>\n",
       "      <th>102</th>\n",
       "      <td>charlie</td>\n",
       "      <td>poodle</td>\n",
       "      <td>black</td>\n",
       "      <td>43</td>\n",
       "      <td>24</td>\n",
       "      <td>2016-09-16</td>\n",
       "      <td>germany</td>\n",
       "      <td>berlin</td>\n",
       "    </tr>\n",
       "    <tr>\n",
       "      <th>103</th>\n",
       "      <td>lucy</td>\n",
       "      <td>chow chow</td>\n",
       "      <td>brown</td>\n",
       "      <td>46</td>\n",
       "      <td>24</td>\n",
       "      <td>2014-08-25</td>\n",
       "      <td>france</td>\n",
       "      <td>paris</td>\n",
       "    </tr>\n",
       "    <tr>\n",
       "      <th>104</th>\n",
       "      <td>cooper</td>\n",
       "      <td>schnauzer</td>\n",
       "      <td>gray</td>\n",
       "      <td>49</td>\n",
       "      <td>17</td>\n",
       "      <td>2011-12-11</td>\n",
       "      <td>france</td>\n",
       "      <td>paris</td>\n",
       "    </tr>\n",
       "    <tr>\n",
       "      <th>108</th>\n",
       "      <td>cele</td>\n",
       "      <td>poodle</td>\n",
       "      <td>gray</td>\n",
       "      <td>54</td>\n",
       "      <td>32</td>\n",
       "      <td>2011-06-11</td>\n",
       "      <td>iran</td>\n",
       "      <td>tehran</td>\n",
       "    </tr>\n",
       "    <tr>\n",
       "      <th>101</th>\n",
       "      <td>bella</td>\n",
       "      <td>Labrador</td>\n",
       "      <td>brown</td>\n",
       "      <td>56</td>\n",
       "      <td>24</td>\n",
       "      <td>2013-07-01</td>\n",
       "      <td>iran</td>\n",
       "      <td>teharn</td>\n",
       "    </tr>\n",
       "    <tr>\n",
       "      <th>105</th>\n",
       "      <td>max</td>\n",
       "      <td>Labrador</td>\n",
       "      <td>black</td>\n",
       "      <td>59</td>\n",
       "      <td>29</td>\n",
       "      <td>2017-01-20</td>\n",
       "      <td>germany</td>\n",
       "      <td>berlin</td>\n",
       "    </tr>\n",
       "    <tr>\n",
       "      <th>107</th>\n",
       "      <td>bernie</td>\n",
       "      <td>bernard</td>\n",
       "      <td>white</td>\n",
       "      <td>77</td>\n",
       "      <td>74</td>\n",
       "      <td>2018-02-27</td>\n",
       "      <td>iran</td>\n",
       "      <td>teharn</td>\n",
       "    </tr>\n",
       "  </tbody>\n",
       "</table>\n",
       "</div>"
      ],
      "text/plain": [
       "        name      breed  color  height  weight date of birth  country  cities\n",
       "106   stella  chihuahua    Tan      18       2    2015-04-20   france   paris\n",
       "102  charlie     poodle  black      43      24    2016-09-16  germany  berlin\n",
       "103     lucy  chow chow  brown      46      24    2014-08-25   france   paris\n",
       "104   cooper  schnauzer   gray      49      17    2011-12-11   france   paris\n",
       "108     cele     poodle   gray      54      32    2011-06-11     iran  tehran\n",
       "101    bella   Labrador  brown      56      24    2013-07-01     iran  teharn\n",
       "105      max   Labrador  black      59      29    2017-01-20  germany  berlin\n",
       "107   bernie    bernard  white      77      74    2018-02-27     iran  teharn"
      ]
     },
     "execution_count": 387,
     "metadata": {},
     "output_type": "execute_result"
    }
   ],
   "source": [
    "df2.sort_values([\"height\"]) "
   ]
  },
  {
   "cell_type": "code",
   "execution_count": 389,
   "id": "9db95835-4474-4daf-b731-2b1930f2efd5",
   "metadata": {},
   "outputs": [
    {
     "data": {
      "text/html": [
       "<div>\n",
       "<style scoped>\n",
       "    .dataframe tbody tr th:only-of-type {\n",
       "        vertical-align: middle;\n",
       "    }\n",
       "\n",
       "    .dataframe tbody tr th {\n",
       "        vertical-align: top;\n",
       "    }\n",
       "\n",
       "    .dataframe thead th {\n",
       "        text-align: right;\n",
       "    }\n",
       "</style>\n",
       "<table border=\"1\" class=\"dataframe\">\n",
       "  <thead>\n",
       "    <tr style=\"text-align: right;\">\n",
       "      <th></th>\n",
       "      <th>height</th>\n",
       "    </tr>\n",
       "  </thead>\n",
       "  <tbody>\n",
       "    <tr>\n",
       "      <th>101</th>\n",
       "      <td>False</td>\n",
       "    </tr>\n",
       "    <tr>\n",
       "      <th>102</th>\n",
       "      <td>False</td>\n",
       "    </tr>\n",
       "    <tr>\n",
       "      <th>103</th>\n",
       "      <td>False</td>\n",
       "    </tr>\n",
       "    <tr>\n",
       "      <th>104</th>\n",
       "      <td>False</td>\n",
       "    </tr>\n",
       "    <tr>\n",
       "      <th>105</th>\n",
       "      <td>False</td>\n",
       "    </tr>\n",
       "    <tr>\n",
       "      <th>106</th>\n",
       "      <td>False</td>\n",
       "    </tr>\n",
       "    <tr>\n",
       "      <th>107</th>\n",
       "      <td>False</td>\n",
       "    </tr>\n",
       "    <tr>\n",
       "      <th>108</th>\n",
       "      <td>True</td>\n",
       "    </tr>\n",
       "  </tbody>\n",
       "</table>\n",
       "</div>"
      ],
      "text/plain": [
       "     height\n",
       "101   False\n",
       "102   False\n",
       "103   False\n",
       "104   False\n",
       "105   False\n",
       "106   False\n",
       "107   False\n",
       "108    True"
      ]
     },
     "execution_count": 389,
     "metadata": {},
     "output_type": "execute_result"
    }
   ],
   "source": [
    "df2[[\"height\"]] == 54 "
   ]
  },
  {
   "cell_type": "code",
   "execution_count": 391,
   "id": "da001c73-904e-483f-969a-bfcd8d5d20ec",
   "metadata": {},
   "outputs": [
    {
     "data": {
      "text/html": [
       "<div>\n",
       "<style scoped>\n",
       "    .dataframe tbody tr th:only-of-type {\n",
       "        vertical-align: middle;\n",
       "    }\n",
       "\n",
       "    .dataframe tbody tr th {\n",
       "        vertical-align: top;\n",
       "    }\n",
       "\n",
       "    .dataframe thead th {\n",
       "        text-align: right;\n",
       "    }\n",
       "</style>\n",
       "<table border=\"1\" class=\"dataframe\">\n",
       "  <thead>\n",
       "    <tr style=\"text-align: right;\">\n",
       "      <th></th>\n",
       "      <th>name</th>\n",
       "      <th>breed</th>\n",
       "      <th>color</th>\n",
       "      <th>height</th>\n",
       "      <th>weight</th>\n",
       "      <th>date of birth</th>\n",
       "      <th>country</th>\n",
       "      <th>cities</th>\n",
       "    </tr>\n",
       "  </thead>\n",
       "  <tbody>\n",
       "    <tr>\n",
       "      <th>101</th>\n",
       "      <td>NaN</td>\n",
       "      <td>NaN</td>\n",
       "      <td>NaN</td>\n",
       "      <td>NaN</td>\n",
       "      <td>NaN</td>\n",
       "      <td>NaN</td>\n",
       "      <td>NaN</td>\n",
       "      <td>NaN</td>\n",
       "    </tr>\n",
       "    <tr>\n",
       "      <th>102</th>\n",
       "      <td>NaN</td>\n",
       "      <td>NaN</td>\n",
       "      <td>NaN</td>\n",
       "      <td>NaN</td>\n",
       "      <td>NaN</td>\n",
       "      <td>NaN</td>\n",
       "      <td>NaN</td>\n",
       "      <td>NaN</td>\n",
       "    </tr>\n",
       "    <tr>\n",
       "      <th>103</th>\n",
       "      <td>NaN</td>\n",
       "      <td>NaN</td>\n",
       "      <td>NaN</td>\n",
       "      <td>NaN</td>\n",
       "      <td>NaN</td>\n",
       "      <td>NaN</td>\n",
       "      <td>NaN</td>\n",
       "      <td>NaN</td>\n",
       "    </tr>\n",
       "    <tr>\n",
       "      <th>104</th>\n",
       "      <td>NaN</td>\n",
       "      <td>NaN</td>\n",
       "      <td>NaN</td>\n",
       "      <td>NaN</td>\n",
       "      <td>NaN</td>\n",
       "      <td>NaN</td>\n",
       "      <td>NaN</td>\n",
       "      <td>NaN</td>\n",
       "    </tr>\n",
       "    <tr>\n",
       "      <th>105</th>\n",
       "      <td>NaN</td>\n",
       "      <td>NaN</td>\n",
       "      <td>NaN</td>\n",
       "      <td>NaN</td>\n",
       "      <td>NaN</td>\n",
       "      <td>NaN</td>\n",
       "      <td>NaN</td>\n",
       "      <td>NaN</td>\n",
       "    </tr>\n",
       "    <tr>\n",
       "      <th>106</th>\n",
       "      <td>NaN</td>\n",
       "      <td>NaN</td>\n",
       "      <td>NaN</td>\n",
       "      <td>NaN</td>\n",
       "      <td>NaN</td>\n",
       "      <td>NaN</td>\n",
       "      <td>NaN</td>\n",
       "      <td>NaN</td>\n",
       "    </tr>\n",
       "    <tr>\n",
       "      <th>107</th>\n",
       "      <td>NaN</td>\n",
       "      <td>NaN</td>\n",
       "      <td>NaN</td>\n",
       "      <td>NaN</td>\n",
       "      <td>NaN</td>\n",
       "      <td>NaN</td>\n",
       "      <td>NaN</td>\n",
       "      <td>NaN</td>\n",
       "    </tr>\n",
       "    <tr>\n",
       "      <th>108</th>\n",
       "      <td>NaN</td>\n",
       "      <td>NaN</td>\n",
       "      <td>NaN</td>\n",
       "      <td>54.0</td>\n",
       "      <td>NaN</td>\n",
       "      <td>NaN</td>\n",
       "      <td>NaN</td>\n",
       "      <td>NaN</td>\n",
       "    </tr>\n",
       "  </tbody>\n",
       "</table>\n",
       "</div>"
      ],
      "text/plain": [
       "    name breed color  height  weight date of birth country cities\n",
       "101  NaN   NaN   NaN     NaN     NaN           NaN     NaN    NaN\n",
       "102  NaN   NaN   NaN     NaN     NaN           NaN     NaN    NaN\n",
       "103  NaN   NaN   NaN     NaN     NaN           NaN     NaN    NaN\n",
       "104  NaN   NaN   NaN     NaN     NaN           NaN     NaN    NaN\n",
       "105  NaN   NaN   NaN     NaN     NaN           NaN     NaN    NaN\n",
       "106  NaN   NaN   NaN     NaN     NaN           NaN     NaN    NaN\n",
       "107  NaN   NaN   NaN     NaN     NaN           NaN     NaN    NaN\n",
       "108  NaN   NaN   NaN    54.0     NaN           NaN     NaN    NaN"
      ]
     },
     "execution_count": 391,
     "metadata": {},
     "output_type": "execute_result"
    }
   ],
   "source": [
    "df2[df2[[\"height\"]] == 54]"
   ]
  },
  {
   "cell_type": "code",
   "execution_count": 397,
   "id": "948b2606-aa72-44bb-9c3b-86f246984b3a",
   "metadata": {},
   "outputs": [
    {
     "data": {
      "text/html": [
       "<div>\n",
       "<style scoped>\n",
       "    .dataframe tbody tr th:only-of-type {\n",
       "        vertical-align: middle;\n",
       "    }\n",
       "\n",
       "    .dataframe tbody tr th {\n",
       "        vertical-align: top;\n",
       "    }\n",
       "\n",
       "    .dataframe thead th {\n",
       "        text-align: right;\n",
       "    }\n",
       "</style>\n",
       "<table border=\"1\" class=\"dataframe\">\n",
       "  <thead>\n",
       "    <tr style=\"text-align: right;\">\n",
       "      <th></th>\n",
       "      <th>name</th>\n",
       "      <th>breed</th>\n",
       "      <th>color</th>\n",
       "      <th>height</th>\n",
       "      <th>weight</th>\n",
       "      <th>date of birth</th>\n",
       "      <th>country</th>\n",
       "      <th>cities</th>\n",
       "    </tr>\n",
       "  </thead>\n",
       "  <tbody>\n",
       "    <tr>\n",
       "      <th>104</th>\n",
       "      <td>cooper</td>\n",
       "      <td>schnauzer</td>\n",
       "      <td>gray</td>\n",
       "      <td>49</td>\n",
       "      <td>17</td>\n",
       "      <td>2011-12-11</td>\n",
       "      <td>france</td>\n",
       "      <td>paris</td>\n",
       "    </tr>\n",
       "    <tr>\n",
       "      <th>108</th>\n",
       "      <td>cele</td>\n",
       "      <td>poodle</td>\n",
       "      <td>gray</td>\n",
       "      <td>54</td>\n",
       "      <td>32</td>\n",
       "      <td>2011-06-11</td>\n",
       "      <td>iran</td>\n",
       "      <td>tehran</td>\n",
       "    </tr>\n",
       "  </tbody>\n",
       "</table>\n",
       "</div>"
      ],
      "text/plain": [
       "       name      breed color  height  weight date of birth country  cities\n",
       "104  cooper  schnauzer  gray      49      17    2011-12-11  france   paris\n",
       "108    cele     poodle  gray      54      32    2011-06-11    iran  tehran"
      ]
     },
     "execution_count": 397,
     "metadata": {},
     "output_type": "execute_result"
    }
   ],
   "source": [
    "df2[(df2[\"color\"]== 'gray') | (df2[\"cities\"]== 'tehran')]"
   ]
  },
  {
   "cell_type": "code",
   "execution_count": 399,
   "id": "6396eef7-ae13-4ff4-b9c7-9e911798fff7",
   "metadata": {},
   "outputs": [
    {
     "data": {
      "text/html": [
       "<div>\n",
       "<style scoped>\n",
       "    .dataframe tbody tr th:only-of-type {\n",
       "        vertical-align: middle;\n",
       "    }\n",
       "\n",
       "    .dataframe tbody tr th {\n",
       "        vertical-align: top;\n",
       "    }\n",
       "\n",
       "    .dataframe thead th {\n",
       "        text-align: right;\n",
       "    }\n",
       "</style>\n",
       "<table border=\"1\" class=\"dataframe\">\n",
       "  <thead>\n",
       "    <tr style=\"text-align: right;\">\n",
       "      <th></th>\n",
       "      <th>name</th>\n",
       "      <th>breed</th>\n",
       "      <th>color</th>\n",
       "      <th>height</th>\n",
       "      <th>weight</th>\n",
       "      <th>date of birth</th>\n",
       "      <th>country</th>\n",
       "      <th>cities</th>\n",
       "    </tr>\n",
       "  </thead>\n",
       "  <tbody>\n",
       "    <tr>\n",
       "      <th>106</th>\n",
       "      <td>stella</td>\n",
       "      <td>chihuahua</td>\n",
       "      <td>Tan</td>\n",
       "      <td>18</td>\n",
       "      <td>2</td>\n",
       "      <td>2015-04-20</td>\n",
       "      <td>france</td>\n",
       "      <td>paris</td>\n",
       "    </tr>\n",
       "  </tbody>\n",
       "</table>\n",
       "</div>"
      ],
      "text/plain": [
       "       name      breed color  height  weight date of birth country cities\n",
       "106  stella  chihuahua   Tan      18       2    2015-04-20  france  paris"
      ]
     },
     "execution_count": 399,
     "metadata": {},
     "output_type": "execute_result"
    }
   ],
   "source": [
    "df2[(df2[\"name\"]== \"stella\") & (df2[\"color\"]== \"Tan\")]"
   ]
  },
  {
   "cell_type": "code",
   "execution_count": 401,
   "id": "68d84595-bcdc-412a-bebe-e3c565b577d4",
   "metadata": {},
   "outputs": [
    {
     "data": {
      "text/html": [
       "<div>\n",
       "<style scoped>\n",
       "    .dataframe tbody tr th:only-of-type {\n",
       "        vertical-align: middle;\n",
       "    }\n",
       "\n",
       "    .dataframe tbody tr th {\n",
       "        vertical-align: top;\n",
       "    }\n",
       "\n",
       "    .dataframe thead th {\n",
       "        text-align: right;\n",
       "    }\n",
       "</style>\n",
       "<table border=\"1\" class=\"dataframe\">\n",
       "  <thead>\n",
       "    <tr style=\"text-align: right;\">\n",
       "      <th></th>\n",
       "      <th>name</th>\n",
       "      <th>breed</th>\n",
       "      <th>color</th>\n",
       "      <th>height</th>\n",
       "      <th>weight</th>\n",
       "      <th>date of birth</th>\n",
       "      <th>country</th>\n",
       "      <th>cities</th>\n",
       "    </tr>\n",
       "  </thead>\n",
       "  <tbody>\n",
       "    <tr>\n",
       "      <th>102</th>\n",
       "      <td>charlie</td>\n",
       "      <td>poodle</td>\n",
       "      <td>black</td>\n",
       "      <td>43</td>\n",
       "      <td>24</td>\n",
       "      <td>2016-09-16</td>\n",
       "      <td>germany</td>\n",
       "      <td>berlin</td>\n",
       "    </tr>\n",
       "    <tr>\n",
       "      <th>105</th>\n",
       "      <td>max</td>\n",
       "      <td>Labrador</td>\n",
       "      <td>black</td>\n",
       "      <td>59</td>\n",
       "      <td>29</td>\n",
       "      <td>2017-01-20</td>\n",
       "      <td>germany</td>\n",
       "      <td>berlin</td>\n",
       "    </tr>\n",
       "    <tr>\n",
       "      <th>108</th>\n",
       "      <td>cele</td>\n",
       "      <td>poodle</td>\n",
       "      <td>gray</td>\n",
       "      <td>54</td>\n",
       "      <td>32</td>\n",
       "      <td>2011-06-11</td>\n",
       "      <td>iran</td>\n",
       "      <td>tehran</td>\n",
       "    </tr>\n",
       "  </tbody>\n",
       "</table>\n",
       "</div>"
      ],
      "text/plain": [
       "        name     breed  color  height  weight date of birth  country  cities\n",
       "102  charlie    poodle  black      43      24    2016-09-16  germany  berlin\n",
       "105      max  Labrador  black      59      29    2017-01-20  germany  berlin\n",
       "108     cele    poodle   gray      54      32    2011-06-11     iran  tehran"
      ]
     },
     "execution_count": 401,
     "metadata": {},
     "output_type": "execute_result"
    }
   ],
   "source": [
    "x = np.logical_or(df2[\"name\"] == \"max\", df2[\"breed\"]== \"poodle\")\n",
    "df2[x]"
   ]
  },
  {
   "cell_type": "code",
   "execution_count": 403,
   "id": "88d77c3e-286d-455c-be36-967f4b2d54e2",
   "metadata": {},
   "outputs": [
    {
     "data": {
      "text/html": [
       "<div>\n",
       "<style scoped>\n",
       "    .dataframe tbody tr th:only-of-type {\n",
       "        vertical-align: middle;\n",
       "    }\n",
       "\n",
       "    .dataframe tbody tr th {\n",
       "        vertical-align: top;\n",
       "    }\n",
       "\n",
       "    .dataframe thead th {\n",
       "        text-align: right;\n",
       "    }\n",
       "</style>\n",
       "<table border=\"1\" class=\"dataframe\">\n",
       "  <thead>\n",
       "    <tr style=\"text-align: right;\">\n",
       "      <th></th>\n",
       "      <th>name</th>\n",
       "      <th>breed</th>\n",
       "      <th>color</th>\n",
       "      <th>height</th>\n",
       "      <th>weight</th>\n",
       "      <th>date of birth</th>\n",
       "      <th>country</th>\n",
       "      <th>cities</th>\n",
       "    </tr>\n",
       "  </thead>\n",
       "  <tbody>\n",
       "    <tr>\n",
       "      <th>108</th>\n",
       "      <td>cele</td>\n",
       "      <td>poodle</td>\n",
       "      <td>gray</td>\n",
       "      <td>54</td>\n",
       "      <td>32</td>\n",
       "      <td>2011-06-11</td>\n",
       "      <td>iran</td>\n",
       "      <td>tehran</td>\n",
       "    </tr>\n",
       "  </tbody>\n",
       "</table>\n",
       "</div>"
      ],
      "text/plain": [
       "     name   breed color  height  weight date of birth country  cities\n",
       "108  cele  poodle  gray      54      32    2011-06-11    iran  tehran"
      ]
     },
     "execution_count": 403,
     "metadata": {},
     "output_type": "execute_result"
    }
   ],
   "source": [
    "df2[np.logical_and(df2[\"name\"] == \"cele\", df2[\"breed\"]== \"poodle\")]"
   ]
  },
  {
   "cell_type": "code",
   "execution_count": 405,
   "id": "90f59056-c571-4a22-b450-84937b6be9ad",
   "metadata": {},
   "outputs": [
    {
     "data": {
      "text/html": [
       "<div>\n",
       "<style scoped>\n",
       "    .dataframe tbody tr th:only-of-type {\n",
       "        vertical-align: middle;\n",
       "    }\n",
       "\n",
       "    .dataframe tbody tr th {\n",
       "        vertical-align: top;\n",
       "    }\n",
       "\n",
       "    .dataframe thead th {\n",
       "        text-align: right;\n",
       "    }\n",
       "</style>\n",
       "<table border=\"1\" class=\"dataframe\">\n",
       "  <thead>\n",
       "    <tr style=\"text-align: right;\">\n",
       "      <th></th>\n",
       "      <th>name</th>\n",
       "      <th>breed</th>\n",
       "      <th>color</th>\n",
       "      <th>height</th>\n",
       "      <th>weight</th>\n",
       "      <th>date of birth</th>\n",
       "      <th>country</th>\n",
       "      <th>cities</th>\n",
       "    </tr>\n",
       "  </thead>\n",
       "  <tbody>\n",
       "    <tr>\n",
       "      <th>105</th>\n",
       "      <td>max</td>\n",
       "      <td>Labrador</td>\n",
       "      <td>black</td>\n",
       "      <td>59</td>\n",
       "      <td>29</td>\n",
       "      <td>2017-01-20</td>\n",
       "      <td>germany</td>\n",
       "      <td>berlin</td>\n",
       "    </tr>\n",
       "    <tr>\n",
       "      <th>106</th>\n",
       "      <td>stella</td>\n",
       "      <td>chihuahua</td>\n",
       "      <td>Tan</td>\n",
       "      <td>18</td>\n",
       "      <td>2</td>\n",
       "      <td>2015-04-20</td>\n",
       "      <td>france</td>\n",
       "      <td>paris</td>\n",
       "    </tr>\n",
       "    <tr>\n",
       "      <th>107</th>\n",
       "      <td>bernie</td>\n",
       "      <td>bernard</td>\n",
       "      <td>white</td>\n",
       "      <td>77</td>\n",
       "      <td>74</td>\n",
       "      <td>2018-02-27</td>\n",
       "      <td>iran</td>\n",
       "      <td>teharn</td>\n",
       "    </tr>\n",
       "  </tbody>\n",
       "</table>\n",
       "</div>"
      ],
      "text/plain": [
       "       name      breed  color  height  weight date of birth  country  cities\n",
       "105     max   Labrador  black      59      29    2017-01-20  germany  berlin\n",
       "106  stella  chihuahua    Tan      18       2    2015-04-20   france   paris\n",
       "107  bernie    bernard  white      77      74    2018-02-27     iran  teharn"
      ]
     },
     "execution_count": 405,
     "metadata": {},
     "output_type": "execute_result"
    }
   ],
   "source": [
    "#.isin\n",
    "df2[df2[\"height\"].isin([18, 59, 77])]"
   ]
  },
  {
   "cell_type": "code",
   "execution_count": 407,
   "id": "92f224a1-0375-4e94-94e8-ee4b5792ccfd",
   "metadata": {},
   "outputs": [
    {
     "data": {
      "text/plain": [
       "50.25"
      ]
     },
     "execution_count": 407,
     "metadata": {},
     "output_type": "execute_result"
    }
   ],
   "source": [
    "df2[\"height\"].mean()"
   ]
  },
  {
   "cell_type": "code",
   "execution_count": 409,
   "id": "de14d613-c3aa-4c16-8e7b-2193f22c9579",
   "metadata": {},
   "outputs": [
    {
     "data": {
      "text/html": [
       "<div>\n",
       "<style scoped>\n",
       "    .dataframe tbody tr th:only-of-type {\n",
       "        vertical-align: middle;\n",
       "    }\n",
       "\n",
       "    .dataframe tbody tr th {\n",
       "        vertical-align: top;\n",
       "    }\n",
       "\n",
       "    .dataframe thead th {\n",
       "        text-align: right;\n",
       "    }\n",
       "</style>\n",
       "<table border=\"1\" class=\"dataframe\">\n",
       "  <thead>\n",
       "    <tr style=\"text-align: right;\">\n",
       "      <th></th>\n",
       "      <th>name</th>\n",
       "      <th>breed</th>\n",
       "      <th>color</th>\n",
       "      <th>height</th>\n",
       "      <th>weight</th>\n",
       "      <th>date of birth</th>\n",
       "      <th>country</th>\n",
       "      <th>cities</th>\n",
       "    </tr>\n",
       "  </thead>\n",
       "  <tbody>\n",
       "    <tr>\n",
       "      <th>105</th>\n",
       "      <td>max</td>\n",
       "      <td>Labrador</td>\n",
       "      <td>black</td>\n",
       "      <td>59</td>\n",
       "      <td>29</td>\n",
       "      <td>2017-01-20</td>\n",
       "      <td>germany</td>\n",
       "      <td>berlin</td>\n",
       "    </tr>\n",
       "    <tr>\n",
       "      <th>107</th>\n",
       "      <td>bernie</td>\n",
       "      <td>bernard</td>\n",
       "      <td>white</td>\n",
       "      <td>77</td>\n",
       "      <td>74</td>\n",
       "      <td>2018-02-27</td>\n",
       "      <td>iran</td>\n",
       "      <td>teharn</td>\n",
       "    </tr>\n",
       "    <tr>\n",
       "      <th>108</th>\n",
       "      <td>cele</td>\n",
       "      <td>poodle</td>\n",
       "      <td>gray</td>\n",
       "      <td>54</td>\n",
       "      <td>32</td>\n",
       "      <td>2011-06-11</td>\n",
       "      <td>iran</td>\n",
       "      <td>tehran</td>\n",
       "    </tr>\n",
       "  </tbody>\n",
       "</table>\n",
       "</div>"
      ],
      "text/plain": [
       "       name     breed  color  height  weight date of birth  country  cities\n",
       "105     max  Labrador  black      59      29    2017-01-20  germany  berlin\n",
       "107  bernie   bernard  white      77      74    2018-02-27     iran  teharn\n",
       "108    cele    poodle   gray      54      32    2011-06-11     iran  tehran"
      ]
     },
     "execution_count": 409,
     "metadata": {},
     "output_type": "execute_result"
    }
   ],
   "source": [
    "df2[df2['weight']> 25]"
   ]
  },
  {
   "cell_type": "code",
   "execution_count": 411,
   "id": "c0e46837-c7c3-4701-a6f8-7a5ec2a37c95",
   "metadata": {},
   "outputs": [
    {
     "data": {
      "text/html": [
       "<div>\n",
       "<style scoped>\n",
       "    .dataframe tbody tr th:only-of-type {\n",
       "        vertical-align: middle;\n",
       "    }\n",
       "\n",
       "    .dataframe tbody tr th {\n",
       "        vertical-align: top;\n",
       "    }\n",
       "\n",
       "    .dataframe thead th {\n",
       "        text-align: right;\n",
       "    }\n",
       "</style>\n",
       "<table border=\"1\" class=\"dataframe\">\n",
       "  <thead>\n",
       "    <tr style=\"text-align: right;\">\n",
       "      <th></th>\n",
       "      <th>name</th>\n",
       "      <th>breed</th>\n",
       "      <th>color</th>\n",
       "      <th>height</th>\n",
       "      <th>weight</th>\n",
       "      <th>date of birth</th>\n",
       "      <th>country</th>\n",
       "      <th>cities</th>\n",
       "    </tr>\n",
       "  </thead>\n",
       "  <tbody>\n",
       "    <tr>\n",
       "      <th>106</th>\n",
       "      <td>stella</td>\n",
       "      <td>chihuahua</td>\n",
       "      <td>Tan</td>\n",
       "      <td>18</td>\n",
       "      <td>2</td>\n",
       "      <td>2015-04-20</td>\n",
       "      <td>france</td>\n",
       "      <td>paris</td>\n",
       "    </tr>\n",
       "    <tr>\n",
       "      <th>104</th>\n",
       "      <td>cooper</td>\n",
       "      <td>schnauzer</td>\n",
       "      <td>gray</td>\n",
       "      <td>49</td>\n",
       "      <td>17</td>\n",
       "      <td>2011-12-11</td>\n",
       "      <td>france</td>\n",
       "      <td>paris</td>\n",
       "    </tr>\n",
       "    <tr>\n",
       "      <th>101</th>\n",
       "      <td>bella</td>\n",
       "      <td>Labrador</td>\n",
       "      <td>brown</td>\n",
       "      <td>56</td>\n",
       "      <td>24</td>\n",
       "      <td>2013-07-01</td>\n",
       "      <td>iran</td>\n",
       "      <td>teharn</td>\n",
       "    </tr>\n",
       "    <tr>\n",
       "      <th>102</th>\n",
       "      <td>charlie</td>\n",
       "      <td>poodle</td>\n",
       "      <td>black</td>\n",
       "      <td>43</td>\n",
       "      <td>24</td>\n",
       "      <td>2016-09-16</td>\n",
       "      <td>germany</td>\n",
       "      <td>berlin</td>\n",
       "    </tr>\n",
       "    <tr>\n",
       "      <th>103</th>\n",
       "      <td>lucy</td>\n",
       "      <td>chow chow</td>\n",
       "      <td>brown</td>\n",
       "      <td>46</td>\n",
       "      <td>24</td>\n",
       "      <td>2014-08-25</td>\n",
       "      <td>france</td>\n",
       "      <td>paris</td>\n",
       "    </tr>\n",
       "    <tr>\n",
       "      <th>105</th>\n",
       "      <td>max</td>\n",
       "      <td>Labrador</td>\n",
       "      <td>black</td>\n",
       "      <td>59</td>\n",
       "      <td>29</td>\n",
       "      <td>2017-01-20</td>\n",
       "      <td>germany</td>\n",
       "      <td>berlin</td>\n",
       "    </tr>\n",
       "    <tr>\n",
       "      <th>108</th>\n",
       "      <td>cele</td>\n",
       "      <td>poodle</td>\n",
       "      <td>gray</td>\n",
       "      <td>54</td>\n",
       "      <td>32</td>\n",
       "      <td>2011-06-11</td>\n",
       "      <td>iran</td>\n",
       "      <td>tehran</td>\n",
       "    </tr>\n",
       "    <tr>\n",
       "      <th>107</th>\n",
       "      <td>bernie</td>\n",
       "      <td>bernard</td>\n",
       "      <td>white</td>\n",
       "      <td>77</td>\n",
       "      <td>74</td>\n",
       "      <td>2018-02-27</td>\n",
       "      <td>iran</td>\n",
       "      <td>teharn</td>\n",
       "    </tr>\n",
       "  </tbody>\n",
       "</table>\n",
       "</div>"
      ],
      "text/plain": [
       "        name      breed  color  height  weight date of birth  country  cities\n",
       "106   stella  chihuahua    Tan      18       2    2015-04-20   france   paris\n",
       "104   cooper  schnauzer   gray      49      17    2011-12-11   france   paris\n",
       "101    bella   Labrador  brown      56      24    2013-07-01     iran  teharn\n",
       "102  charlie     poodle  black      43      24    2016-09-16  germany  berlin\n",
       "103     lucy  chow chow  brown      46      24    2014-08-25   france   paris\n",
       "105      max   Labrador  black      59      29    2017-01-20  germany  berlin\n",
       "108     cele     poodle   gray      54      32    2011-06-11     iran  tehran\n",
       "107   bernie    bernard  white      77      74    2018-02-27     iran  teharn"
      ]
     },
     "execution_count": 411,
     "metadata": {},
     "output_type": "execute_result"
    }
   ],
   "source": [
    "df3 = df2.sort_values(by = \"weight\")\n",
    "df3"
   ]
  },
  {
   "cell_type": "code",
   "execution_count": 413,
   "id": "5a465687-44f2-4610-9363-ba563fa7f006",
   "metadata": {},
   "outputs": [
    {
     "data": {
      "text/html": [
       "<div>\n",
       "<style scoped>\n",
       "    .dataframe tbody tr th:only-of-type {\n",
       "        vertical-align: middle;\n",
       "    }\n",
       "\n",
       "    .dataframe tbody tr th {\n",
       "        vertical-align: top;\n",
       "    }\n",
       "\n",
       "    .dataframe thead th {\n",
       "        text-align: right;\n",
       "    }\n",
       "</style>\n",
       "<table border=\"1\" class=\"dataframe\">\n",
       "  <thead>\n",
       "    <tr style=\"text-align: right;\">\n",
       "      <th></th>\n",
       "      <th>name</th>\n",
       "      <th>breed</th>\n",
       "      <th>color</th>\n",
       "      <th>height</th>\n",
       "      <th>weight</th>\n",
       "      <th>date of birth</th>\n",
       "      <th>country</th>\n",
       "      <th>cities</th>\n",
       "    </tr>\n",
       "  </thead>\n",
       "  <tbody>\n",
       "    <tr>\n",
       "      <th>0</th>\n",
       "      <td>stella</td>\n",
       "      <td>chihuahua</td>\n",
       "      <td>Tan</td>\n",
       "      <td>18</td>\n",
       "      <td>2</td>\n",
       "      <td>2015-04-20</td>\n",
       "      <td>france</td>\n",
       "      <td>paris</td>\n",
       "    </tr>\n",
       "    <tr>\n",
       "      <th>1</th>\n",
       "      <td>cooper</td>\n",
       "      <td>schnauzer</td>\n",
       "      <td>gray</td>\n",
       "      <td>49</td>\n",
       "      <td>17</td>\n",
       "      <td>2011-12-11</td>\n",
       "      <td>france</td>\n",
       "      <td>paris</td>\n",
       "    </tr>\n",
       "    <tr>\n",
       "      <th>2</th>\n",
       "      <td>bella</td>\n",
       "      <td>Labrador</td>\n",
       "      <td>brown</td>\n",
       "      <td>56</td>\n",
       "      <td>24</td>\n",
       "      <td>2013-07-01</td>\n",
       "      <td>iran</td>\n",
       "      <td>teharn</td>\n",
       "    </tr>\n",
       "    <tr>\n",
       "      <th>3</th>\n",
       "      <td>charlie</td>\n",
       "      <td>poodle</td>\n",
       "      <td>black</td>\n",
       "      <td>43</td>\n",
       "      <td>24</td>\n",
       "      <td>2016-09-16</td>\n",
       "      <td>germany</td>\n",
       "      <td>berlin</td>\n",
       "    </tr>\n",
       "    <tr>\n",
       "      <th>4</th>\n",
       "      <td>lucy</td>\n",
       "      <td>chow chow</td>\n",
       "      <td>brown</td>\n",
       "      <td>46</td>\n",
       "      <td>24</td>\n",
       "      <td>2014-08-25</td>\n",
       "      <td>france</td>\n",
       "      <td>paris</td>\n",
       "    </tr>\n",
       "    <tr>\n",
       "      <th>5</th>\n",
       "      <td>max</td>\n",
       "      <td>Labrador</td>\n",
       "      <td>black</td>\n",
       "      <td>59</td>\n",
       "      <td>29</td>\n",
       "      <td>2017-01-20</td>\n",
       "      <td>germany</td>\n",
       "      <td>berlin</td>\n",
       "    </tr>\n",
       "    <tr>\n",
       "      <th>6</th>\n",
       "      <td>cele</td>\n",
       "      <td>poodle</td>\n",
       "      <td>gray</td>\n",
       "      <td>54</td>\n",
       "      <td>32</td>\n",
       "      <td>2011-06-11</td>\n",
       "      <td>iran</td>\n",
       "      <td>tehran</td>\n",
       "    </tr>\n",
       "    <tr>\n",
       "      <th>7</th>\n",
       "      <td>bernie</td>\n",
       "      <td>bernard</td>\n",
       "      <td>white</td>\n",
       "      <td>77</td>\n",
       "      <td>74</td>\n",
       "      <td>2018-02-27</td>\n",
       "      <td>iran</td>\n",
       "      <td>teharn</td>\n",
       "    </tr>\n",
       "  </tbody>\n",
       "</table>\n",
       "</div>"
      ],
      "text/plain": [
       "      name      breed  color  height  weight date of birth  country  cities\n",
       "0   stella  chihuahua    Tan      18       2    2015-04-20   france   paris\n",
       "1   cooper  schnauzer   gray      49      17    2011-12-11   france   paris\n",
       "2    bella   Labrador  brown      56      24    2013-07-01     iran  teharn\n",
       "3  charlie     poodle  black      43      24    2016-09-16  germany  berlin\n",
       "4     lucy  chow chow  brown      46      24    2014-08-25   france   paris\n",
       "5      max   Labrador  black      59      29    2017-01-20  germany  berlin\n",
       "6     cele     poodle   gray      54      32    2011-06-11     iran  tehran\n",
       "7   bernie    bernard  white      77      74    2018-02-27     iran  teharn"
      ]
     },
     "execution_count": 413,
     "metadata": {},
     "output_type": "execute_result"
    }
   ],
   "source": [
    "df3.reset_index(drop = True)"
   ]
  },
  {
   "cell_type": "code",
   "execution_count": 415,
   "id": "da182410-762a-4ede-9d66-5f346df225ac",
   "metadata": {},
   "outputs": [
    {
     "data": {
      "text/html": [
       "<div>\n",
       "<style scoped>\n",
       "    .dataframe tbody tr th:only-of-type {\n",
       "        vertical-align: middle;\n",
       "    }\n",
       "\n",
       "    .dataframe tbody tr th {\n",
       "        vertical-align: top;\n",
       "    }\n",
       "\n",
       "    .dataframe thead th {\n",
       "        text-align: right;\n",
       "    }\n",
       "</style>\n",
       "<table border=\"1\" class=\"dataframe\">\n",
       "  <thead>\n",
       "    <tr style=\"text-align: right;\">\n",
       "      <th></th>\n",
       "      <th>weight</th>\n",
       "    </tr>\n",
       "    <tr>\n",
       "      <th>color</th>\n",
       "      <th></th>\n",
       "    </tr>\n",
       "  </thead>\n",
       "  <tbody>\n",
       "    <tr>\n",
       "      <th>Tan</th>\n",
       "      <td>2.0</td>\n",
       "    </tr>\n",
       "    <tr>\n",
       "      <th>black</th>\n",
       "      <td>26.5</td>\n",
       "    </tr>\n",
       "    <tr>\n",
       "      <th>brown</th>\n",
       "      <td>24.0</td>\n",
       "    </tr>\n",
       "    <tr>\n",
       "      <th>gray</th>\n",
       "      <td>24.5</td>\n",
       "    </tr>\n",
       "    <tr>\n",
       "      <th>white</th>\n",
       "      <td>74.0</td>\n",
       "    </tr>\n",
       "  </tbody>\n",
       "</table>\n",
       "</div>"
      ],
      "text/plain": [
       "       weight\n",
       "color        \n",
       "Tan       2.0\n",
       "black    26.5\n",
       "brown    24.0\n",
       "gray     24.5\n",
       "white    74.0"
      ]
     },
     "execution_count": 415,
     "metadata": {},
     "output_type": "execute_result"
    }
   ],
   "source": [
    "df2.pivot_table(values = \"weight\", index = \"color\", aggfunc = \"mean\")"
   ]
  },
  {
   "cell_type": "code",
   "execution_count": 417,
   "id": "a1a22f7c-b8fe-476e-b9f0-2dc9b2cfbc08",
   "metadata": {},
   "outputs": [
    {
     "data": {
      "text/html": [
       "<div>\n",
       "<style scoped>\n",
       "    .dataframe tbody tr th:only-of-type {\n",
       "        vertical-align: middle;\n",
       "    }\n",
       "\n",
       "    .dataframe tbody tr th {\n",
       "        vertical-align: top;\n",
       "    }\n",
       "\n",
       "    .dataframe thead th {\n",
       "        text-align: right;\n",
       "    }\n",
       "</style>\n",
       "<table border=\"1\" class=\"dataframe\">\n",
       "  <thead>\n",
       "    <tr style=\"text-align: right;\">\n",
       "      <th></th>\n",
       "      <th>weight</th>\n",
       "    </tr>\n",
       "    <tr>\n",
       "      <th>color</th>\n",
       "      <th></th>\n",
       "    </tr>\n",
       "  </thead>\n",
       "  <tbody>\n",
       "    <tr>\n",
       "      <th>Tan</th>\n",
       "      <td>2.0</td>\n",
       "    </tr>\n",
       "    <tr>\n",
       "      <th>black</th>\n",
       "      <td>26.5</td>\n",
       "    </tr>\n",
       "    <tr>\n",
       "      <th>brown</th>\n",
       "      <td>24.0</td>\n",
       "    </tr>\n",
       "    <tr>\n",
       "      <th>gray</th>\n",
       "      <td>24.5</td>\n",
       "    </tr>\n",
       "    <tr>\n",
       "      <th>white</th>\n",
       "      <td>74.0</td>\n",
       "    </tr>\n",
       "  </tbody>\n",
       "</table>\n",
       "</div>"
      ],
      "text/plain": [
       "       weight\n",
       "color        \n",
       "Tan       2.0\n",
       "black    26.5\n",
       "brown    24.0\n",
       "gray     24.5\n",
       "white    74.0"
      ]
     },
     "execution_count": 417,
     "metadata": {},
     "output_type": "execute_result"
    }
   ],
   "source": [
    "pd.DataFrame(df2.groupby('color')[\"weight\"].mean())"
   ]
  },
  {
   "cell_type": "code",
   "execution_count": 419,
   "id": "decab2bf-5527-4fd6-aa1d-995fb518b7d6",
   "metadata": {},
   "outputs": [
    {
     "data": {
      "text/html": [
       "<div>\n",
       "<style scoped>\n",
       "    .dataframe tbody tr th:only-of-type {\n",
       "        vertical-align: middle;\n",
       "    }\n",
       "\n",
       "    .dataframe tbody tr th {\n",
       "        vertical-align: top;\n",
       "    }\n",
       "\n",
       "    .dataframe thead th {\n",
       "        text-align: right;\n",
       "    }\n",
       "</style>\n",
       "<table border=\"1\" class=\"dataframe\">\n",
       "  <thead>\n",
       "    <tr style=\"text-align: right;\">\n",
       "      <th></th>\n",
       "      <th></th>\n",
       "      <th>weight</th>\n",
       "    </tr>\n",
       "    <tr>\n",
       "      <th>country</th>\n",
       "      <th>color</th>\n",
       "      <th></th>\n",
       "    </tr>\n",
       "  </thead>\n",
       "  <tbody>\n",
       "    <tr>\n",
       "      <th rowspan=\"3\" valign=\"top\">france</th>\n",
       "      <th>Tan</th>\n",
       "      <td>2.0</td>\n",
       "    </tr>\n",
       "    <tr>\n",
       "      <th>brown</th>\n",
       "      <td>24.0</td>\n",
       "    </tr>\n",
       "    <tr>\n",
       "      <th>gray</th>\n",
       "      <td>17.0</td>\n",
       "    </tr>\n",
       "    <tr>\n",
       "      <th>germany</th>\n",
       "      <th>black</th>\n",
       "      <td>26.5</td>\n",
       "    </tr>\n",
       "    <tr>\n",
       "      <th rowspan=\"3\" valign=\"top\">iran</th>\n",
       "      <th>brown</th>\n",
       "      <td>24.0</td>\n",
       "    </tr>\n",
       "    <tr>\n",
       "      <th>gray</th>\n",
       "      <td>32.0</td>\n",
       "    </tr>\n",
       "    <tr>\n",
       "      <th>white</th>\n",
       "      <td>74.0</td>\n",
       "    </tr>\n",
       "  </tbody>\n",
       "</table>\n",
       "</div>"
      ],
      "text/plain": [
       "               weight\n",
       "country color        \n",
       "france  Tan       2.0\n",
       "        brown    24.0\n",
       "        gray     17.0\n",
       "germany black    26.5\n",
       "iran    brown    24.0\n",
       "        gray     32.0\n",
       "        white    74.0"
      ]
     },
     "execution_count": 419,
     "metadata": {},
     "output_type": "execute_result"
    }
   ],
   "source": [
    "pd.DataFrame(df2.groupby([\"country\", \"color\"])[\"weight\"].mean())"
   ]
  },
  {
   "cell_type": "code",
   "execution_count": 421,
   "id": "279a4072-bdba-493c-b589-a46947196f97",
   "metadata": {},
   "outputs": [
    {
     "data": {
      "text/plain": [
       "color\n",
       "Tan       2.0\n",
       "black    26.5\n",
       "brown    24.0\n",
       "gray     24.5\n",
       "white    74.0\n",
       "Name: weight, dtype: float64"
      ]
     },
     "execution_count": 421,
     "metadata": {},
     "output_type": "execute_result"
    }
   ],
   "source": [
    "df2.groupby(\"color\")[\"weight\"].mean()"
   ]
  },
  {
   "cell_type": "code",
   "execution_count": 423,
   "id": "f4bb44ee-b2de-469d-a87d-7ce7a6b4b026",
   "metadata": {},
   "outputs": [
    {
     "data": {
      "text/html": [
       "<div>\n",
       "<style scoped>\n",
       "    .dataframe tbody tr th:only-of-type {\n",
       "        vertical-align: middle;\n",
       "    }\n",
       "\n",
       "    .dataframe tbody tr th {\n",
       "        vertical-align: top;\n",
       "    }\n",
       "\n",
       "    .dataframe thead th {\n",
       "        text-align: right;\n",
       "    }\n",
       "</style>\n",
       "<table border=\"1\" class=\"dataframe\">\n",
       "  <thead>\n",
       "    <tr style=\"text-align: right;\">\n",
       "      <th></th>\n",
       "      <th>weight</th>\n",
       "    </tr>\n",
       "    <tr>\n",
       "      <th>color</th>\n",
       "      <th></th>\n",
       "    </tr>\n",
       "  </thead>\n",
       "  <tbody>\n",
       "    <tr>\n",
       "      <th>Tan</th>\n",
       "      <td>2.0</td>\n",
       "    </tr>\n",
       "    <tr>\n",
       "      <th>black</th>\n",
       "      <td>26.5</td>\n",
       "    </tr>\n",
       "    <tr>\n",
       "      <th>brown</th>\n",
       "      <td>24.0</td>\n",
       "    </tr>\n",
       "    <tr>\n",
       "      <th>gray</th>\n",
       "      <td>24.5</td>\n",
       "    </tr>\n",
       "    <tr>\n",
       "      <th>white</th>\n",
       "      <td>74.0</td>\n",
       "    </tr>\n",
       "  </tbody>\n",
       "</table>\n",
       "</div>"
      ],
      "text/plain": [
       "       weight\n",
       "color        \n",
       "Tan       2.0\n",
       "black    26.5\n",
       "brown    24.0\n",
       "gray     24.5\n",
       "white    74.0"
      ]
     },
     "execution_count": 423,
     "metadata": {},
     "output_type": "execute_result"
    }
   ],
   "source": [
    "pd.DataFrame(df2.groupby(\"color\")[\"weight\"].mean())"
   ]
  },
  {
   "cell_type": "code",
   "execution_count": 425,
   "id": "b74c0748-88a3-4579-bc85-067e9104db7b",
   "metadata": {},
   "outputs": [
    {
     "name": "stderr",
     "output_type": "stream",
     "text": [
      "/var/folders/8v/j04s7d697pbchpncxsv_q5zw0000gn/T/ipykernel_1783/1035039177.py:1: FutureWarning: The provided callable <built-in function min> is currently using SeriesGroupBy.min. In a future version of pandas, the provided callable will be used directly. To keep current behavior pass the string \"min\" instead.\n",
      "  df2.groupby(\"color\")[\"weight\"].agg([min, max])\n",
      "/var/folders/8v/j04s7d697pbchpncxsv_q5zw0000gn/T/ipykernel_1783/1035039177.py:1: FutureWarning: The provided callable <built-in function max> is currently using SeriesGroupBy.max. In a future version of pandas, the provided callable will be used directly. To keep current behavior pass the string \"max\" instead.\n",
      "  df2.groupby(\"color\")[\"weight\"].agg([min, max])\n"
     ]
    },
    {
     "data": {
      "text/html": [
       "<div>\n",
       "<style scoped>\n",
       "    .dataframe tbody tr th:only-of-type {\n",
       "        vertical-align: middle;\n",
       "    }\n",
       "\n",
       "    .dataframe tbody tr th {\n",
       "        vertical-align: top;\n",
       "    }\n",
       "\n",
       "    .dataframe thead th {\n",
       "        text-align: right;\n",
       "    }\n",
       "</style>\n",
       "<table border=\"1\" class=\"dataframe\">\n",
       "  <thead>\n",
       "    <tr style=\"text-align: right;\">\n",
       "      <th></th>\n",
       "      <th>min</th>\n",
       "      <th>max</th>\n",
       "    </tr>\n",
       "    <tr>\n",
       "      <th>color</th>\n",
       "      <th></th>\n",
       "      <th></th>\n",
       "    </tr>\n",
       "  </thead>\n",
       "  <tbody>\n",
       "    <tr>\n",
       "      <th>Tan</th>\n",
       "      <td>2</td>\n",
       "      <td>2</td>\n",
       "    </tr>\n",
       "    <tr>\n",
       "      <th>black</th>\n",
       "      <td>24</td>\n",
       "      <td>29</td>\n",
       "    </tr>\n",
       "    <tr>\n",
       "      <th>brown</th>\n",
       "      <td>24</td>\n",
       "      <td>24</td>\n",
       "    </tr>\n",
       "    <tr>\n",
       "      <th>gray</th>\n",
       "      <td>17</td>\n",
       "      <td>32</td>\n",
       "    </tr>\n",
       "    <tr>\n",
       "      <th>white</th>\n",
       "      <td>74</td>\n",
       "      <td>74</td>\n",
       "    </tr>\n",
       "  </tbody>\n",
       "</table>\n",
       "</div>"
      ],
      "text/plain": [
       "       min  max\n",
       "color          \n",
       "Tan      2    2\n",
       "black   24   29\n",
       "brown   24   24\n",
       "gray    17   32\n",
       "white   74   74"
      ]
     },
     "execution_count": 425,
     "metadata": {},
     "output_type": "execute_result"
    }
   ],
   "source": [
    "df2.groupby(\"color\")[\"weight\"].agg([min, max])"
   ]
  },
  {
   "cell_type": "code",
   "execution_count": 427,
   "id": "51e08e19-28a3-4f14-8db6-53da557f6753",
   "metadata": {},
   "outputs": [
    {
     "data": {
      "text/html": [
       "<div>\n",
       "<style scoped>\n",
       "    .dataframe tbody tr th:only-of-type {\n",
       "        vertical-align: middle;\n",
       "    }\n",
       "\n",
       "    .dataframe tbody tr th {\n",
       "        vertical-align: top;\n",
       "    }\n",
       "\n",
       "    .dataframe thead th {\n",
       "        text-align: right;\n",
       "    }\n",
       "</style>\n",
       "<table border=\"1\" class=\"dataframe\">\n",
       "  <thead>\n",
       "    <tr style=\"text-align: right;\">\n",
       "      <th></th>\n",
       "      <th></th>\n",
       "      <th>weight</th>\n",
       "      <th>height</th>\n",
       "    </tr>\n",
       "    <tr>\n",
       "      <th>color</th>\n",
       "      <th>breed</th>\n",
       "      <th></th>\n",
       "      <th></th>\n",
       "    </tr>\n",
       "  </thead>\n",
       "  <tbody>\n",
       "    <tr>\n",
       "      <th>Tan</th>\n",
       "      <th>chihuahua</th>\n",
       "      <td>2.0</td>\n",
       "      <td>18.0</td>\n",
       "    </tr>\n",
       "    <tr>\n",
       "      <th rowspan=\"2\" valign=\"top\">black</th>\n",
       "      <th>Labrador</th>\n",
       "      <td>29.0</td>\n",
       "      <td>59.0</td>\n",
       "    </tr>\n",
       "    <tr>\n",
       "      <th>poodle</th>\n",
       "      <td>24.0</td>\n",
       "      <td>43.0</td>\n",
       "    </tr>\n",
       "    <tr>\n",
       "      <th rowspan=\"2\" valign=\"top\">brown</th>\n",
       "      <th>Labrador</th>\n",
       "      <td>24.0</td>\n",
       "      <td>56.0</td>\n",
       "    </tr>\n",
       "    <tr>\n",
       "      <th>chow chow</th>\n",
       "      <td>24.0</td>\n",
       "      <td>46.0</td>\n",
       "    </tr>\n",
       "    <tr>\n",
       "      <th rowspan=\"2\" valign=\"top\">gray</th>\n",
       "      <th>poodle</th>\n",
       "      <td>32.0</td>\n",
       "      <td>54.0</td>\n",
       "    </tr>\n",
       "    <tr>\n",
       "      <th>schnauzer</th>\n",
       "      <td>17.0</td>\n",
       "      <td>49.0</td>\n",
       "    </tr>\n",
       "    <tr>\n",
       "      <th>white</th>\n",
       "      <th>bernard</th>\n",
       "      <td>74.0</td>\n",
       "      <td>77.0</td>\n",
       "    </tr>\n",
       "  </tbody>\n",
       "</table>\n",
       "</div>"
      ],
      "text/plain": [
       "                 weight  height\n",
       "color breed                    \n",
       "Tan   chihuahua     2.0    18.0\n",
       "black Labrador     29.0    59.0\n",
       "      poodle       24.0    43.0\n",
       "brown Labrador     24.0    56.0\n",
       "      chow chow    24.0    46.0\n",
       "gray  poodle       32.0    54.0\n",
       "      schnauzer    17.0    49.0\n",
       "white bernard      74.0    77.0"
      ]
     },
     "execution_count": 427,
     "metadata": {},
     "output_type": "execute_result"
    }
   ],
   "source": [
    "df2.groupby([\"color\", \"breed\"])[[\"weight\", \"height\"]].mean()"
   ]
  },
  {
   "cell_type": "markdown",
   "id": "14a78c86-8363-4827-b631-66accaeb6faa",
   "metadata": {},
   "source": [
    "<h2>4. Control Flow</h2>\n",
    "\n",
    "<p>Control flow tools let you decide the order in which code runs.</p>\n",
    "\n",
    "<h3>If Statements</h3>\n",
    "<p>Used for making decisions in code (branching).</p>\n",
    "\n",
    "<h3>Loops</h3>\n",
    "<p>Used for repeating code:</p>\n",
    "<ul>\n",
    "  <li><b>while</b> → repeat while a condition is true.</li>\n",
    "  <li><b>for</b> → repeat for each element in a sequence.</li>\n",
    "</ul>\n"
   ]
  },
  {
   "cell_type": "code",
   "execution_count": 438,
   "id": "2f6d6794-0610-4266-a2a9-026f6ded1991",
   "metadata": {},
   "outputs": [
    {
     "name": "stdout",
     "output_type": "stream",
     "text": [
      "it is even\n"
     ]
    }
   ],
   "source": [
    "a = 10\n",
    "if a%2 == 0:\n",
    "    # do something\n",
    "    print('it is even')\n",
    "elif a%3 == 0:\n",
    "    # do something else\n",
    "    print('it is not even')\n",
    "else:\n",
    "    # do another thing\n",
    "    print('it is add')\n"
   ]
  },
  {
   "cell_type": "code",
   "execution_count": 1,
   "id": "13ba7b94-2873-4788-9d5c-e7fb807f48a8",
   "metadata": {},
   "outputs": [
    {
     "name": "stdout",
     "output_type": "stream",
     "text": [
      "1\n",
      "2\n",
      "3\n",
      "4\n",
      "5\n"
     ]
    }
   ],
   "source": [
    "i = 1\n",
    "while i < 6:\n",
    "    print(i)\n",
    "    i+=1"
   ]
  },
  {
   "cell_type": "code",
   "execution_count": 3,
   "id": "dccf386c-db5d-4325-806f-3b2aad76faf0",
   "metadata": {},
   "outputs": [
    {
     "name": "stdout",
     "output_type": "stream",
     "text": [
      "1\n",
      "2\n"
     ]
    }
   ],
   "source": [
    "i = 1\n",
    "while i < 6:\n",
    "    print(i)\n",
    "    i+=1\n",
    "    if i == 3:\n",
    "        break"
   ]
  },
  {
   "cell_type": "code",
   "execution_count": 5,
   "id": "02862314-f1e9-4301-a941-249d72ec9884",
   "metadata": {},
   "outputs": [
    {
     "data": {
      "text/plain": [
       "[1.73, 1.85, 1.92, 1, 21]"
      ]
     },
     "execution_count": 5,
     "metadata": {},
     "output_type": "execute_result"
    }
   ],
   "source": [
    "fam = [1.73, 1.85, 1.92, 1,21]\n",
    "fam"
   ]
  },
  {
   "cell_type": "code",
   "execution_count": 7,
   "id": "8ca207e8-6def-483c-89e4-80fa44a172e4",
   "metadata": {},
   "outputs": [
    {
     "name": "stdout",
     "output_type": "stream",
     "text": [
      "1.73\n",
      "1.85\n",
      "1.92\n",
      "1\n",
      "21\n"
     ]
    }
   ],
   "source": [
    "for i in fam:\n",
    "    print(i)"
   ]
  },
  {
   "cell_type": "markdown",
   "id": "5aeda9aa-931b-4c91-ba8c-b89dfe18504e",
   "metadata": {},
   "source": [
    "<h2>Functions</h2>\n",
    "<p>Functions allow reusing code and organizing logic.</p>"
   ]
  },
  {
   "cell_type": "code",
   "execution_count": 16,
   "id": "8d848c39-81a7-4fdd-802f-e91351814fd9",
   "metadata": {},
   "outputs": [
    {
     "name": "stdout",
     "output_type": "stream",
     "text": [
      "12\n"
     ]
    }
   ],
   "source": [
    "def add_numbers(a, b):\n",
    "    return a + b\n",
    "\n",
    "print(add_numbers(5, 7)) "
   ]
  },
  {
   "cell_type": "code",
   "execution_count": null,
   "id": "9349f799-d744-465b-8025-1f055945055c",
   "metadata": {},
   "outputs": [],
   "source": []
  },
  {
   "cell_type": "code",
   "execution_count": null,
   "id": "3992c0e5-ec9b-4884-9b4e-10f76ac07b81",
   "metadata": {},
   "outputs": [],
   "source": []
  },
  {
   "cell_type": "code",
   "execution_count": null,
   "id": "ddebe394-b479-4007-bb77-6e9c4f384307",
   "metadata": {},
   "outputs": [],
   "source": []
  },
  {
   "cell_type": "code",
   "execution_count": null,
   "id": "3afdbf53-6397-466b-b238-fe919b716d14",
   "metadata": {},
   "outputs": [],
   "source": []
  }
 ],
 "metadata": {
  "kernelspec": {
   "display_name": "Python [conda env:base] *",
   "language": "python",
   "name": "conda-base-py"
  },
  "language_info": {
   "codemirror_mode": {
    "name": "ipython",
    "version": 3
   },
   "file_extension": ".py",
   "mimetype": "text/x-python",
   "name": "python",
   "nbconvert_exporter": "python",
   "pygments_lexer": "ipython3",
   "version": "3.12.7"
  }
 },
 "nbformat": 4,
 "nbformat_minor": 5
}
